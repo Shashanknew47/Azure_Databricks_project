{
 "cells": [
  {
   "cell_type": "markdown",
   "metadata": {
    "application/vnd.databricks.v1+cell": {
     "cellMetadata": {
      "byteLimit": 2048000,
      "rowLimit": 10000
     },
     "inputWidgets": {},
     "nuid": "b84d3758-b6aa-4ac6-902d-35d0e87534b7",
     "showTitle": false,
     "title": ""
    }
   },
   "source": [
    "### Notebook workflow"
   ]
  },
  {
   "cell_type": "markdown",
   "metadata": {
    "application/vnd.databricks.v1+cell": {
     "cellMetadata": {
      "byteLimit": 2048000,
      "rowLimit": 10000
     },
     "inputWidgets": {},
     "nuid": "4c0068ca-09e1-48b4-9e77-dbaf31f15509",
     "showTitle": false,
     "title": ""
    }
   },
   "source": [
    "Databricks offers jobs that you can schdule to run a specific time at regular intervals,  but it lacks lot of functionality \n",
    "ex. you can't create dependencies betweek the job. \n",
    "\n",
    "=> to address that Databricks offers notebook utility, which lets you create 'Notebook workflow'. Use this for testing purposes.\n",
    "\n",
    "=> it also is also not a very tools So, for production use ADF"
   ]
  },
  {
   "cell_type": "code",
   "execution_count": 0,
   "metadata": {
    "application/vnd.databricks.v1+cell": {
     "cellMetadata": {
      "byteLimit": 2048000,
      "rowLimit": 10000
     },
     "inputWidgets": {},
     "nuid": "19557a15-8a1d-4872-b1aa-75e5fd410757",
     "showTitle": false,
     "title": ""
    }
   },
   "outputs": [
    {
     "output_type": "display_data",
     "data": {
      "text/html": [
       "<div class = \"ansiout\">\n",
       "The notebook module.\n",
       "  <h3></h3><b>exit(value: String): void</b> -> This method lets you exit a notebook with a value<br /><b>run(path: String, timeoutSeconds: int, arguments: Map): String</b> -> This method runs a notebook and returns its exit value<br /><br /></div>"
      ]
     },
     "metadata": {
      "application/vnd.databricks.v1+output": {
       "addedWidgets": {},
       "arguments": {},
       "data": "<div class = \"ansiout\">\nThe notebook module.\n  <h3></h3><b>exit(value: String): void</b> -> This method lets you exit a notebook with a value<br /><b>run(path: String, timeoutSeconds: int, arguments: Map): String</b> -> This method runs a notebook and returns its exit value<br /><br /></div>",
       "datasetInfos": [],
       "metadata": {},
       "removedWidgets": [],
       "textData": null,
       "type": "htmlSandbox"
      }
     },
     "output_type": "display_data"
    }
   ],
   "source": [
    "dbutils.notebook.help()"
   ]
  },
  {
   "cell_type": "code",
   "execution_count": 0,
   "metadata": {
    "application/vnd.databricks.v1+cell": {
     "cellMetadata": {
      "byteLimit": 2048000,
      "rowLimit": 10000
     },
     "inputWidgets": {},
     "nuid": "77bc246a-9c4b-4c91-9597-345a3de3dd02",
     "showTitle": false,
     "title": ""
    }
   },
   "outputs": [
    {
     "output_type": "stream",
     "name": "stdout",
     "output_type": "stream",
     "text": [
      " 0.ingest_all_files_workflow   5-ingest_result_file\r\n 1.ingestion_circuits_file     6-ingest-multiline-json-pitstops_file\r\n 2.ingest_races_file\t       7.Lap-time_file\r\n'3-Ingest constructor json'    8.ingestion_qualifying\r\n 4-ingest_driver_file\r\n"
     ]
    }
   ],
   "source": [
    "! ls /Workspace/Formula1/Ingestion/"
   ]
  },
  {
   "cell_type": "code",
   "execution_count": 0,
   "metadata": {
    "application/vnd.databricks.v1+cell": {
     "cellMetadata": {
      "byteLimit": 2048000,
      "rowLimit": 10000
     },
     "inputWidgets": {},
     "nuid": "146020d8-82f6-4e12-ae7b-697bdfc95448",
     "showTitle": false,
     "title": ""
    }
   },
   "outputs": [
    {
     "output_type": "stream",
     "name": "stdout",
     "output_type": "stream",
     "text": [
      "Out[13]: 'sucess'"
     ]
    }
   ],
   "source": [
    "# Note : to get success value or for a failure check. in the end of the notebook whatever you are running mention \n",
    "#  dbutils.notebook.exit(\"sucess\")\n",
    "result = dbutils.notebook.run(\"1.ingestion_circuits_file\",0,{\"p_data_source\" : \"Ergast API\"})     # arguments (name_of_notebook, parameter : value) \n",
    "result"
   ]
  },
  {
   "cell_type": "code",
   "execution_count": 0,
   "metadata": {
    "application/vnd.databricks.v1+cell": {
     "cellMetadata": {
      "byteLimit": 2048000,
      "rowLimit": 10000
     },
     "inputWidgets": {},
     "nuid": "a250e77f-993e-4047-9982-e32209e5bda7",
     "showTitle": false,
     "title": ""
    }
   },
   "outputs": [
    {
     "output_type": "stream",
     "name": "stdout",
     "output_type": "stream",
     "text": [
      "Out[14]: 'success'"
     ]
    }
   ],
   "source": [
    "result = dbutils.notebook.run(\"2.ingest_races_file\",0,{\"p_data_source\" : \"Ergast API\"})     # arguments (name_of_notebook, parameter : value) \n",
    "result"
   ]
  },
  {
   "cell_type": "code",
   "execution_count": 0,
   "metadata": {
    "application/vnd.databricks.v1+cell": {
     "cellMetadata": {
      "byteLimit": 2048000,
      "rowLimit": 10000
     },
     "inputWidgets": {},
     "nuid": "d931d7cb-e09e-41c8-818b-0b89c413a1e8",
     "showTitle": false,
     "title": ""
    }
   },
   "outputs": [
    {
     "output_type": "stream",
     "name": "stdout",
     "output_type": "stream",
     "text": [
      "Out[15]: 'success'"
     ]
    }
   ],
   "source": [
    "result = dbutils.notebook.run(\"3-Ingest constructor json\",0,{\"p_data_source\" : \"Ergast API\"})     # arguments (name_of_notebook, parameter : value) \n",
    "result"
   ]
  },
  {
   "cell_type": "code",
   "execution_count": 0,
   "metadata": {
    "application/vnd.databricks.v1+cell": {
     "cellMetadata": {
      "byteLimit": 2048000,
      "rowLimit": 10000
     },
     "inputWidgets": {},
     "nuid": "8851f079-a1a8-405e-877c-119d7ef80177",
     "showTitle": false,
     "title": ""
    }
   },
   "outputs": [
    {
     "output_type": "stream",
     "name": "stdout",
     "output_type": "stream",
     "text": [
      "Out[16]: 'success'"
     ]
    }
   ],
   "source": [
    "result = dbutils.notebook.run(\"4-ingest_driver_file\",0,{\"p_data_source\" : \"Ergast API\"})     # arguments (name_of_notebook, parameter : value) \n",
    "result"
   ]
  },
  {
   "cell_type": "code",
   "execution_count": 0,
   "metadata": {
    "application/vnd.databricks.v1+cell": {
     "cellMetadata": {
      "byteLimit": 2048000,
      "rowLimit": 10000
     },
     "inputWidgets": {},
     "nuid": "30916e3c-2768-47ed-a88c-b7e633a30ac9",
     "showTitle": false,
     "title": ""
    }
   },
   "outputs": [
    {
     "output_type": "stream",
     "name": "stdout",
     "output_type": "stream",
     "text": [
      "Out[17]: 'success'"
     ]
    }
   ],
   "source": [
    "result = dbutils.notebook.run(\"5-ingest_result_file\",0,{\"p_data_source\" : \"Ergast API\"})     # arguments (name_of_notebook, parameter : value) \n",
    "result"
   ]
  },
  {
   "cell_type": "code",
   "execution_count": 0,
   "metadata": {
    "application/vnd.databricks.v1+cell": {
     "cellMetadata": {
      "byteLimit": 2048000,
      "rowLimit": 10000
     },
     "inputWidgets": {},
     "nuid": "74684d0e-5eed-4f9a-8868-6e59bd80a9cf",
     "showTitle": false,
     "title": ""
    }
   },
   "outputs": [
    {
     "output_type": "stream",
     "name": "stdout",
     "output_type": "stream",
     "text": [
      "Out[18]: 'success'"
     ]
    }
   ],
   "source": [
    "result = dbutils.notebook.run(\"6-ingest-multiline-json-pitstops_file\",0,{\"p_data_source\" : \"Ergast API\"})     # arguments (name_of_notebook, parameter : value) \n",
    "result"
   ]
  },
  {
   "cell_type": "code",
   "execution_count": 0,
   "metadata": {
    "application/vnd.databricks.v1+cell": {
     "cellMetadata": {
      "byteLimit": 2048000,
      "rowLimit": 10000
     },
     "inputWidgets": {},
     "nuid": "4ec0bf90-eda4-4bf8-a1d7-b4caa5455dc3",
     "showTitle": false,
     "title": ""
    }
   },
   "outputs": [
    {
     "output_type": "stream",
     "name": "stdout",
     "output_type": "stream",
     "text": [
      "Out[19]: 'success'"
     ]
    }
   ],
   "source": [
    "result = dbutils.notebook.run(\"7.Lap-time_file\",0,{\"p_data_source\" : \"Ergast API\"})     # arguments (name_of_notebook, parameter : value) \n",
    "result"
   ]
  },
  {
   "cell_type": "code",
   "execution_count": 0,
   "metadata": {
    "application/vnd.databricks.v1+cell": {
     "cellMetadata": {
      "byteLimit": 2048000,
      "rowLimit": 10000
     },
     "inputWidgets": {},
     "nuid": "d0405be5-d71a-46fe-a8d7-99001016591a",
     "showTitle": false,
     "title": ""
    }
   },
   "outputs": [
    {
     "output_type": "stream",
     "name": "stdout",
     "output_type": "stream",
     "text": [
      "Out[20]: 'success'"
     ]
    }
   ],
   "source": [
    "result = dbutils.notebook.run(\"8.ingestion_qualifying\",0,{\"p_data_source\" : \"Ergast API\"})     # arguments (name_of_notebook, parameter : value) \n",
    "result"
   ]
  }
 ],
 "metadata": {
  "application/vnd.databricks.v1+notebook": {
   "dashboards": [],
   "language": "python",
   "notebookMetadata": {
    "pythonIndentUnit": 4
   },
   "notebookName": "0.ingest_all_files_workflow",
   "widgets": {}
  }
 },
 "nbformat": 4,
 "nbformat_minor": 0
}
