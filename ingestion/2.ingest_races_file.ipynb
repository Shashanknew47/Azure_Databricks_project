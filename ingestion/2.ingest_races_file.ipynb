{
 "cells": [
  {
   "cell_type": "code",
   "execution_count": null,
   "metadata": {
    "application/vnd.databricks.v1+cell": {
     "cellMetadata": {},
     "inputWidgets": {},
     "nuid": "b097db13-c337-4e0e-82f4-15e1371dfc76",
     "showTitle": false,
     "title": ""
    }
   },
   "outputs": [],
   "source": [
    "dbutils.widgets.text(\"p_data_source\",\"\")\n",
    "v_data_source = dbutils.widgets.get(\"p_data_source\")"
   ]
  },
  {
   "cell_type": "code",
   "execution_count": null,
   "metadata": {
    "application/vnd.databricks.v1+cell": {
     "cellMetadata": {},
     "inputWidgets": {},
     "nuid": "718867ab-e567-42e7-b804-61622a90b442",
     "showTitle": false,
     "title": ""
    }
   },
   "outputs": [],
   "source": [
    "%run \"/Formula1/includes/configuration\""
   ]
  },
  {
   "cell_type": "code",
   "execution_count": null,
   "metadata": {
    "application/vnd.databricks.v1+cell": {
     "cellMetadata": {
      "byteLimit": 2048000,
      "rowLimit": 10000
     },
     "inputWidgets": {},
     "nuid": "ece4c622-254a-49d4-8a89-00f0807ec107",
     "showTitle": false,
     "title": ""
    }
   },
   "outputs": [
    {
     "name": "stdout",
     "output_type": "stream",
     "text": [
      "+-------+---------+-----+----------+--------------------+----------+--------+\n",
      "|race_id|race_year|round|circuit_id|                name|      date|    time|\n",
      "+-------+---------+-----+----------+--------------------+----------+--------+\n",
      "|      1|     2009|    1|         1|Australian Grand ...|2009-03-29|06:00:00|\n",
      "|      2|     2009|    2|         2|Malaysian Grand Prix|2009-04-05|09:00:00|\n",
      "|      3|     2009|    3|        17|  Chinese Grand Prix|2009-04-19|07:00:00|\n",
      "+-------+---------+-----+----------+--------------------+----------+--------+\n",
      "only showing top 3 rows\n",
      "\n"
     ]
    }
   ],
   "source": [
    "schema = \"race_id int, race_year int, round int, circuit_id int, name String, date String, time String\"\n",
    "race_df = spark.read.format('csv').schema(schema).option('header',True).load(raw_folder_path)\n",
    "\n",
    "race_df.show(3)"
   ]
  },
  {
   "cell_type": "markdown",
   "metadata": {
    "application/vnd.databricks.v1+cell": {
     "cellMetadata": {},
     "inputWidgets": {},
     "nuid": "b15e57f9-02f1-4167-a59f-710a04ef8181",
     "showTitle": false,
     "title": ""
    }
   },
   "source": [
    "Transformation of race data"
   ]
  },
  {
   "cell_type": "code",
   "execution_count": null,
   "metadata": {
    "application/vnd.databricks.v1+cell": {
     "cellMetadata": {
      "byteLimit": 2048000,
      "rowLimit": 10000
     },
     "inputWidgets": {},
     "nuid": "528de754-7c35-4327-8b5a-de38227b5078",
     "showTitle": false,
     "title": ""
    }
   },
   "outputs": [
    {
     "name": "stdout",
     "output_type": "stream",
     "text": [
      "+-------+---------+-----+----------+--------------------+-------------------+--------------------+\n",
      "|race_id|race_year|round|circuit_id|                name|     race_timestamp|      ingestion_date|\n",
      "+-------+---------+-----+----------+--------------------+-------------------+--------------------+\n",
      "|      1|     2009|    1|         1|Australian Grand ...|2009-03-29 06:00:00|2023-06-14 10:57:...|\n",
      "|      2|     2009|    2|         2|Malaysian Grand Prix|2009-04-05 09:00:00|2023-06-14 10:57:...|\n",
      "|      3|     2009|    3|        17|  Chinese Grand Prix|2009-04-19 07:00:00|2023-06-14 10:57:...|\n",
      "+-------+---------+-----+----------+--------------------+-------------------+--------------------+\n",
      "only showing top 3 rows\n",
      "\n"
     ]
    }
   ],
   "source": [
    "from pyspark.sql.functions import to_timestamp,concat, current_timestamp,concat_ws\n",
    "race_df_transformed = race_df.select('race_id','race_year', 'round', 'circuit_id', 'name', to_timestamp(concat_ws(\" \",race_df.date,race_df.time)).alias('race_timestamp'), current_timestamp().alias('ingestion_date') )\n",
    "race_df_transformed.show(3)"
   ]
  },
  {
   "cell_type": "markdown",
   "metadata": {
    "application/vnd.databricks.v1+cell": {
     "cellMetadata": {},
     "inputWidgets": {},
     "nuid": "cbd0f49f-045f-4095-a1f7-f70969bf12db",
     "showTitle": false,
     "title": ""
    }
   },
   "source": [
    "ingest race data in process folder with partition on race_year and in parquet format"
   ]
  },
  {
   "cell_type": "code",
   "execution_count": null,
   "metadata": {
    "application/vnd.databricks.v1+cell": {
     "cellMetadata": {
      "byteLimit": 2048000,
      "rowLimit": 10000
     },
     "inputWidgets": {},
     "nuid": "82a03149-10fa-48a2-882f-0f281a081ec8",
     "showTitle": false,
     "title": ""
    }
   },
   "outputs": [
    {
     "data": {
      "text/html": [
       "<style scoped>\n",
       "  .table-result-container {\n",
       "    max-height: 300px;\n",
       "    overflow: auto;\n",
       "  }\n",
       "  table, th, td {\n",
       "    border: 1px solid black;\n",
       "    border-collapse: collapse;\n",
       "  }\n",
       "  th, td {\n",
       "    padding: 5px;\n",
       "  }\n",
       "  th {\n",
       "    text-align: left;\n",
       "  }\n",
       "</style><div class='table-result-container'><table class='table-result'><thead style='background-color: white'><tr><th>path</th><th>name</th><th>size</th><th>modificationTime</th></tr></thead><tbody><tr><td>dbfs:/mnt/formularacedata/presentation/</td><td>presentation/</td><td>0</td><td>0</td></tr><tr><td>dbfs:/mnt/formularacedata/processed/</td><td>processed/</td><td>0</td><td>0</td></tr><tr><td>dbfs:/mnt/formularacedata/raw/</td><td>raw/</td><td>0</td><td>0</td></tr></tbody></table></div>"
      ]
     },
     "metadata": {
      "application/vnd.databricks.v1+output": {
       "addedWidgets": {},
       "aggData": [],
       "aggError": "",
       "aggOverflow": false,
       "aggSchema": [],
       "aggSeriesLimitReached": false,
       "aggType": "",
       "arguments": {},
       "columnCustomDisplayInfos": {},
       "data": [
        [
         "dbfs:/mnt/formularacedata/presentation/",
         "presentation/",
         0,
         0
        ],
        [
         "dbfs:/mnt/formularacedata/processed/",
         "processed/",
         0,
         0
        ],
        [
         "dbfs:/mnt/formularacedata/raw/",
         "raw/",
         0,
         0
        ]
       ],
       "datasetInfos": [],
       "dbfsResultPath": null,
       "isJsonSchema": true,
       "metadata": {},
       "overflow": false,
       "plotOptions": {
        "customPlotOptions": {},
        "displayType": "table",
        "pivotAggregation": null,
        "pivotColumns": null,
        "xColumns": null,
        "yColumns": null
       },
       "removedWidgets": [],
       "schema": [
        {
         "metadata": "{}",
         "name": "path",
         "type": "\"string\""
        },
        {
         "metadata": "{}",
         "name": "name",
         "type": "\"string\""
        },
        {
         "metadata": "{}",
         "name": "size",
         "type": "\"long\""
        },
        {
         "metadata": "{}",
         "name": "modificationTime",
         "type": "\"long\""
        }
       ],
       "type": "table"
      }
     },
     "output_type": "display_data"
    }
   ],
   "source": [
    "display(dbutils.fs.ls('/mnt/formularacedata/'))"
   ]
  },
  {
   "cell_type": "code",
   "execution_count": null,
   "metadata": {
    "application/vnd.databricks.v1+cell": {
     "cellMetadata": {
      "byteLimit": 2048000,
      "rowLimit": 10000
     },
     "inputWidgets": {},
     "nuid": "0093b92a-e7d0-4ceb-bbfe-8b84e14d5cf6",
     "showTitle": false,
     "title": ""
    }
   },
   "outputs": [],
   "source": [
    "destination_file_path = f\"{processed_folder_path}/races\""
   ]
  },
  {
   "cell_type": "code",
   "execution_count": null,
   "metadata": {
    "application/vnd.databricks.v1+cell": {
     "cellMetadata": {
      "byteLimit": 2048000,
      "rowLimit": 10000
     },
     "inputWidgets": {},
     "nuid": "0cd5d5ba-509a-4617-9e30-a11ff9c4aa64",
     "showTitle": false,
     "title": ""
    }
   },
   "outputs": [],
   "source": [
    "race_df_transformed.write.mode('overwrite')\\\n",
    "    .partitionBy('race_year') \\\n",
    "    .format('parquet')\\\n",
    "    .option('path', destination_file_path) \\\n",
    "    .save()\n"
   ]
  },
  {
   "cell_type": "code",
   "execution_count": null,
   "metadata": {
    "application/vnd.databricks.v1+cell": {
     "cellMetadata": {},
     "inputWidgets": {},
     "nuid": "9887ac70-4824-4bfe-89af-1ed870404208",
     "showTitle": false,
     "title": ""
    }
   },
   "outputs": [],
   "source": [
    "dbutils.notebook.exit(\"success\")"
   ]
  }
 ],
 "metadata": {
  "application/vnd.databricks.v1+notebook": {
   "dashboards": [],
   "language": "python",
   "notebookMetadata": {
    "pythonIndentUnit": 4
   },
   "notebookName": "2.ingest_races_file",
   "widgets": {}
  },
  "language_info": {
   "name": "python"
  }
 },
 "nbformat": 4,
 "nbformat_minor": 0
}
