{
 "cells": [
  {
   "cell_type": "code",
   "execution_count": 0,
   "metadata": {
    "application/vnd.databricks.v1+cell": {
     "cellMetadata": {
      "byteLimit": 2048000,
      "rowLimit": 10000
     },
     "inputWidgets": {},
     "nuid": "b097db13-c337-4e0e-82f4-15e1371dfc76",
     "showTitle": false,
     "title": ""
    }
   },
   "outputs": [],
   "source": [
    "dbutils.widgets.text(\"p_data_source\",\"\")\n",
    "v_data_source = dbutils.widgets.get(\"p_data_source\")"
   ]
  },
  {
   "cell_type": "code",
   "execution_count": 0,
   "metadata": {
    "application/vnd.databricks.v1+cell": {
     "cellMetadata": {
      "byteLimit": 2048000,
      "rowLimit": 10000
     },
     "inputWidgets": {},
     "nuid": "718867ab-e567-42e7-b804-61622a90b442",
     "showTitle": false,
     "title": ""
    }
   },
   "outputs": [],
   "source": [
    "%run \"/Formula1/includes/configuration\""
   ]
  },
  {
   "cell_type": "code",
   "execution_count": 0,
   "metadata": {
    "application/vnd.databricks.v1+cell": {
     "cellMetadata": {
      "byteLimit": 2048000,
      "rowLimit": 10000
     },
     "inputWidgets": {},
     "nuid": "ece4c622-254a-49d4-8a89-00f0807ec107",
     "showTitle": false,
     "title": ""
    }
   },
   "outputs": [
    {
     "output_type": "stream",
     "name": "stdout",
     "output_type": "stream",
     "text": [
      "+-------+---------+-----+----------+--------------------+----------+--------+\n|race_id|race_year|round|circuit_id|                name|      date|    time|\n+-------+---------+-----+----------+--------------------+----------+--------+\n|      1|     2009|    1|         1|Australian Grand ...|2009-03-29|06:00:00|\n|      2|     2009|    2|         2|Malaysian Grand Prix|2009-04-05|09:00:00|\n|      3|     2009|    3|        17|  Chinese Grand Prix|2009-04-19|07:00:00|\n+-------+---------+-----+----------+--------------------+----------+--------+\nonly showing top 3 rows\n\n"
     ]
    },
    {
     "output_type": "stream",
     "name": "stdout",
     "output_type": "stream",
     "text": [
      "Out[13]: [FileInfo(path='dbfs:/mnt/formularacedata/presentation/', name='presentation/', size=0, modificationTime=0),\n FileInfo(path='dbfs:/mnt/formularacedata/processed/', name='processed/', size=0, modificationTime=0),\n FileInfo(path='dbfs:/mnt/formularacedata/raw/', name='raw/', size=0, modificationTime=0)]"
     ]
    }
   ],
   "source": [
    "schema = \"race_id int, race_year int, round int, circuit_id int, name String, date String, time String\"\n",
    "\n",
    "file_path = f'{raw_folder_path}/races.csv'\n",
    "race_df = spark.read.format('csv').schema(schema).option('header',True).load(file_path)\n",
    "\n",
    "race_df.show(3)"
   ]
  },
  {
   "cell_type": "markdown",
   "metadata": {
    "application/vnd.databricks.v1+cell": {
     "cellMetadata": {
      "byteLimit": 2048000,
      "rowLimit": 10000
     },
     "inputWidgets": {},
     "nuid": "b15e57f9-02f1-4167-a59f-710a04ef8181",
     "showTitle": false,
     "title": ""
    }
   },
   "source": [
    "Transformation of race data"
   ]
  },
  {
   "cell_type": "code",
   "execution_count": 0,
   "metadata": {
    "application/vnd.databricks.v1+cell": {
     "cellMetadata": {
      "byteLimit": 2048000,
      "rowLimit": 10000
     },
     "inputWidgets": {},
     "nuid": "528de754-7c35-4327-8b5a-de38227b5078",
     "showTitle": false,
     "title": ""
    }
   },
   "outputs": [
    {
     "output_type": "stream",
     "name": "stdout",
     "output_type": "stream",
     "text": [
      "+-------+---------+-----+----------+--------------------+-------------------+--------------------+\n|race_id|race_year|round|circuit_id|                name|     race_timestamp|      ingestion_date|\n+-------+---------+-----+----------+--------------------+-------------------+--------------------+\n|      1|     2009|    1|         1|Australian Grand ...|2009-03-29 06:00:00|2023-06-29 19:13:...|\n|      2|     2009|    2|         2|Malaysian Grand Prix|2009-04-05 09:00:00|2023-06-29 19:13:...|\n|      3|     2009|    3|        17|  Chinese Grand Prix|2009-04-19 07:00:00|2023-06-29 19:13:...|\n+-------+---------+-----+----------+--------------------+-------------------+--------------------+\nonly showing top 3 rows\n\n"
     ]
    }
   ],
   "source": [
    "from pyspark.sql.functions import to_timestamp,concat, current_timestamp,concat_ws\n",
    "race_df_transformed = race_df.select('race_id','race_year', 'round', 'circuit_id', 'name', to_timestamp(concat_ws(\" \",race_df.date,race_df.time)).alias('race_timestamp'), current_timestamp().alias('ingestion_date') )\n",
    "race_df_transformed.show(3)"
   ]
  },
  {
   "cell_type": "markdown",
   "metadata": {
    "application/vnd.databricks.v1+cell": {
     "cellMetadata": {
      "byteLimit": 2048000,
      "rowLimit": 10000
     },
     "inputWidgets": {},
     "nuid": "cbd0f49f-045f-4095-a1f7-f70969bf12db",
     "showTitle": false,
     "title": ""
    }
   },
   "source": [
    "ingest race data in process folder with partition on race_year and in parquet format"
   ]
  },
  {
   "cell_type": "code",
   "execution_count": 0,
   "metadata": {
    "application/vnd.databricks.v1+cell": {
     "cellMetadata": {
      "byteLimit": 2048000,
      "rowLimit": 10000
     },
     "inputWidgets": {},
     "nuid": "82a03149-10fa-48a2-882f-0f281a081ec8",
     "showTitle": false,
     "title": ""
    }
   },
   "outputs": [
    {
     "output_type": "display_data",
     "data": {
      "text/html": [
       "<style scoped>\n",
       "  .table-result-container {\n",
       "    max-height: 300px;\n",
       "    overflow: auto;\n",
       "  }\n",
       "  table, th, td {\n",
       "    border: 1px solid black;\n",
       "    border-collapse: collapse;\n",
       "  }\n",
       "  th, td {\n",
       "    padding: 5px;\n",
       "  }\n",
       "  th {\n",
       "    text-align: left;\n",
       "  }\n",
       "</style><div class='table-result-container'><table class='table-result'><thead style='background-color: white'><tr><th>path</th><th>name</th><th>size</th><th>modificationTime</th></tr></thead><tbody><tr><td>dbfs:/mnt/formularacedata/presentation/</td><td>presentation/</td><td>0</td><td>0</td></tr><tr><td>dbfs:/mnt/formularacedata/processed/</td><td>processed/</td><td>0</td><td>0</td></tr><tr><td>dbfs:/mnt/formularacedata/raw/</td><td>raw/</td><td>0</td><td>0</td></tr></tbody></table></div>"
      ]
     },
     "metadata": {
      "application/vnd.databricks.v1+output": {
       "addedWidgets": {},
       "aggData": [],
       "aggError": "",
       "aggOverflow": false,
       "aggSchema": [],
       "aggSeriesLimitReached": false,
       "aggType": "",
       "arguments": {},
       "columnCustomDisplayInfos": {},
       "data": [
        [
         "dbfs:/mnt/formularacedata/presentation/",
         "presentation/",
         0,
         0
        ],
        [
         "dbfs:/mnt/formularacedata/processed/",
         "processed/",
         0,
         0
        ],
        [
         "dbfs:/mnt/formularacedata/raw/",
         "raw/",
         0,
         0
        ]
       ],
       "datasetInfos": [],
       "dbfsResultPath": null,
       "isJsonSchema": true,
       "metadata": {},
       "overflow": false,
       "plotOptions": {
        "customPlotOptions": {},
        "displayType": "table",
        "pivotAggregation": null,
        "pivotColumns": null,
        "xColumns": null,
        "yColumns": null
       },
       "removedWidgets": [],
       "schema": [
        {
         "metadata": "{}",
         "name": "path",
         "type": "\"string\""
        },
        {
         "metadata": "{}",
         "name": "name",
         "type": "\"string\""
        },
        {
         "metadata": "{}",
         "name": "size",
         "type": "\"long\""
        },
        {
         "metadata": "{}",
         "name": "modificationTime",
         "type": "\"long\""
        }
       ],
       "type": "table"
      }
     },
     "output_type": "display_data"
    }
   ],
   "source": [
    "display(dbutils.fs.ls('/mnt/formularacedata/'))"
   ]
  },
  {
   "cell_type": "code",
   "execution_count": 0,
   "metadata": {
    "application/vnd.databricks.v1+cell": {
     "cellMetadata": {
      "byteLimit": 2048000,
      "rowLimit": 10000
     },
     "inputWidgets": {},
     "nuid": "0cd5d5ba-509a-4617-9e30-a11ff9c4aa64",
     "showTitle": false,
     "title": ""
    }
   },
   "outputs": [],
   "source": [
    "race_df_transformed.write.mode(\"overwrite\").partitionBy('race_year').format(\"delta\").saveAsTable(\"f1_processed.races\")"
   ]
  },
  {
   "cell_type": "code",
   "execution_count": 0,
   "metadata": {
    "application/vnd.databricks.v1+cell": {
     "cellMetadata": {
      "byteLimit": 2048000,
      "implicitDf": true,
      "rowLimit": 10000
     },
     "inputWidgets": {},
     "nuid": "bbcf0d08-680a-49b8-a1c9-e294ee7babfc",
     "showTitle": false,
     "title": ""
    }
   },
   "outputs": [
    {
     "output_type": "display_data",
     "data": {
      "text/html": [
       "<style scoped>\n",
       "  .table-result-container {\n",
       "    max-height: 300px;\n",
       "    overflow: auto;\n",
       "  }\n",
       "  table, th, td {\n",
       "    border: 1px solid black;\n",
       "    border-collapse: collapse;\n",
       "  }\n",
       "  th, td {\n",
       "    padding: 5px;\n",
       "  }\n",
       "  th {\n",
       "    text-align: left;\n",
       "  }\n",
       "</style><div class='table-result-container'><table class='table-result'><thead style='background-color: white'><tr><th>race_id</th><th>race_year</th><th>round</th><th>circuit_id</th><th>name</th><th>race_timestamp</th><th>ingestion_date</th></tr></thead><tbody><tr><td>833</td><td>1950</td><td>1</td><td>9</td><td>British Grand Prix</td><td>null</td><td>2023-06-29T19:13:02.063+0000</td></tr><tr><td>834</td><td>1950</td><td>2</td><td>6</td><td>Monaco Grand Prix</td><td>null</td><td>2023-06-29T19:13:02.063+0000</td></tr><tr><td>835</td><td>1950</td><td>3</td><td>19</td><td>Indianapolis 500</td><td>null</td><td>2023-06-29T19:13:02.063+0000</td></tr><tr><td>836</td><td>1950</td><td>4</td><td>66</td><td>Swiss Grand Prix</td><td>null</td><td>2023-06-29T19:13:02.063+0000</td></tr><tr><td>837</td><td>1950</td><td>5</td><td>13</td><td>Belgian Grand Prix</td><td>null</td><td>2023-06-29T19:13:02.063+0000</td></tr></tbody></table></div>"
      ]
     },
     "metadata": {
      "application/vnd.databricks.v1+output": {
       "addedWidgets": {},
       "aggData": [],
       "aggError": "",
       "aggOverflow": false,
       "aggSchema": [],
       "aggSeriesLimitReached": false,
       "aggType": "",
       "arguments": {},
       "columnCustomDisplayInfos": {},
       "data": [
        [
         833,
         1950,
         1,
         9,
         "British Grand Prix",
         null,
         "2023-06-29T19:13:02.063+0000"
        ],
        [
         834,
         1950,
         2,
         6,
         "Monaco Grand Prix",
         null,
         "2023-06-29T19:13:02.063+0000"
        ],
        [
         835,
         1950,
         3,
         19,
         "Indianapolis 500",
         null,
         "2023-06-29T19:13:02.063+0000"
        ],
        [
         836,
         1950,
         4,
         66,
         "Swiss Grand Prix",
         null,
         "2023-06-29T19:13:02.063+0000"
        ],
        [
         837,
         1950,
         5,
         13,
         "Belgian Grand Prix",
         null,
         "2023-06-29T19:13:02.063+0000"
        ]
       ],
       "datasetInfos": [],
       "dbfsResultPath": null,
       "isJsonSchema": true,
       "metadata": {},
       "overflow": false,
       "plotOptions": {
        "customPlotOptions": {},
        "displayType": "table",
        "pivotAggregation": null,
        "pivotColumns": null,
        "xColumns": null,
        "yColumns": null
       },
       "removedWidgets": [],
       "schema": [
        {
         "metadata": "{}",
         "name": "race_id",
         "type": "\"integer\""
        },
        {
         "metadata": "{}",
         "name": "race_year",
         "type": "\"integer\""
        },
        {
         "metadata": "{}",
         "name": "round",
         "type": "\"integer\""
        },
        {
         "metadata": "{}",
         "name": "circuit_id",
         "type": "\"integer\""
        },
        {
         "metadata": "{}",
         "name": "name",
         "type": "\"string\""
        },
        {
         "metadata": "{}",
         "name": "race_timestamp",
         "type": "\"timestamp\""
        },
        {
         "metadata": "{}",
         "name": "ingestion_date",
         "type": "\"timestamp\""
        }
       ],
       "type": "table"
      }
     },
     "output_type": "display_data"
    }
   ],
   "source": [
    "%sql\n",
    "\n",
    "SELECT * FROM f1_processed.races LIMIT 5"
   ]
  },
  {
   "cell_type": "code",
   "execution_count": 0,
   "metadata": {
    "application/vnd.databricks.v1+cell": {
     "cellMetadata": {
      "byteLimit": 2048000,
      "rowLimit": 10000
     },
     "inputWidgets": {},
     "nuid": "9887ac70-4824-4bfe-89af-1ed870404208",
     "showTitle": false,
     "title": ""
    }
   },
   "outputs": [
    {
     "output_type": "display_data",
     "data": {
      "text/plain": [
       "success"
      ]
     },
     "metadata": {
      "application/vnd.databricks.v1+output": {
       "arguments": {},
       "data": "success",
       "metadata": {},
       "type": "exit"
      }
     },
     "output_type": "display_data"
    }
   ],
   "source": [
    "dbutils.notebook.exit(\"success\")"
   ]
  }
 ],
 "metadata": {
  "application/vnd.databricks.v1+notebook": {
   "dashboards": [],
   "language": "python",
   "notebookMetadata": {
    "mostRecentlyExecutedCommandWithImplicitDF": {
     "commandId": 2180181502836987,
     "dataframes": [
      "_sqldf"
     ]
    },
    "pythonIndentUnit": 4
   },
   "notebookName": "2.ingest_races_file",
   "widgets": {
    "p_data_source": {
     "currentValue": "ergast_api",
     "nuid": "da7e719c-6f15-40da-8ea3-69f5e699a4ce",
     "widgetInfo": {
      "widgetType": "text",
      "defaultValue": "",
      "label": null,
      "name": "p_data_source",
      "options": {
       "widgetType": "text",
       "validationRegex": null
      }
     }
    }
   }
  }
 },
 "nbformat": 4,
 "nbformat_minor": 0
}
