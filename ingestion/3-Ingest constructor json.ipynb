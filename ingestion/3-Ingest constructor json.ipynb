{
 "cells": [
  {
   "cell_type": "code",
   "execution_count": null,
   "metadata": {
    "application/vnd.databricks.v1+cell": {
     "cellMetadata": {},
     "inputWidgets": {},
     "nuid": "d4df522e-90bc-4008-a507-6a1fa77ee9b4",
     "showTitle": false,
     "title": ""
    }
   },
   "outputs": [],
   "source": [
    "dbutils.widgets.text(\"p_data_source\",\"\")\n",
    "v_data_source = dbutils.widgets.get(\"p_data_source\")"
   ]
  },
  {
   "cell_type": "code",
   "execution_count": null,
   "metadata": {
    "application/vnd.databricks.v1+cell": {
     "cellMetadata": {},
     "inputWidgets": {},
     "nuid": "d0bf47c0-c250-4f7b-b151-d65399f844cb",
     "showTitle": false,
     "title": ""
    }
   },
   "outputs": [],
   "source": [
    "%run \"/Formula1/includes/configuration\""
   ]
  },
  {
   "cell_type": "code",
   "execution_count": null,
   "metadata": {
    "application/vnd.databricks.v1+cell": {
     "cellMetadata": {
      "byteLimit": 2048000,
      "rowLimit": 10000
     },
     "inputWidgets": {},
     "nuid": "028fd488-9d04-4da4-af2f-bcea7b7c5130",
     "showTitle": false,
     "title": ""
    }
   },
   "outputs": [
    {
     "name": "stdout",
     "output_type": "stream",
     "text": [
      "Out[1]: [FileInfo(path='dbfs:/mnt/formularacedata/raw/circuits.csv', name='circuits.csv', size=10044, modificationTime=1686570285000),\n",
      " FileInfo(path='dbfs:/mnt/formularacedata/raw/constructors.json', name='constructors.json', size=30415, modificationTime=1686570285000),\n",
      " FileInfo(path='dbfs:/mnt/formularacedata/raw/drivers.json', name='drivers.json', size=180812, modificationTime=1686570285000),\n",
      " FileInfo(path='dbfs:/mnt/formularacedata/raw/lap_times/', name='lap_times/', size=0, modificationTime=1686570362000),\n",
      " FileInfo(path='dbfs:/mnt/formularacedata/raw/pit_stops.json', name='pit_stops.json', size=1369387, modificationTime=1686570285000),\n",
      " FileInfo(path='dbfs:/mnt/formularacedata/raw/qualifying/', name='qualifying/', size=0, modificationTime=1686570383000),\n",
      " FileInfo(path='dbfs:/mnt/formularacedata/raw/races.csv', name='races.csv', size=116847, modificationTime=1686570285000),\n",
      " FileInfo(path='dbfs:/mnt/formularacedata/raw/results.json', name='results.json', size=7165641, modificationTime=1686570287000)]"
     ]
    }
   ],
   "source": [
    "dbutils.fs.ls(raw_folder_path)"
   ]
  },
  {
   "cell_type": "code",
   "execution_count": null,
   "metadata": {
    "application/vnd.databricks.v1+cell": {
     "cellMetadata": {
      "byteLimit": 2048000,
      "rowLimit": 10000
     },
     "inputWidgets": {},
     "nuid": "015f7ec0-5a82-444d-9907-483c9a7555c9",
     "showTitle": false,
     "title": ""
    }
   },
   "outputs": [
    {
     "name": "stdout",
     "output_type": "stream",
     "text": [
      "+-------------+--------------+----------+-----------+--------------------+\n",
      "|constructorId|constructorRef|      name|nationality|                 url|\n",
      "+-------------+--------------+----------+-----------+--------------------+\n",
      "|            1|       mclaren|   McLaren|    British|http://en.wikiped...|\n",
      "|            2|    bmw_sauber|BMW Sauber|     German|http://en.wikiped...|\n",
      "|            3|      williams|  Williams|    British|http://en.wikiped...|\n",
      "|            4|       renault|   Renault|     French|http://en.wikiped...|\n",
      "+-------------+--------------+----------+-----------+--------------------+\n",
      "only showing top 4 rows\n",
      "\n"
     ]
    }
   ],
   "source": [
    "origin_file_path = f'{raw_folder_path}/constructors.json'\n",
    "\n",
    "df = spark.read.format('json').load(origin_file_path)\n",
    "df.show(4)"
   ]
  },
  {
   "cell_type": "code",
   "execution_count": null,
   "metadata": {
    "application/vnd.databricks.v1+cell": {
     "cellMetadata": {
      "byteLimit": 2048000,
      "rowLimit": 10000
     },
     "inputWidgets": {},
     "nuid": "491f6b93-2630-4328-8341-7cb135dec906",
     "showTitle": false,
     "title": ""
    }
   },
   "outputs": [
    {
     "name": "stdout",
     "output_type": "stream",
     "text": [
      "+-------------+--------------+----------+-----------+--------------------+\n",
      "|constructorId|constructorRef|      name|nationality|      ingestion_date|\n",
      "+-------------+--------------+----------+-----------+--------------------+\n",
      "|            1|       mclaren|   McLaren|    British|2023-06-16 07:08:...|\n",
      "|            2|    bmw_sauber|BMW Sauber|     German|2023-06-16 07:08:...|\n",
      "|            3|      williams|  Williams|    British|2023-06-16 07:08:...|\n",
      "|            4|       renault|   Renault|     French|2023-06-16 07:08:...|\n",
      "+-------------+--------------+----------+-----------+--------------------+\n",
      "only showing top 4 rows\n",
      "\n"
     ]
    }
   ],
   "source": [
    "from pyspark.sql.functions import current_timestamp\n",
    "new_df = df.select(\"constructorId\", \"constructorRef\", \"name\", \"nationality\", current_timestamp().alias(\"ingestion_date\"))\n",
    "new_df.show(4)"
   ]
  },
  {
   "cell_type": "code",
   "execution_count": null,
   "metadata": {
    "application/vnd.databricks.v1+cell": {
     "cellMetadata": {
      "byteLimit": 2048000,
      "rowLimit": 10000
     },
     "inputWidgets": {},
     "nuid": "75aff9e0-a5a5-4569-8cb3-dd67ef63bbe4",
     "showTitle": false,
     "title": ""
    }
   },
   "outputs": [
    {
     "name": "stdout",
     "output_type": "stream",
     "text": [
      "root\n",
      " |-- constructorId: long (nullable = true)\n",
      " |-- constructorRef: string (nullable = true)\n",
      " |-- name: string (nullable = true)\n",
      " |-- nationality: string (nullable = true)\n",
      " |-- ingestion_date: timestamp (nullable = false)\n",
      "\n"
     ]
    }
   ],
   "source": [
    "# Json comes with it's own schema inbuilt with it. \n",
    "new_df.printSchema()"
   ]
  },
  {
   "cell_type": "code",
   "execution_count": null,
   "metadata": {
    "application/vnd.databricks.v1+cell": {
     "cellMetadata": {
      "byteLimit": 2048000,
      "rowLimit": 10000
     },
     "inputWidgets": {},
     "nuid": "69117cf6-a37c-4f8e-a60f-a044e5d17666",
     "showTitle": false,
     "title": ""
    }
   },
   "outputs": [
    {
     "name": "stdout",
     "output_type": "stream",
     "text": [
      "+-------------+--------------+----------+-----------+\n",
      "|constructorId|constructorRef|      name|nationality|\n",
      "+-------------+--------------+----------+-----------+\n",
      "|            1|       mclaren|   McLaren|    British|\n",
      "|            2|    bmw_sauber|BMW Sauber|     German|\n",
      "|            3|      williams|  Williams|    British|\n",
      "+-------------+--------------+----------+-----------+\n",
      "only showing top 3 rows\n",
      "\n"
     ]
    }
   ],
   "source": [
    "# Note : with Json you will have to keep the same as column name\n",
    "schema = \"constructorId Int, constructorRef String, name String, nationality String\"\n",
    "\n",
    "schema_df = spark.read.format('json').schema(schema).load(origin_file_path)\n",
    "schema_df.show(3)"
   ]
  },
  {
   "cell_type": "code",
   "execution_count": null,
   "metadata": {
    "application/vnd.databricks.v1+cell": {
     "cellMetadata": {
      "byteLimit": 2048000,
      "rowLimit": 10000
     },
     "inputWidgets": {},
     "nuid": "565d69a7-b5c2-4805-bdb3-b42e3cc94a2a",
     "showTitle": false,
     "title": ""
    }
   },
   "outputs": [
    {
     "name": "stdout",
     "output_type": "stream",
     "text": [
      "+--------------+---------------+----------+-----------+--------------------+\n",
      "|constructor_id|constructor_ref|      name|nationality|      ingestion_date|\n",
      "+--------------+---------------+----------+-----------+--------------------+\n",
      "|             1|        mclaren|   McLaren|    British|2023-06-16 07:08:...|\n",
      "|             2|     bmw_sauber|BMW Sauber|     German|2023-06-16 07:08:...|\n",
      "|             3|       williams|  Williams|    British|2023-06-16 07:08:...|\n",
      "+--------------+---------------+----------+-----------+--------------------+\n",
      "only showing top 3 rows\n",
      "\n"
     ]
    }
   ],
   "source": [
    "final_df = new_df.withColumnRenamed(\"constructorId\",\"constructor_id\").withColumnRenamed(\"constructorRef\",\"constructor_ref\")\n",
    "final_df.show(3)"
   ]
  },
  {
   "cell_type": "code",
   "execution_count": null,
   "metadata": {
    "application/vnd.databricks.v1+cell": {
     "cellMetadata": {
      "byteLimit": 2048000,
      "rowLimit": 10000
     },
     "inputWidgets": {},
     "nuid": "46a7b3c0-2820-4e68-b8c1-237679541e06",
     "showTitle": false,
     "title": ""
    }
   },
   "outputs": [],
   "source": [
    "dest_path = f'{processed_folder_path}/constructors'\n",
    "final_df.write.mode('overwrite').format('parquet').option('path',dest_path).save()"
   ]
  },
  {
   "cell_type": "code",
   "execution_count": null,
   "metadata": {
    "application/vnd.databricks.v1+cell": {
     "cellMetadata": {},
     "inputWidgets": {},
     "nuid": "b9d435fc-eb45-48d5-a571-7947a363b6e7",
     "showTitle": false,
     "title": ""
    }
   },
   "outputs": [],
   "source": [
    "dbutils.notebook.exit(\"success\")"
   ]
  }
 ],
 "metadata": {
  "application/vnd.databricks.v1+notebook": {
   "dashboards": [],
   "language": "python",
   "notebookMetadata": {
    "pythonIndentUnit": 4
   },
   "notebookName": "3-Ingest constructor json",
   "widgets": {}
  },
  "language_info": {
   "name": "python"
  }
 },
 "nbformat": 4,
 "nbformat_minor": 0
}
