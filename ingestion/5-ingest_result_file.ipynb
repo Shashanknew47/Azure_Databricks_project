{
 "cells": [
  {
   "cell_type": "code",
   "execution_count": 0,
   "metadata": {
    "application/vnd.databricks.v1+cell": {
     "cellMetadata": {
      "byteLimit": 2048000,
      "rowLimit": 10000
     },
     "inputWidgets": {},
     "nuid": "d6516b94-1e28-4c01-9baa-cd9fe6906a61",
     "showTitle": false,
     "title": ""
    }
   },
   "outputs": [],
   "source": [
    "dbutils.widgets.text(\"p_data_source\",\"\")\n",
    "v_data_source = dbutils.widgets.get(\"p_data_source\")"
   ]
  },
  {
   "cell_type": "code",
   "execution_count": 0,
   "metadata": {
    "application/vnd.databricks.v1+cell": {
     "cellMetadata": {
      "byteLimit": 2048000,
      "rowLimit": 10000
     },
     "inputWidgets": {},
     "nuid": "72e37fbd-0da4-4bca-9963-073881b72ff8",
     "showTitle": false,
     "title": ""
    }
   },
   "outputs": [
    {
     "output_type": "stream",
     "name": "stdout",
     "output_type": "stream",
     "text": [
      "Out[2]: [FileInfo(path='dbfs:/mnt/formularacedata/presentation/', name='presentation/', size=0, modificationTime=0),\n FileInfo(path='dbfs:/mnt/formularacedata/processed/', name='processed/', size=0, modificationTime=0),\n FileInfo(path='dbfs:/mnt/formularacedata/raw/', name='raw/', size=0, modificationTime=0)]"
     ]
    }
   ],
   "source": [
    "%run \"/Formula1/includes/configuration\""
   ]
  },
  {
   "cell_type": "code",
   "execution_count": 0,
   "metadata": {
    "application/vnd.databricks.v1+cell": {
     "cellMetadata": {
      "byteLimit": 2048000,
      "rowLimit": 10000
     },
     "inputWidgets": {},
     "nuid": "71cde44f-5945-4698-a7c4-91c34c71eb9c",
     "showTitle": false,
     "title": ""
    }
   },
   "outputs": [],
   "source": [
    "%run \"/Formula1/includes/common_functions\""
   ]
  },
  {
   "cell_type": "code",
   "execution_count": 0,
   "metadata": {
    "application/vnd.databricks.v1+cell": {
     "cellMetadata": {
      "byteLimit": 2048000,
      "rowLimit": 10000
     },
     "inputWidgets": {},
     "nuid": "d7b28225-a9a0-4a73-bcbd-8462559fe708",
     "showTitle": false,
     "title": ""
    }
   },
   "outputs": [],
   "source": [
    "file_path = f'{raw_folder_path}/results.json'\n",
    "from pyspark.sql.types import StructType, StructField, StringType, IntegerType, DecimalType, FloatType\n",
    "\n",
    "schema = StructType( [\n",
    "    StructField(\"resultId\", IntegerType(),False),\n",
    "    StructField(\"raceId\", IntegerType(), False),\n",
    "    StructField(\"driverId\", IntegerType(), False),\n",
    "    StructField (\"constructorId\", IntegerType(), False),\n",
    "    StructField(\"number\", IntegerType(),False),\n",
    "    StructField (\"grid\",IntegerType(), False),\n",
    "    StructField (\"position\", IntegerType(), False),\n",
    "    StructField(\"positionText\", StringType(),True),\n",
    "    StructField (\"positionOrder\",IntegerType(),True),\n",
    "    StructField(\"points\", FloatType()),\n",
    "    StructField(\"laps\", IntegerType()),\n",
    "    StructField (\"time\",StringType()),\n",
    "    StructField (\"milliseconds\", IntegerType()),\n",
    "    StructField(\"fastestLap\", IntegerType()),\n",
    "    StructField (\"rank\",IntegerType()),\n",
    "    StructField(\"fastestLapTime\", StringType()),\n",
    "    StructField(\"fastestLapSpeed\", DecimalType() ),\n",
    "    StructField (\"statusId\", IntegerType())\n",
    "\n",
    "])"
   ]
  },
  {
   "cell_type": "code",
   "execution_count": 0,
   "metadata": {
    "application/vnd.databricks.v1+cell": {
     "cellMetadata": {
      "byteLimit": 2048000,
      "rowLimit": 10000
     },
     "inputWidgets": {},
     "nuid": "7380f717-e667-4d23-8874-607229b77591",
     "showTitle": false,
     "title": ""
    }
   },
   "outputs": [
    {
     "output_type": "stream",
     "name": "stdout",
     "output_type": "stream",
     "text": [
      "+--------+------+--------+-------------+------+----+--------+------------+-------------+------+----+-----------+------------+----------+----+--------------+---------------+--------+\n|resultId|raceId|driverId|constructorId|number|grid|position|positionText|positionOrder|points|laps|       time|milliseconds|fastestLap|rank|fastestLapTime|fastestLapSpeed|statusId|\n+--------+------+--------+-------------+------+----+--------+------------+-------------+------+----+-----------+------------+----------+----+--------------+---------------+--------+\n|       1|    18|       1|            1|    22|   1|       1|           1|            1|  10.0|  58|1:34:50.616|     5690616|        39|   2|      1:27.452|            218|       1|\n|       2|    18|       2|            2|     3|   5|       2|           2|            2|   8.0|  58|     +5.478|     5696094|        41|   3|      1:27.739|            218|       1|\n+--------+------+--------+-------------+------+----+--------+------------+-------------+------+----+-----------+------------+----------+----+--------------+---------------+--------+\nonly showing top 2 rows\n\n"
     ]
    }
   ],
   "source": [
    "df = spark.read.format(\"json\").schema(schema).load(file_path)\n",
    "df.show(2)"
   ]
  },
  {
   "cell_type": "code",
   "execution_count": 0,
   "metadata": {
    "application/vnd.databricks.v1+cell": {
     "cellMetadata": {
      "byteLimit": 2048000,
      "rowLimit": 10000
     },
     "inputWidgets": {},
     "nuid": "07929dff-fbaf-4945-9935-46971a6c841d",
     "showTitle": false,
     "title": ""
    }
   },
   "outputs": [
    {
     "output_type": "stream",
     "name": "stdout",
     "output_type": "stream",
     "text": [
      "+---------+-------+---------+--------------+------+----+--------+-------------+--------------+------+----+-----------+------------+-----------+----+----------------+-----------------+--------------------+\n|result_id|race_id|driver_id|constructor_id|number|grid|position|position_text|position_order|points|laps|       time|milliseconds|fastest_lap|rank|fastest_lap_time|fastest_lap_speed|      ingestion_date|\n+---------+-------+---------+--------------+------+----+--------+-------------+--------------+------+----+-----------+------------+-----------+----+----------------+-----------------+--------------------+\n|        1|     18|        1|             1|    22|   1|       1|            1|             1|  10.0|  58|1:34:50.616|     5690616|         39|   2|        1:27.452|              218|2023-06-29 19:32:...|\n|        2|     18|        2|             2|     3|   5|       2|            2|             2|   8.0|  58|     +5.478|     5696094|         41|   3|        1:27.739|              218|2023-06-29 19:32:...|\n+---------+-------+---------+--------------+------+----+--------+-------------+--------------+------+----+-----------+------------+-----------+----+----------------+-----------------+--------------------+\nonly showing top 2 rows\n\n"
     ]
    }
   ],
   "source": [
    "from pyspark.sql.functions import col, current_timestamp\n",
    "new_df = df.select(   col(\"resultId\").alias(\"result_id\"),\n",
    "                      col(\"raceId\").alias(\"race_id\"),\n",
    "                      col(\"driverId\").alias(\"driver_id\"),\n",
    "                      col(\"constructorId\").alias(\"constructor_id\"),\n",
    "                      \"number\",\n",
    "                      \"grid\",\n",
    "                      \"position\",\n",
    "                      col(\"positionText\").alias(\"position_text\"),\n",
    "                      col(\"positionOrder\").alias(\"position_order\"),\n",
    "                      \"points\",\n",
    "                      \"laps\",\n",
    "                      \"time\",\n",
    "                      \"milliseconds\",\n",
    "                      col(\"fastestLap\").alias(\"fastest_lap\"),\n",
    "                      \"rank\",\n",
    "                      col(\"fastestLapTime\").alias(\"fastest_lap_time\"),\n",
    "                      col(\"fastestLapSpeed\").alias(\"fastest_lap_speed\"),\n",
    "                      current_timestamp().alias(\"ingestion_date\")\n",
    "\n",
    "\n",
    "                   )\n",
    "\n",
    "new_df.show(2)"
   ]
  },
  {
   "cell_type": "code",
   "execution_count": 0,
   "metadata": {
    "application/vnd.databricks.v1+cell": {
     "cellMetadata": {
      "byteLimit": 2048000,
      "rowLimit": 10000
     },
     "inputWidgets": {},
     "nuid": "48fed837-7abb-4c73-8ac8-f4229420035b",
     "showTitle": false,
     "title": ""
    }
   },
   "outputs": [],
   "source": [
    "results_df = new_df.dropDuplicates(['race_id','driver_id'])"
   ]
  },
  {
   "cell_type": "code",
   "execution_count": 0,
   "metadata": {
    "application/vnd.databricks.v1+cell": {
     "cellMetadata": {
      "byteLimit": 2048000,
      "rowLimit": 10000
     },
     "inputWidgets": {},
     "nuid": "a7557d49-bb9a-4beb-a39d-1f230648c963",
     "showTitle": false,
     "title": ""
    }
   },
   "outputs": [],
   "source": [
    "merge_condition = \"tgt.result_id = src.result_id AND tgt.race_id = src.race_id\"\n",
    "merge_delta_data(results_df, 'f1_processed', 'results', processed_folder_path, merge_condition, 'race_id')"
   ]
  },
  {
   "cell_type": "code",
   "execution_count": 0,
   "metadata": {
    "application/vnd.databricks.v1+cell": {
     "cellMetadata": {
      "byteLimit": 2048000,
      "implicitDf": true,
      "rowLimit": 10000
     },
     "inputWidgets": {},
     "nuid": "9a9a2e54-0771-4d24-b00d-793c0232ac67",
     "showTitle": false,
     "title": ""
    }
   },
   "outputs": [
    {
     "output_type": "display_data",
     "data": {
      "text/html": [
       "<style scoped>\n",
       "  .table-result-container {\n",
       "    max-height: 300px;\n",
       "    overflow: auto;\n",
       "  }\n",
       "  table, th, td {\n",
       "    border: 1px solid black;\n",
       "    border-collapse: collapse;\n",
       "  }\n",
       "  th, td {\n",
       "    padding: 5px;\n",
       "  }\n",
       "  th {\n",
       "    text-align: left;\n",
       "  }\n",
       "</style><div class='table-result-container'><table class='table-result'><thead style='background-color: white'><tr><th>result_id</th><th>race_id</th><th>driver_id</th><th>constructor_id</th><th>number</th><th>grid</th><th>position</th><th>position_text</th><th>position_order</th><th>points</th><th>laps</th><th>time</th><th>milliseconds</th><th>fastest_lap</th><th>rank</th><th>fastest_lap_time</th><th>fastest_lap_speed</th><th>ingestion_date</th></tr></thead><tbody><tr><td>7573</td><td>1</td><td>1</td><td>1</td><td>1</td><td>18</td><td>null</td><td>D</td><td>20</td><td>0.0</td><td>58</td><td>\\N</td><td>null</td><td>39</td><td>13</td><td>1:29.020</td><td>214</td><td>2023-06-29T19:38:17.157+0000</td></tr><tr><td>7563</td><td>1</td><td>2</td><td>2</td><td>6</td><td>9</td><td>10</td><td>10</td><td>10</td><td>0.0</td><td>58</td><td>+7.085</td><td>5662869</td><td>48</td><td>5</td><td>1:28.283</td><td>216</td><td>2023-06-29T19:38:17.157+0000</td></tr><tr><td>7559</td><td>1</td><td>3</td><td>3</td><td>16</td><td>5</td><td>6</td><td>6</td><td>6</td><td>3.0</td><td>58</td><td>+5.722</td><td>5661506</td><td>48</td><td>1</td><td>1:27.706</td><td>218</td><td>2023-06-29T19:38:17.157+0000</td></tr><tr><td>7558</td><td>1</td><td>4</td><td>4</td><td>7</td><td>10</td><td>5</td><td>5</td><td>5</td><td>4.0</td><td>58</td><td>+4.879</td><td>5660663</td><td>53</td><td>9</td><td>1:28.712</td><td>215</td><td>2023-06-29T19:38:17.157+0000</td></tr><tr><td>7561</td><td>1</td><td>7</td><td>5</td><td>11</td><td>17</td><td>8</td><td>8</td><td>8</td><td>1.0</td><td>58</td><td>+6.298</td><td>5662082</td><td>50</td><td>17</td><td>1:29.823</td><td>213</td><td>2023-06-29T19:38:17.157+0000</td></tr></tbody></table></div>"
      ]
     },
     "metadata": {
      "application/vnd.databricks.v1+output": {
       "addedWidgets": {},
       "aggData": [],
       "aggError": "",
       "aggOverflow": false,
       "aggSchema": [],
       "aggSeriesLimitReached": false,
       "aggType": "",
       "arguments": {},
       "columnCustomDisplayInfos": {},
       "data": [
        [
         7573,
         1,
         1,
         1,
         1,
         18,
         null,
         "D",
         20,
         0.0,
         58,
         "\\N",
         null,
         39,
         13,
         "1:29.020",
         "214",
         "2023-06-29T19:38:17.157+0000"
        ],
        [
         7563,
         1,
         2,
         2,
         6,
         9,
         10,
         "10",
         10,
         0.0,
         58,
         "+7.085",
         5662869,
         48,
         5,
         "1:28.283",
         "216",
         "2023-06-29T19:38:17.157+0000"
        ],
        [
         7559,
         1,
         3,
         3,
         16,
         5,
         6,
         "6",
         6,
         3.0,
         58,
         "+5.722",
         5661506,
         48,
         1,
         "1:27.706",
         "218",
         "2023-06-29T19:38:17.157+0000"
        ],
        [
         7558,
         1,
         4,
         4,
         7,
         10,
         5,
         "5",
         5,
         4.0,
         58,
         "+4.879",
         5660663,
         53,
         9,
         "1:28.712",
         "215",
         "2023-06-29T19:38:17.157+0000"
        ],
        [
         7561,
         1,
         7,
         5,
         11,
         17,
         8,
         "8",
         8,
         1.0,
         58,
         "+6.298",
         5662082,
         50,
         17,
         "1:29.823",
         "213",
         "2023-06-29T19:38:17.157+0000"
        ]
       ],
       "datasetInfos": [],
       "dbfsResultPath": null,
       "isJsonSchema": true,
       "metadata": {},
       "overflow": false,
       "plotOptions": {
        "customPlotOptions": {},
        "displayType": "table",
        "pivotAggregation": null,
        "pivotColumns": null,
        "xColumns": null,
        "yColumns": null
       },
       "removedWidgets": [],
       "schema": [
        {
         "metadata": "{}",
         "name": "result_id",
         "type": "\"integer\""
        },
        {
         "metadata": "{}",
         "name": "race_id",
         "type": "\"integer\""
        },
        {
         "metadata": "{}",
         "name": "driver_id",
         "type": "\"integer\""
        },
        {
         "metadata": "{}",
         "name": "constructor_id",
         "type": "\"integer\""
        },
        {
         "metadata": "{}",
         "name": "number",
         "type": "\"integer\""
        },
        {
         "metadata": "{}",
         "name": "grid",
         "type": "\"integer\""
        },
        {
         "metadata": "{}",
         "name": "position",
         "type": "\"integer\""
        },
        {
         "metadata": "{}",
         "name": "position_text",
         "type": "\"string\""
        },
        {
         "metadata": "{}",
         "name": "position_order",
         "type": "\"integer\""
        },
        {
         "metadata": "{}",
         "name": "points",
         "type": "\"float\""
        },
        {
         "metadata": "{}",
         "name": "laps",
         "type": "\"integer\""
        },
        {
         "metadata": "{}",
         "name": "time",
         "type": "\"string\""
        },
        {
         "metadata": "{}",
         "name": "milliseconds",
         "type": "\"integer\""
        },
        {
         "metadata": "{}",
         "name": "fastest_lap",
         "type": "\"integer\""
        },
        {
         "metadata": "{}",
         "name": "rank",
         "type": "\"integer\""
        },
        {
         "metadata": "{}",
         "name": "fastest_lap_time",
         "type": "\"string\""
        },
        {
         "metadata": "{}",
         "name": "fastest_lap_speed",
         "type": "\"decimal(10,0)\""
        },
        {
         "metadata": "{}",
         "name": "ingestion_date",
         "type": "\"timestamp\""
        }
       ],
       "type": "table"
      }
     },
     "output_type": "display_data"
    }
   ],
   "source": [
    "%sql\n",
    "SELECT * FROM f1_processed.results LIMIT 5"
   ]
  },
  {
   "cell_type": "code",
   "execution_count": 0,
   "metadata": {
    "application/vnd.databricks.v1+cell": {
     "cellMetadata": {
      "byteLimit": 2048000,
      "rowLimit": 10000
     },
     "inputWidgets": {},
     "nuid": "3bb25a04-5237-4b20-a235-6ac3a5f5df2e",
     "showTitle": false,
     "title": ""
    }
   },
   "outputs": [
    {
     "output_type": "display_data",
     "data": {
      "text/plain": [
       "success"
      ]
     },
     "metadata": {
      "application/vnd.databricks.v1+output": {
       "arguments": {},
       "data": "success",
       "metadata": {},
       "type": "exit"
      }
     },
     "output_type": "display_data"
    }
   ],
   "source": [
    "dbutils.notebook.exit(\"success\")"
   ]
  }
 ],
 "metadata": {
  "application/vnd.databricks.v1+notebook": {
   "dashboards": [],
   "language": "python",
   "notebookMetadata": {
    "mostRecentlyExecutedCommandWithImplicitDF": {
     "commandId": 2180181502837012,
     "dataframes": [
      "_sqldf"
     ]
    },
    "pythonIndentUnit": 4
   },
   "notebookName": "5-ingest_result_file",
   "widgets": {
    "p_data_source": {
     "currentValue": "",
     "nuid": "926881fc-d95f-4bc0-8c59-14e6379a2eaf",
     "widgetInfo": {
      "widgetType": "text",
      "defaultValue": "",
      "label": null,
      "name": "p_data_source",
      "options": {
       "widgetType": "text",
       "validationRegex": null
      }
     }
    }
   }
  }
 },
 "nbformat": 4,
 "nbformat_minor": 0
}
