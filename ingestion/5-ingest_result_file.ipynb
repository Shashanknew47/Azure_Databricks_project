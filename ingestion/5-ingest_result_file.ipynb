{
 "cells": [
  {
   "cell_type": "code",
   "execution_count": 0,
   "metadata": {
    "application/vnd.databricks.v1+cell": {
     "cellMetadata": {
      "byteLimit": 2048000,
      "rowLimit": 10000
     },
     "inputWidgets": {},
     "nuid": "d6516b94-1e28-4c01-9baa-cd9fe6906a61",
     "showTitle": false,
     "title": ""
    }
   },
   "outputs": [],
   "source": [
    "dbutils.widgets.text(\"p_data_source\",\"\")\n",
    "v_data_source = dbutils.widgets.get(\"p_data_source\")"
   ]
  },
  {
   "cell_type": "code",
   "execution_count": 0,
   "metadata": {
    "application/vnd.databricks.v1+cell": {
     "cellMetadata": {},
     "inputWidgets": {},
     "nuid": "72e37fbd-0da4-4bca-9963-073881b72ff8",
     "showTitle": false,
     "title": ""
    }
   },
   "outputs": [],
   "source": [
    "# importing the configuration notebook\n",
    "%run \"/Formula1/includes/configuration\""
   ]
  },
  {
   "cell_type": "code",
   "execution_count": 0,
   "metadata": {
    "application/vnd.databricks.v1+cell": {
     "cellMetadata": {
      "byteLimit": 2048000,
      "rowLimit": 10000
     },
     "inputWidgets": {},
     "nuid": "d7b28225-a9a0-4a73-bcbd-8462559fe708",
     "showTitle": false,
     "title": ""
    }
   },
   "outputs": [],
   "source": [
    "file_path = f'{raw_folder_path}/results.json'\n",
    "from pyspark.sql.types import StructType, StructField, StringType, IntegerType, DecimalType, FloatType\n",
    "\n",
    "schema = StructType( [\n",
    "    StructField(\"resultId\", IntegerType(),False),\n",
    "    StructField(\"raceId\", IntegerType(), False),\n",
    "    StructField(\"driverId\", IntegerType(), False),\n",
    "    StructField (\"constructorId\", IntegerType(), False),\n",
    "    StructField(\"number\", IntegerType(),False),\n",
    "    StructField (\"grid\",IntegerType(), False),\n",
    "    StructField (\"position\", IntegerType(), False),\n",
    "    StructField(\"positionText\", StringType(),True),\n",
    "    StructField (\"positionOrder\",IntegerType(),True),\n",
    "    StructField(\"points\", FloatType()),\n",
    "    StructField(\"laps\", IntegerType()),\n",
    "    StructField (\"time\",StringType()),\n",
    "    StructField (\"milliseconds\", IntegerType()),\n",
    "    StructField(\"fastestLap\", IntegerType()),\n",
    "    StructField (\"rank\",IntegerType()),\n",
    "    StructField(\"fastestLapTime\", StringType()),\n",
    "    StructField(\"fastestLapSpeed\", DecimalType() ),\n",
    "    StructField (\"statusId\", IntegerType())\n",
    "\n",
    "])"
   ]
  },
  {
   "cell_type": "code",
   "execution_count": 0,
   "metadata": {
    "application/vnd.databricks.v1+cell": {
     "cellMetadata": {
      "byteLimit": 2048000,
      "rowLimit": 10000
     },
     "inputWidgets": {},
     "nuid": "7380f717-e667-4d23-8874-607229b77591",
     "showTitle": false,
     "title": ""
    }
   },
   "outputs": [
    {
     "output_type": "stream",
     "name": "stdout",
     "output_type": "stream",
     "text": [
      "+--------+------+--------+-------------+------+----+--------+------------+-------------+------+----+-----------+------------+----------+----+--------------+---------------+--------+\n|resultId|raceId|driverId|constructorId|number|grid|position|positionText|positionOrder|points|laps|       time|milliseconds|fastestLap|rank|fastestLapTime|fastestLapSpeed|statusId|\n+--------+------+--------+-------------+------+----+--------+------------+-------------+------+----+-----------+------------+----------+----+--------------+---------------+--------+\n|       1|    18|       1|            1|    22|   1|       1|           1|            1|  10.0|  58|1:34:50.616|     5690616|        39|   2|      1:27.452|            218|       1|\n|       2|    18|       2|            2|     3|   5|       2|           2|            2|   8.0|  58|     +5.478|     5696094|        41|   3|      1:27.739|            218|       1|\n+--------+------+--------+-------------+------+----+--------+------------+-------------+------+----+-----------+------------+----------+----+--------------+---------------+--------+\nonly showing top 2 rows\n\n"
     ]
    }
   ],
   "source": [
    "df = spark.read.format(\"json\").schema(schema).load(file_path)\n",
    "df.show(2)"
   ]
  },
  {
   "cell_type": "code",
   "execution_count": 0,
   "metadata": {
    "application/vnd.databricks.v1+cell": {
     "cellMetadata": {
      "byteLimit": 2048000,
      "rowLimit": 10000
     },
     "inputWidgets": {},
     "nuid": "07929dff-fbaf-4945-9935-46971a6c841d",
     "showTitle": false,
     "title": ""
    }
   },
   "outputs": [
    {
     "output_type": "stream",
     "name": "stdout",
     "output_type": "stream",
     "text": [
      "+---------+-------+---------+--------------+------+----+--------+-------------+--------------+------+----+-----------+------------+-----------+----+----------------+-----------------+--------------------+\n|result_id|race_id|driver_id|constructor_id|number|grid|position|position_text|position_order|points|laps|       time|milliseconds|fastest_lap|rank|fastest_lap_time|fastest_lap_speed|      ingestion_date|\n+---------+-------+---------+--------------+------+----+--------+-------------+--------------+------+----+-----------+------------+-----------+----+----------------+-----------------+--------------------+\n|        1|     18|        1|             1|    22|   1|       1|            1|             1|  10.0|  58|1:34:50.616|     5690616|         39|   2|        1:27.452|              218|2023-06-20 04:16:...|\n|        2|     18|        2|             2|     3|   5|       2|            2|             2|   8.0|  58|     +5.478|     5696094|         41|   3|        1:27.739|              218|2023-06-20 04:16:...|\n+---------+-------+---------+--------------+------+----+--------+-------------+--------------+------+----+-----------+------------+-----------+----+----------------+-----------------+--------------------+\nonly showing top 2 rows\n\n"
     ]
    }
   ],
   "source": [
    "from pyspark.sql.functions import col, current_timestamp\n",
    "new_df = df.select(   col(\"resultId\").alias(\"result_id\"),\n",
    "                      col(\"raceId\").alias(\"race_id\"),\n",
    "                      col(\"driverId\").alias(\"driver_id\"),\n",
    "                      col(\"constructorId\").alias(\"constructor_id\"),\n",
    "                      \"number\",\n",
    "                      \"grid\",\n",
    "                      \"position\",\n",
    "                      col(\"positionText\").alias(\"position_text\"),\n",
    "                      col(\"positionOrder\").alias(\"position_order\"),\n",
    "                      \"points\",\n",
    "                      \"laps\",\n",
    "                      \"time\",\n",
    "                      \"milliseconds\",\n",
    "                      col(\"fastestLap\").alias(\"fastest_lap\"),\n",
    "                      \"rank\",\n",
    "                      col(\"fastestLapTime\").alias(\"fastest_lap_time\"),\n",
    "                      col(\"fastestLapSpeed\").alias(\"fastest_lap_speed\"),\n",
    "                      current_timestamp().alias(\"ingestion_date\")\n",
    "\n",
    "\n",
    "                   )\n",
    "\n",
    "new_df.show(2)"
   ]
  },
  {
   "cell_type": "code",
   "execution_count": 0,
   "metadata": {
    "application/vnd.databricks.v1+cell": {
     "cellMetadata": {
      "byteLimit": 2048000,
      "rowLimit": 10000
     },
     "inputWidgets": {},
     "nuid": "a7557d49-bb9a-4beb-a39d-1f230648c963",
     "showTitle": false,
     "title": ""
    }
   },
   "outputs": [],
   "source": [
    "destination_file_path = f\"{processed_folder_path}/results\"\n",
    "\n",
    "new_df.write.mode(\"overwrite\").format('parquet').partitionBy('race_id').option('path',destination_file_path).save()"
   ]
  },
  {
   "cell_type": "code",
   "execution_count": 0,
   "metadata": {
    "application/vnd.databricks.v1+cell": {
     "cellMetadata": {
      "byteLimit": 2048000,
      "rowLimit": 10000
     },
     "inputWidgets": {},
     "nuid": "e9a9364e-c35c-4ef3-be00-fd6ceffa6c2b",
     "showTitle": false,
     "title": ""
    }
   },
   "outputs": [
    {
     "output_type": "stream",
     "name": "stdout",
     "output_type": "stream",
     "text": [
      "+---------+---------+--------------+------+----+--------+-------------+--------------+------+----+-----------+------------+-----------+----+----------------+-----------------+--------------------+-------+\n|result_id|driver_id|constructor_id|number|grid|position|position_text|position_order|points|laps|       time|milliseconds|fastest_lap|rank|fastest_lap_time|fastest_lap_speed|      ingestion_date|race_id|\n+---------+---------+--------------+------+----+--------+-------------+--------------+------+----+-----------+------------+-----------+----+----------------+-----------------+--------------------+-------+\n|        1|        1|             1|    22|   1|       1|            1|             1|  10.0|  58|1:34:50.616|     5690616|         39|   2|        1:27.452|              218|2023-06-20 04:16:...|     18|\n|        2|        2|             2|     3|   5|       2|            2|             2|   8.0|  58|     +5.478|     5696094|         41|   3|        1:27.739|              218|2023-06-20 04:16:...|     18|\n|        3|        3|             3|     7|   7|       3|            3|             3|   6.0|  58|     +8.163|     5698779|         41|   5|        1:28.090|              217|2023-06-20 04:16:...|     18|\n|        4|        4|             4|     5|  11|       4|            4|             4|   5.0|  58|    +17.181|     5707797|         58|   7|        1:28.603|              215|2023-06-20 04:16:...|     18|\n|        5|        5|             1|    23|   3|       5|            5|             5|   4.0|  58|    +18.014|     5708630|         43|   1|        1:27.418|              218|2023-06-20 04:16:...|     18|\n+---------+---------+--------------+------+----+--------+-------------+--------------+------+----+-----------+------------+-----------+----+----------------+-----------------+--------------------+-------+\n\n"
     ]
    }
   ],
   "source": [
    "spark.read.parquet(destination_file_path).where(col(\"result_id\").isin([1,2,3,4,5])).show()"
   ]
  },
  {
   "cell_type": "code",
   "execution_count": 0,
   "metadata": {
    "application/vnd.databricks.v1+cell": {
     "cellMetadata": {
      "byteLimit": 2048000,
      "rowLimit": 10000
     },
     "inputWidgets": {},
     "nuid": "3bb25a04-5237-4b20-a235-6ac3a5f5df2e",
     "showTitle": false,
     "title": ""
    }
   },
   "outputs": [
    {
     "output_type": "display_data",
     "data": {
      "text/plain": [
       "success"
      ]
     },
     "metadata": {
      "application/vnd.databricks.v1+output": {
       "arguments": {},
       "data": "success",
       "metadata": {},
       "type": "exit"
      }
     },
     "output_type": "display_data"
    }
   ],
   "source": [
    "dbutils.notebook.exit(\"success\")"
   ]
  }
 ],
 "metadata": {
  "application/vnd.databricks.v1+notebook": {
   "dashboards": [],
   "language": "python",
   "notebookMetadata": {
    "pythonIndentUnit": 4
   },
   "notebookName": "5-ingest_result_file",
   "widgets": {
    "p_data_source": {
     "currentValue": "",
     "nuid": "926881fc-d95f-4bc0-8c59-14e6379a2eaf",
     "widgetInfo": {
      "widgetType": "text",
      "defaultValue": "",
      "label": null,
      "name": "p_data_source",
      "options": {
       "widgetType": "text",
       "validationRegex": null
      }
     }
    }
   }
  }
 },
 "nbformat": 4,
 "nbformat_minor": 0
}
