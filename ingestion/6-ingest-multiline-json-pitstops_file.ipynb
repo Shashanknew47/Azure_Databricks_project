{
 "cells": [
  {
   "cell_type": "code",
   "execution_count": 0,
   "metadata": {
    "application/vnd.databricks.v1+cell": {
     "cellMetadata": {
      "byteLimit": 2048000,
      "rowLimit": 10000
     },
     "inputWidgets": {},
     "nuid": "c57d5ef2-b555-4653-91c3-3e89ce61857a",
     "showTitle": false,
     "title": ""
    }
   },
   "outputs": [],
   "source": [
    "dbutils.widgets.text(\"p_data_source\",\"\")\n",
    "v_data_source = dbutils.widgets.get(\"p_data_source\")"
   ]
  },
  {
   "cell_type": "code",
   "execution_count": 0,
   "metadata": {
    "application/vnd.databricks.v1+cell": {
     "cellMetadata": {
      "byteLimit": 2048000,
      "rowLimit": 10000
     },
     "inputWidgets": {},
     "nuid": "e5458ebd-c518-4707-bc96-1f300e54e065",
     "showTitle": false,
     "title": ""
    }
   },
   "outputs": [
    {
     "output_type": "stream",
     "name": "stdout",
     "output_type": "stream",
     "text": [
      "Out[2]: [FileInfo(path='dbfs:/mnt/formularacedata/presentation/', name='presentation/', size=0, modificationTime=0),\n FileInfo(path='dbfs:/mnt/formularacedata/processed/', name='processed/', size=0, modificationTime=0),\n FileInfo(path='dbfs:/mnt/formularacedata/raw/', name='raw/', size=0, modificationTime=0)]"
     ]
    }
   ],
   "source": [
    "%run \"/Formula1/includes/configuration\""
   ]
  },
  {
   "cell_type": "code",
   "execution_count": 0,
   "metadata": {
    "application/vnd.databricks.v1+cell": {
     "cellMetadata": {
      "byteLimit": 2048000,
      "rowLimit": 10000
     },
     "inputWidgets": {},
     "nuid": "157bdd74-619e-4569-88f8-6d93cf2c4955",
     "showTitle": false,
     "title": ""
    }
   },
   "outputs": [],
   "source": [
    "%run \"/Formula1/includes/common_functions\""
   ]
  },
  {
   "cell_type": "markdown",
   "metadata": {
    "application/vnd.databricks.v1+cell": {
     "cellMetadata": {
      "byteLimit": 2048000,
      "rowLimit": 10000
     },
     "inputWidgets": {},
     "nuid": "c49326b4-6a94-4163-8448-3e1f49045684",
     "showTitle": false,
     "title": ""
    }
   },
   "source": [
    "whenever you have a multiline json file make sure to add .option('multiline', True) property."
   ]
  },
  {
   "cell_type": "code",
   "execution_count": 0,
   "metadata": {
    "application/vnd.databricks.v1+cell": {
     "cellMetadata": {
      "byteLimit": 2048000,
      "rowLimit": 10000
     },
     "inputWidgets": {},
     "nuid": "49100df9-4a67-415a-8cfa-86aca1d24467",
     "showTitle": false,
     "title": ""
    }
   },
   "outputs": [
    {
     "output_type": "stream",
     "name": "stdout",
     "output_type": "stream",
     "text": [
      "+------+--------+----+---+--------+--------+------------+\n|raceId|driverId|stop|lap|    time|duration|milliseconds|\n+------+--------+----+---+--------+--------+------------+\n|   841|     153|   1|  1|17:05:23|  26.898|       26898|\n|   841|      30|   1|  1|17:05:52|  25.021|       25021|\n|   841|      17|   1| 11|17:20:48|  23.426|       23426|\n+------+--------+----+---+--------+--------+------------+\nonly showing top 3 rows\n\n"
     ]
    }
   ],
   "source": [
    "from pyspark.sql.functions import col\n",
    "\n",
    "file_path = f'{raw_folder_path}/pit_stops.json'\n",
    "schema = \"raceId int, driverId int, stop String, lap int, time String, duration String, milliseconds int\"\n",
    "df = spark.read.format('json').schema(schema).option('multiLine',True).load(file_path)\n",
    "df.show(3)\n"
   ]
  },
  {
   "cell_type": "code",
   "execution_count": 0,
   "metadata": {
    "application/vnd.databricks.v1+cell": {
     "cellMetadata": {
      "byteLimit": 2048000,
      "rowLimit": 10000
     },
     "inputWidgets": {},
     "nuid": "fcd9ca8c-b30f-4eca-9163-4314f11a8ce6",
     "showTitle": false,
     "title": ""
    }
   },
   "outputs": [
    {
     "output_type": "stream",
     "name": "stdout",
     "output_type": "stream",
     "text": [
      "root\n |-- raceId: integer (nullable = true)\n |-- driverId: integer (nullable = true)\n |-- stop: string (nullable = true)\n |-- lap: integer (nullable = true)\n |-- time: string (nullable = true)\n |-- duration: string (nullable = true)\n |-- milliseconds: integer (nullable = true)\n\n"
     ]
    }
   ],
   "source": [
    "df.printSchema()"
   ]
  },
  {
   "cell_type": "code",
   "execution_count": 0,
   "metadata": {
    "application/vnd.databricks.v1+cell": {
     "cellMetadata": {
      "byteLimit": 2048000,
      "rowLimit": 10000
     },
     "inputWidgets": {},
     "nuid": "97c5bc71-fa17-4c41-8b17-a0477f1bf8b9",
     "showTitle": false,
     "title": ""
    }
   },
   "outputs": [
    {
     "output_type": "stream",
     "name": "stdout",
     "output_type": "stream",
     "text": [
      "+------+---------+----+---+--------+--------+------------+--------------------+\n|raceId|driver_id|stop|lap|    time|duration|milliseconds|      ingestion_date|\n+------+---------+----+---+--------+--------+------------+--------------------+\n|   841|      153|   1|  1|17:05:23|  26.898|       26898|2023-06-29 19:45:...|\n|   841|       30|   1|  1|17:05:52|  25.021|       25021|2023-06-29 19:45:...|\n|   841|       17|   1| 11|17:20:48|  23.426|       23426|2023-06-29 19:45:...|\n|   841|        4|   1| 12|17:22:34|  23.251|       23251|2023-06-29 19:45:...|\n+------+---------+----+---+--------+--------+------------+--------------------+\nonly showing top 4 rows\n\n"
     ]
    }
   ],
   "source": [
    "from pyspark.sql.functions import current_timestamp\n",
    "new_df = df.withColumn('ingestion_date', current_timestamp())\\\n",
    "            .withColumnRenamed(\"race_id\",\"race_id\") \\\n",
    "            .withColumnRenamed(\"driverId\", \"driver_id\")\n",
    "\n",
    "new_df.show(4)"
   ]
  },
  {
   "cell_type": "code",
   "execution_count": 0,
   "metadata": {
    "application/vnd.databricks.v1+cell": {
     "cellMetadata": {
      "byteLimit": 2048000,
      "rowLimit": 10000
     },
     "inputWidgets": {},
     "nuid": "55d9a3b7-ea7e-461d-8fe3-d09cd182411f",
     "showTitle": false,
     "title": ""
    }
   },
   "outputs": [
    {
     "output_type": "stream",
     "name": "stdout",
     "output_type": "stream",
     "text": [
      "Out[11]: [FileInfo(path='dbfs:/mnt/formularacedata/processed/circuits/', name='circuits/', size=0, modificationTime=1686657879000),\n FileInfo(path='dbfs:/mnt/formularacedata/processed/constructors/', name='constructors/', size=0, modificationTime=1686899550000),\n FileInfo(path='dbfs:/mnt/formularacedata/processed/driver/', name='driver/', size=0, modificationTime=1686917781000),\n FileInfo(path='dbfs:/mnt/formularacedata/processed/drivers/', name='drivers/', size=0, modificationTime=1688066523000),\n FileInfo(path='dbfs:/mnt/formularacedata/processed/lap_time/', name='lap_time/', size=0, modificationTime=1686942708000),\n FileInfo(path='dbfs:/mnt/formularacedata/processed/pit_stops/', name='pit_stops/', size=0, modificationTime=1686925132000),\n FileInfo(path='dbfs:/mnt/formularacedata/processed/qualifying/', name='qualifying/', size=0, modificationTime=1686942774000),\n FileInfo(path='dbfs:/mnt/formularacedata/processed/races/', name='races/', size=0, modificationTime=1686741009000),\n FileInfo(path='dbfs:/mnt/formularacedata/processed/results/', name='results/', size=0, modificationTime=1687234598000)]"
     ]
    }
   ],
   "source": [
    "dbutils.fs.ls(processed_folder_path)"
   ]
  },
  {
   "cell_type": "code",
   "execution_count": 0,
   "metadata": {
    "application/vnd.databricks.v1+cell": {
     "cellMetadata": {
      "byteLimit": 2048000,
      "rowLimit": 10000
     },
     "inputWidgets": {},
     "nuid": "ab0d498d-729b-4151-a407-adee3d143afa",
     "showTitle": false,
     "title": ""
    }
   },
   "outputs": [
    {
     "output_type": "stream",
     "name": "stdout",
     "output_type": "stream",
     "text": [
      "+-------+---------+----+---+--------+--------+------------+--------------------+\n|race_id|driver_id|stop|lap|    time|duration|milliseconds|      ingestion_date|\n+-------+---------+----+---+--------+--------+------------+--------------------+\n|    841|      153|   1|  1|17:05:23|  26.898|       26898|2023-06-29 19:47:...|\n|    841|       30|   1|  1|17:05:52|  25.021|       25021|2023-06-29 19:47:...|\n|    841|       17|   1| 11|17:20:48|  23.426|       23426|2023-06-29 19:47:...|\n|    841|        4|   1| 12|17:22:34|  23.251|       23251|2023-06-29 19:47:...|\n+-------+---------+----+---+--------+--------+------------+--------------------+\nonly showing top 4 rows\n\n"
     ]
    }
   ],
   "source": [
    "final_df =  new_df.withColumnRenamed('raceID','race_id')\n",
    "final_df.show(4)"
   ]
  },
  {
   "cell_type": "code",
   "execution_count": 0,
   "metadata": {
    "application/vnd.databricks.v1+cell": {
     "cellMetadata": {
      "byteLimit": 2048000,
      "rowLimit": 10000
     },
     "inputWidgets": {},
     "nuid": "e58e08d4-1b33-419d-8e43-517d3941d406",
     "showTitle": false,
     "title": ""
    }
   },
   "outputs": [],
   "source": [
    "merge_condition = \"tgt.race_id = src.race_id AND tgt.driver_id = src.driver_id AND tgt.stop = src.stop AND tgt.race_id = src.race_id\"\n",
    "merge_delta_data(final_df, 'f1_processed', 'pit_stops', processed_folder_path, merge_condition, 'race_id')"
   ]
  },
  {
   "cell_type": "code",
   "execution_count": 0,
   "metadata": {
    "application/vnd.databricks.v1+cell": {
     "cellMetadata": {
      "byteLimit": 2048000,
      "implicitDf": true,
      "rowLimit": 10000
     },
     "inputWidgets": {},
     "nuid": "f70b9a2e-2b40-4130-877f-6ffd7af20eec",
     "showTitle": false,
     "title": ""
    }
   },
   "outputs": [
    {
     "output_type": "display_data",
     "data": {
      "text/html": [
       "<style scoped>\n",
       "  .table-result-container {\n",
       "    max-height: 300px;\n",
       "    overflow: auto;\n",
       "  }\n",
       "  table, th, td {\n",
       "    border: 1px solid black;\n",
       "    border-collapse: collapse;\n",
       "  }\n",
       "  th, td {\n",
       "    padding: 5px;\n",
       "  }\n",
       "  th {\n",
       "    text-align: left;\n",
       "  }\n",
       "</style><div class='table-result-container'><table class='table-result'><thead style='background-color: white'><tr><th>race_id</th><th>driver_id</th><th>stop</th><th>lap</th><th>time</th><th>duration</th><th>milliseconds</th><th>ingestion_date</th></tr></thead><tbody><tr><td>841</td><td>153</td><td>1</td><td>1</td><td>17:05:23</td><td>26.898</td><td>26898</td><td>2023-06-29T19:47:31.172+0000</td></tr><tr><td>841</td><td>30</td><td>1</td><td>1</td><td>17:05:52</td><td>25.021</td><td>25021</td><td>2023-06-29T19:47:31.172+0000</td></tr><tr><td>841</td><td>17</td><td>1</td><td>11</td><td>17:20:48</td><td>23.426</td><td>23426</td><td>2023-06-29T19:47:31.172+0000</td></tr><tr><td>841</td><td>4</td><td>1</td><td>12</td><td>17:22:34</td><td>23.251</td><td>23251</td><td>2023-06-29T19:47:31.172+0000</td></tr><tr><td>841</td><td>13</td><td>1</td><td>13</td><td>17:24:10</td><td>23.842</td><td>23842</td><td>2023-06-29T19:47:31.172+0000</td></tr></tbody></table></div>"
      ]
     },
     "metadata": {
      "application/vnd.databricks.v1+output": {
       "addedWidgets": {},
       "aggData": [],
       "aggError": "",
       "aggOverflow": false,
       "aggSchema": [],
       "aggSeriesLimitReached": false,
       "aggType": "",
       "arguments": {},
       "columnCustomDisplayInfos": {},
       "data": [
        [
         841,
         153,
         "1",
         1,
         "17:05:23",
         "26.898",
         26898,
         "2023-06-29T19:47:31.172+0000"
        ],
        [
         841,
         30,
         "1",
         1,
         "17:05:52",
         "25.021",
         25021,
         "2023-06-29T19:47:31.172+0000"
        ],
        [
         841,
         17,
         "1",
         11,
         "17:20:48",
         "23.426",
         23426,
         "2023-06-29T19:47:31.172+0000"
        ],
        [
         841,
         4,
         "1",
         12,
         "17:22:34",
         "23.251",
         23251,
         "2023-06-29T19:47:31.172+0000"
        ],
        [
         841,
         13,
         "1",
         13,
         "17:24:10",
         "23.842",
         23842,
         "2023-06-29T19:47:31.172+0000"
        ]
       ],
       "datasetInfos": [],
       "dbfsResultPath": null,
       "isJsonSchema": true,
       "metadata": {},
       "overflow": false,
       "plotOptions": {
        "customPlotOptions": {},
        "displayType": "table",
        "pivotAggregation": null,
        "pivotColumns": null,
        "xColumns": null,
        "yColumns": null
       },
       "removedWidgets": [],
       "schema": [
        {
         "metadata": "{}",
         "name": "race_id",
         "type": "\"integer\""
        },
        {
         "metadata": "{}",
         "name": "driver_id",
         "type": "\"integer\""
        },
        {
         "metadata": "{}",
         "name": "stop",
         "type": "\"string\""
        },
        {
         "metadata": "{}",
         "name": "lap",
         "type": "\"integer\""
        },
        {
         "metadata": "{}",
         "name": "time",
         "type": "\"string\""
        },
        {
         "metadata": "{}",
         "name": "duration",
         "type": "\"string\""
        },
        {
         "metadata": "{}",
         "name": "milliseconds",
         "type": "\"integer\""
        },
        {
         "metadata": "{}",
         "name": "ingestion_date",
         "type": "\"timestamp\""
        }
       ],
       "type": "table"
      }
     },
     "output_type": "display_data"
    }
   ],
   "source": [
    "%sql\n",
    "SELECT * FROM f1_processed.pit_stops LIMIT 5"
   ]
  },
  {
   "cell_type": "code",
   "execution_count": 0,
   "metadata": {
    "application/vnd.databricks.v1+cell": {
     "cellMetadata": {
      "byteLimit": 2048000,
      "rowLimit": 10000
     },
     "inputWidgets": {},
     "nuid": "b2ba387a-b22b-471b-8f05-a98511004860",
     "showTitle": false,
     "title": ""
    }
   },
   "outputs": [
    {
     "output_type": "display_data",
     "data": {
      "text/plain": [
       ""
      ]
     },
     "metadata": {
      "application/vnd.databricks.v1+output": {
       "arguments": {},
       "data": "",
       "errorSummary": "Command skipped",
       "errorTraceType": "ansi",
       "metadata": {},
       "type": "ipynbError"
      }
     },
     "output_type": "display_data"
    }
   ],
   "source": [
    "dbutils.notebook.exit(\"success\")"
   ]
  }
 ],
 "metadata": {
  "application/vnd.databricks.v1+notebook": {
   "dashboards": [],
   "language": "python",
   "notebookMetadata": {
    "mostRecentlyExecutedCommandWithImplicitDF": {
     "commandId": 2773949543958058,
     "dataframes": [
      "_sqldf"
     ]
    },
    "pythonIndentUnit": 4
   },
   "notebookName": "6-ingest-multiline-json-pitstops_file",
   "widgets": {
    "p_data_source": {
     "currentValue": "",
     "nuid": "7d3201a5-bec1-49d5-a462-93aab6258372",
     "widgetInfo": {
      "widgetType": "text",
      "defaultValue": "",
      "label": null,
      "name": "p_data_source",
      "options": {
       "widgetType": "text",
       "validationRegex": null
      }
     }
    }
   }
  }
 },
 "nbformat": 4,
 "nbformat_minor": 0
}
