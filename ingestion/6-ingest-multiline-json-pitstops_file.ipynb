{
 "cells": [
  {
   "cell_type": "code",
   "execution_count": null,
   "metadata": {
    "application/vnd.databricks.v1+cell": {
     "cellMetadata": {},
     "inputWidgets": {},
     "nuid": "c57d5ef2-b555-4653-91c3-3e89ce61857a",
     "showTitle": false,
     "title": ""
    }
   },
   "outputs": [],
   "source": [
    "dbutils.widgets.text(\"p_data_source\",\"\")\n",
    "v_data_source = dbutils.widgets.get(\"p_data_source\")"
   ]
  },
  {
   "cell_type": "code",
   "execution_count": null,
   "metadata": {
    "application/vnd.databricks.v1+cell": {
     "cellMetadata": {},
     "inputWidgets": {},
     "nuid": "e5458ebd-c518-4707-bc96-1f300e54e065",
     "showTitle": false,
     "title": ""
    }
   },
   "outputs": [],
   "source": [
    "%run \"/Formula1/includes/configuration\""
   ]
  },
  {
   "cell_type": "code",
   "execution_count": null,
   "metadata": {
    "application/vnd.databricks.v1+cell": {
     "cellMetadata": {
      "byteLimit": 2048000,
      "rowLimit": 10000
     },
     "inputWidgets": {},
     "nuid": "2ca903ff-6ea9-4172-99e9-3b21d1f99a40",
     "showTitle": false,
     "title": ""
    }
   },
   "outputs": [
    {
     "name": "stdout",
     "output_type": "stream",
     "text": [
      "[Truncated to first 65536 bytes]\n",
      "Out[61]: '[\\r\\n   {\\r\\n      \"raceId\":841,\\r\\n      \"driverId\":153,\\r\\n      \"stop\":1,\\r\\n      \"lap\":1,\\r\\n      \"time\":\"17:05:23\",\\r\\n      \"duration\":26.898,\\r\\n      \"milliseconds\":26898\\r\\n   },\\r\\n   {\\r\\n      \"raceId\":841,\\r\\n      \"driverId\":30,\\r\\n      \"stop\":1,\\r\\n      \"lap\":1,\\r\\n      \"time\":\"17:05:52\",\\r\\n      \"duration\":25.021,\\r\\n      \"milliseconds\":25021\\r\\n   },\\r\\n   {\\r\\n      \"raceId\":841,\\r\\n      \"driverId\":17,\\r\\n      \"stop\":1,\\r\\n      \"lap\":11,\\r\\n      \"time\":\"17:20:48\",\\r\\n      \"duration\":23.426,\\r\\n      \"milliseconds\":23426\\r\\n   },\\r\\n   {\\r\\n      \"raceId\":841,\\r\\n      \"driverId\":4,\\r\\n      \"stop\":1,\\r\\n      \"lap\":12,\\r\\n      \"time\":\"17:22:34\",\\r\\n      \"duration\":23.251,\\r\\n      \"milliseconds\":23251\\r\\n   },\\r\\n   {\\r\\n      \"raceId\":841,\\r\\n      \"driverId\":13,\\r\\n      \"stop\":1,\\r\\n      \"lap\":13,\\r\\n      \"time\":\"17:24:10\",\\r\\n      \"duration\":23.842,\\r\\n      \"milliseconds\":23842\\r\\n   },\\r\\n   {\\r\\n      \"raceId\":841,\\r\\n      \"driverId\":22,\\r\\n      \"stop\":1,\\r\\n      \"lap\":13,\\r\\n      \"time\":\"17:24:29\",\\r\\n      \"duration\":23.643,\\r\\n      \"milliseconds\":23643\\r\\n   },\\r\\n   {\\r\\n      \"raceId\":841,\\r\\n      \"driverId\":20,\\r\\n      \"stop\":1,\\r\\n      \"lap\":14,\\r\\n      \"time\":\"17:25:17\",\\r\\n      \"duration\":22.603,\\r\\n      \"milliseconds\":22603\\r\\n   },\\r\\n   {\\r\\n      \"raceId\":841,\\r\\n      \"driverId\":814,\\r\\n      \"stop\":1,\\r\\n      \"lap\":14,\\r\\n      \"time\":\"17:26:03\",\\r\\n      \"duration\":24.863,\\r\\n      \"milliseconds\":24863\\r\\n   },\\r\\n   {\\r\\n      \"raceId\":841,\\r\\n      \"driverId\":816,\\r\\n      \"stop\":1,\\r\\n      \"lap\":14,\\r\\n      \"time\":\"17:26:50\",\\r\\n      \"duration\":25.259,\\r\\n      \"milliseconds\":25259\\r\\n   },\\r\\n   {\\r\\n      \"raceId\":841,\\r\\n      \"driverId\":67,\\r\\n      \"stop\":1,\\r\\n      \"lap\":15,\\r\\n      \"time\":\"17:27:34\",\\r\\n      \"duration\":25.342,\\r\\n      \"milliseconds\":25342\\r\\n   },\\r\\n   {\\r\\n      \"raceId\":841,\\r\\n      \"driverId\":2,\\r\\n      \"stop\":1,\\r\\n      \"lap\":15,\\r\\n      \"time\":\"17:27:41\",\\r\\n      \"duration\":22.994,\\r\\n      \"milliseconds\":22994\\r\\n   },\\r\\n   {\\r\\n      \"raceId\":841,\\r\\n      \"driverId\":1,\\r\\n      \"stop\":1,\\r\\n      \"lap\":16,\\r\\n      \"time\":\"17:28:24\",\\r\\n      \"duration\":23.227,\\r\\n      \"milliseconds\":23227\\r\\n   },\\r\\n   {\\r\\n      \"raceId\":841,\\r\\n      \"driverId\":808,\\r\\n      \"stop\":1,\\r\\n      \"lap\":16,\\r\\n      \"time\":\"17:28:39\",\\r\\n      \"duration\":24.535,\\r\\n      \"milliseconds\":24535\\r\\n   },\\r\\n   {\\r\\n      \"raceId\":841,\\r\\n      \"driverId\":3,\\r\\n      \"stop\":1,\\r\\n      \"lap\":16,\\r\\n      \"time\":\"17:29:00\",\\r\\n      \"duration\":23.716,\\r\\n      \"milliseconds\":23716\\r\\n   },\\r\\n   {\\r\\n      \"raceId\":841,\\r\\n      \"driverId\":155,\\r\\n      \"stop\":1,\\r\\n      \"lap\":16,\\r\\n      \"time\":\"17:29:06\",\\r\\n      \"duration\":24.064,\\r\\n      \"milliseconds\":24064\\r\\n   },\\r\\n   {\\r\\n      \"raceId\":841,\\r\\n      \"driverId\":16,\\r\\n      \"stop\":1,\\r\\n      \"lap\":16,\\r\\n      \"time\":\"17:29:08\",\\r\\n      \"duration\":25.978,\\r\\n      \"milliseconds\":25978\\r\\n   },\\r\\n   {\\r\\n      \"raceId\":841,\\r\\n      \"driverId\":15,\\r\\n      \"stop\":1,\\r\\n      \"lap\":16,\\r\\n      \"time\":\"17:29:49\",\\r\\n      \"duration\":24.899,\\r\\n      \"milliseconds\":24899\\r\\n   },\\r\\n   {\\r\\n      \"raceId\":841,\\r\\n      \"driverId\":18,\\r\\n      \"stop\":1,\\r\\n      \"lap\":17,\\r\\n      \"time\":\"17:30:24\",\\r\\n      \"duration\":16.867,\\r\\n      \"milliseconds\":16867\\r\\n   },\\r\\n   {\\r\\n      \"raceId\":841,\\r\\n      \"driverId\":153,\\r\\n      \"stop\":2,\\r\\n      \"lap\":17,\\r\\n      \"time\":\"17:31:06\",\\r\\n      \"duration\":24.463,\\r\\n      \"milliseconds\":24463\\r\\n   },\\r\\n   {\\r\\n      \"raceId\":841,\\r\\n      \"driverId\":5,\\r\\n      \"stop\":1,\\r\\n      \"lap\":17,\\r\\n      \"time\":\"17:31:11\",\\r\\n      \"duration\":24.865,\\r\\n      \"milliseconds\":24865\\r\\n   },\\r\\n   {\\r\\n      \"raceId\":841,\\r\\n      \"driverId\":30,\\r\\n      \"stop\":2,\\r\\n      \"lap\":17,\\r\\n      \"time\":\"17:32:08\",\\r\\n      \"duration\":23.988,\\r\\n      \"milliseconds\":23988\\r\\n   },\\r\\n   {\\r\\n      \"raceId\":841,\\r\\n      \"driverId\":10,\\r\\n      \"stop\":1,\\r\\n      \"lap\":18,\\r\\n      \"time\":\"17:33:02\",\\r\\n      \"duration\":23.792,\\r\\n      \"milliseconds\":23792\\r\\n   },\\r\\n   {\\r\\n      \"raceId\":841,\\r\\n      \"driverId\":18,\\r\\n      \"stop\":2,\\r\\n      \"lap\":19,\\r\\n      \"time\":\"17:33:53\",\\r\\n      \"duration\":23.303,\\r\\n      \"milliseconds\":23303\\r\\n   },\\r\\n   {\\r\\n      \"raceId\":841,\\r\\n      \"driverId\":815,\\r\\n      \"stop\":1,\\r\\n      \"lap\":23,\\r\\n      \"time\":\"17:40:27\",\\r\\n      \"duration\":23.438,\\r\\n      \"milliseconds\":23438\\r\\n   },\\r\\n   {\\r\\n      \"raceId\":841,\\r\\n      \"driverId\":22,\\r\\n      \"stop\":2,\\r\\n      \"lap\":23,\\r\\n      \"time\":\"17:40:45\",\\r\\n      \"duration\":37.856,\\r\\n      \"milliseconds\":37856\\r\\n   },\\r\\n   {\\r\\n      \"raceId\":841,\\r\\n      \"driverId\":17,\\r\\n      \"stop\":2,\\r\\n      \"lap\":26,\\r\\n      \"time\":\"17:44:29\",\\r\\n      \"duration\":22.52,\\r\\n      \"milliseconds\":22520\\r\\n   },\\r\\n   {\\r\\n      \"raceId\":841,\\r\\n      \"driverId\":4,\\r\\n      \"stop\":2,\\r\\n      \"lap\":27,\\r\\n      \"time\":\"17:46:04\",\\r\\n      \"duration\":24.733,\\r\\n      \"milliseconds\":24733\\r\\n   },\\r\\n   {\\r\\n      \"raceId\":841,\\r\\n      \"driverId\":22,\\r\\n      \"stop\":3,\\r\\n      \"lap\":28,\\r\\n      \"time\":\"17:49:07\",\\r\\n      \"duration\":16.892,\\r\\n      \"milliseconds\":16892\\r\\n   },\\r\\n   {\\r\\n      \"raceId\":841,\\r\\n      \"driverId\":67,\\r\\n      \"stop\":2,\\r\\n      \"lap\":29,\\r\\n      \"time\":\"17:49:47\",\\r\\n      \"duration\":23.1,\\r\\n      \"milliseconds\":23100\\r\\n   },\\r\\n   {\\r\\n      \"raceId\":841,\\r\\n      \"driverId\":2,\\r\\n      \"stop\":2,\\r\\n      \"lap\":30,\\r\\n      \"time\":\"17:51:32\",\\r\\n      \"duration\":25.098,\\r\\n      \"milliseconds\":25098\\r\\n   },\\r\\n   {\\r\\n      \"raceId\":841,\\r\\n      \"driverId\":13,\\r\\n      \"stop\":2,\\r\\n      \"lap\":31,\\r\\n      \"time\":\"17:52:28\",\\r\\n      \"duration\":24.5,\\r\\n      \"milliseconds\":24500\\r\\n   },\\r\\n   {\\r\\n      \"raceId\":841,\\r\\n      \"driverId\":155,\\r\\n      \"stop\":2,\\r\\n      \"lap\":32,\\r\\n      \"time\":\"17:54:21\",\\r\\n      \"duration\":24.192,\\r\\n      \"milliseconds\":24192\\r\\n   },\\r\\n   {\\r\\n      \"raceId\":841,\\r\\n      \"driverId\":20,\\r\\n      \"stop\":2,\\r\\n      \"lap\":36,\\r\\n      \"time\":\"17:59:17\",\\r\\n      \"duration\":24.036,\\r\\n      \"milliseconds\":24036\\r\\n   },\\r\\n   {\\r\\n      \"raceId\":841,\\r\\n      \"driverId\":1,\\r\\n      \"stop\":2,\\r\\n      \"lap\":36,\\r\\n      \"time\":\"17:59:29\",\\r\\n      \"duration\":23.199,\\r\\n      \"milliseconds\":23199\\r\\n   },\\r\\n   {\\r\\n      \"raceId\":841,\\r\\n      \"driverId\":153,\\r\\n      \"stop\":3,\\r\\n      \"lap\":35,\\r\\n      \"time\":\"17:59:45\",\\r\\n      \"duration\":26.348,\\r\\n      \"milliseconds\":26348\\r\\n   },\\r\\n   {\\r\\n      \"raceId\":841,\\r\\n      \"driverId\":808,\\r\\n      \"stop\":2,\\r\\n      \"lap\":36,\\r\\n      \"time\":\"17:59:47\",\\r\\n      \"duration\":25.683,\\r\\n      \"milliseconds\":25683\\r\\n   },\\r\\n   {\\r\\n      \"raceId\":841,\\r\\n      \"driverId\":814,\\r\\n      \"stop\":2,\\r\\n      \"lap\":36,\\r\\n      \"time\":\"18:00:48\",\\r\\n      \"duration\":24.332,\\r\\n      \"milliseconds\":24332\\r\\n   },\\r\\n   {\\r\\n      \"raceId\":841,\\r\\n      \"driverId\":18,\\r\\n      \"stop\":3,\\r\\n      \"lap\":37,\\r\\n      \"time\":\"18:01:49\",\\r\\n      \"duration\":22.681,\\r\\n      \"milliseconds\":22681\\r\\n   },\\r\\n   {\\r\\n      \"raceId\":841,\\r\\n      \"driverId\":16,\\r\\n      \"stop\":2,\\r\\n      \"lap\":37,\\r\\n      \"time\":\"18:02:15\",\\r\\n      \"duration\":23.871,\\r\\n      \"milliseconds\":23871\\r\\n   },\\r\\n   {\\r\\n      \"raceId\":841,\\r\\n      \"driverId\":15,\\r\\n      \"stop\":2,\\r\\n      \"lap\":37,\\r\\n      \"time\":\"18:03:55\",\\r\\n      \"duration\":24.848,\\r\\n      \"milliseconds\":24848\\r\\n   },\\r\\n   {\\r\\n      \"raceId\":841,\\r\\n      \"driverId\":816,\\r\\n      \"stop\":2,\\r\\n      \"lap\":38,\\r\\n      \"time\":\"18:06:53\",\\r\\n      \"duration\":26.446,\\r\\n      \"milliseconds\":26446\\r\\n   },\\r\\n   {\\r\\n      \"raceId\":841,\\r\\n      \"driverId\":17,\\r\\n      \"stop\":3,\\r\\n      \"lap\":41,\\r\\n      \"time\":\"18:07:37\",\\r\\n      \"duration\":26.23,\\r\\n      \"milliseconds\":26230\\r\\n   },\\r\\n   {\\r\\n      \"raceId\":841,\\r\\n      \"driverId\":22,\\r\\n      \"stop\":4,\\r\\n      \"lap\":40,\\r\\n      \"time\":\"18:08:03\",\\r\\n      \"duration\":26.309,\\r\\n      \"milliseconds\":26309\\r\\n   },\\r\\n   {\\r\\n      \"raceId\":841,\\r\\n      \"driverId\":4,\\r\\n      \"stop\":3,\\r\\n      \"lap\":42,\\r\\n      \"time\":\"18:09:08\",\\r\\n      \"duration\":24.181,\\r\\n      \"milliseconds\":24181\\r\\n   },\\r\\n   {\\r\\n      \"raceId\":841,\\r\\n      \"driverId\":13,\\r\\n      \"stop\":3,\\r\\n      \"lap\":48,\\r\\n      \"time\":\"18:18:54\",\\r\\n      \"duration\":24.095,\\r\\n      \"milliseconds\":24095\\r\\n   },\\r\\n   {\\r\\n      \"raceId\":842,\\r\\n      \"driverId\":16,\\r\\n      \"stop\":1,\\r\\n      \"lap\":3,\\r\\n      \"time\":\"16:09:07\",\\r\\n      \"duration\":31.694,\\r\\n      \"milliseconds\":31694\\r\\n   },\\r\\n   {\\r\\n      \"raceId\":842,\\r\\n      \"driverId\":22,\\r\\n      \"stop\":1,\\r\\n      \"lap\":3,\\r\\n      \"time\":\"16:10:04\",\\r\\n      \"duration\":32.978,\\r\\n      \"milliseconds\":32978\\r\\n   },\\r\\n   {\\r\\n      \"raceId\":842,\\r\\n      \"driverId\":17,\\r\\n      \"stop\":1,\\r\\n      \"lap\":10,\\r\\n      \"time\":\"16:21:21\",\\r\\n      \"duration\":22.572,\\r\\n      \"milliseconds\":22572\\r\\n   },\\r\\n   {\\r\\n      \"raceId\":842,\\r\\n      \"driverId\":814,\\r\\n      \"stop\":1,\\r\\n      \"lap\":11,\\r\\n      \"time\":\"16:23:16\",\\r\\n      \"duration\":22.773,\\r\\n      \"milliseconds\":22773\\r\\n   },\\r\\n   {\\r\\n      \"raceId\":842,\\r\\n      \"driverId\":1,\\r\\n      \"stop\":1,\\r\\n      \"lap\":12,\\r\\n      \"time\":\"16:24:40\",\\r\\n      \"duration\":22.552,\\r\\n      \"milliseconds\":22552\\r\\n   },\\r\\n   {\\r\\n      \"raceId\":842,\\r\\n      \"driverId\":20,\\r\\n      \"stop\":1,\\r\\n      \"lap\":13,\\r\\n      \"time\":\"16:26:17\",\\r\\n      \"duration\":23.019,\\r\\n      \"milliseconds\":23019\\r\\n   },\\r\\n   {\\r\\n      \"raceId\":842,\\r\\n      \"driverId\":2,\\r\\n      \"stop\":1,\\r\\n      \"lap\":13,\\r\\n      \"time\":\"16:26:28\",\\r\\n      \"duration\":23.9,\\r\\n      \"milliseconds\":23900\\r\\n   },\\r\\n   {\\r\\n      \"raceId\":842,\\r\\n      \"driverId\":18,\\r\\n      \"stop\":1,\\r\\n      \"lap\":13,\\r\\n      \"time\":\"16:26:29\",\\r\\n      \"duration\":22.4,\\r\\n      \"milliseconds\":22400\\r\\n   },\\r\\n   {\\r\\n      \"raceId\":842,\\r\\n      \"driverId\":13,\\r\\n      \"stop\":1,\\r\\n      \"lap\":13,\\r\\n      \"time\":\"16:26:30\",\\r\\n      \"duration\":29.224,\\r\\n      \"milliseconds\":29224\\r\\n   },\\r\\n   {\\r\\n      \"raceId\":842,\\r\\n      \"driverId\":15,\\r\\n      \"stop\":1,\\r\\n      \"lap\":13,\\r\\n      \"time\":\"16:27:03\",\\r\\n      \"duration\":25.516,\\r\\n      \"milliseconds\":25516\\r\\n   },\\r\\n   {\\r\\n      \"raceId\":842,\\r\\n      \"driverId\":4,\\r\\n      \"stop\":1,\\r\\n      \"lap\":14,\\r\\n      \"time\":\"16:28:15\",\\r\\n      \"duration\":23.152,\\r\\n      \"milliseconds\":23152\\r\\n   },\\r\\n   {\\r\\n      \"raceId\":842,\\r\\n      \"driverId\":30,\\r\\n      \"stop\":1,\\r\\n      \"lap\":14,\\r\\n      \"time\":\"16:28:34\",\\r\\n      \"duration\":22.576,\\r\\n      \"milliseconds\":22576\\r\\n   },\\r\\n   {\\r\\n      \"raceId\":842,\\r\\n      \"driverId\":808,\\r\\n      \"stop\":1,\\r\\n      \"lap\":15,\\r\\n      \"time\":\"16:30:10\",\\r\\n      \"duration\":23.182,\\r\\n      \"milliseconds\":23182\\r\\n   },\\r\\n   {\\r\\n      \"raceId\":842,\\r\\n      \"driverId\":67,\\r\\n      \"stop\":1,\\r\\n      \"lap\":15,\\r\\n      \"time\":\"16:30:23\",\\r\\n      \"duration\":23.28,\\r\\n      \"milliseconds\":23280\\r\\n   },\\r\\n   {\\r\\n      \"raceId\":842,\\r\\n      \"driverId\":3,\\r\\n      \"stop\":1,\\r\\n      \"lap\":15,\\r\\n      \"time\":\"16:30:37\",\\r\\n      \"duration\":24.967,\\r\\n      \"milliseconds\":24967\\r\\n   },\\r\\n   {\\r\\n      \"raceId\":842,\\r\\n      \"driverId\":5,\\r\\n      \"stop\":1,\\r\\n      \"lap\":15,\\r\\n      \"time\":\"16:30:37\",\\r\\n      \"duration\":29.084,\\r\\n      \"milliseconds\":29084\\r\\n   },\\r\\n   {\\r\\n      \"raceId\":842,\\r\\n      \"driverId\":153,\\r\\n      \"stop\":1,\\r\\n      \"lap\":16,\\r\\n      \"time\":\"16:32:25\",\\r\\n      \"duration\":23.584,\\r\\n      \"milliseconds\":23584\\r\\n   },\\r\\n   {\\r\\n      \"raceId\":842,\\r\\n      \"driverId\":16,\\r\\n      \"stop\":2,\\r\\n      \"lap\":16,\\r\\n      \"time\":\"16:32:31\",\\r\\n      \"duration\":22.046,\\r\\n      \"milliseconds\":22046\\r\\n   },\\r\\n   {\\r\\n      \"raceId\":842,\\r\\n      \"driverId\":155,\\r\\n      \"stop\":1,\\r\\n      \"lap\":17,\\r\\n      \"time\":\"16:33:53\",\\r\\n      \"duration\":23.28,\\r\\n      \"milliseconds\":23280\\r\\n   },\\r\\n   {\\r\\n      \"raceId\":842,\\r\\n      \"driverId\":815,\\r\\n      \"stop\":1,\\r\\n      \"lap\":17,\\r\\n      \"time\":\"16:34:14\",\\r\\n      \"duration\":23.597,\\r\\n      \"milliseconds\":23597\\r\\n   },\\r\\n   {\\r\\n      \"raceId\":842,\\r\\n      \"driverId\":10,\\r\\n      \"stop\":1,\\r\\n      \"lap\":17,\\r\\n      \"time\":\"16:34:28\",\\r\\n      \"duration\":24.617,\\r\\n      \"milliseconds\":24617\\r\\n   },\\r\\n   {\\r\\n      \"raceId\":842,\\r\\n      \"driverId\":816,\\r\\n      \"stop\":1,\\r\\n      \"lap\":17,\\r\\n      \"time\":\"16:34:39\",\\r\\n      \"duration\":26.252,\\r\\n      \"milliseconds\":26252\\r\\n   },\\r\\n   {\\r\\n      \"raceId\":842,\\r\\n      \"driverId\":24,\\r\\n      \"stop\":1,\\r\\n      \"lap\":17,\\r\\n      \"time\":\"16:34:56\",\\r\\n      \"duration\":27.815,\\r\\n      \"milliseconds\":27815\\r\\n   },\\r\\n   {\\r\\n      \"raceId\":842,\\r\\n      \"driverId\":22,\\r\\n      \"stop\":2,\\r\\n      \"lap\":17,\\r\\n      \"time\":\"16:35:41\",\\r\\n      \"duration\":24.502,\\r\\n      \"milliseconds\":24502\\r\\n   },\\r\\n   {\\r\\n      \"raceId\":842,\\r\\n      \"driverId\":67,\\r\\n      \"stop\":2,\\r\\n      \"lap\":20,\\r\\n      \"time\":\"16:39:30\",\\r\\n      \"duration\":29.843,\\r\\n      \"milliseconds\":29843\\r\\n   },\\r\\n   {\\r\\n      \"raceId\":842,\\r\\n      \"driverId\":17,\\r\\n      \"stop\":2,\\r\\n      \"lap\":22,\\r\\n      \"time\":\"16:42:37\",\\r\\n      \"duration\":21.991,\\r\\n      \"milliseconds\":21991\\r\\n   },\\r\\n   {\\r\\n      \"raceId\":842,\\r\\n      \"driverId\":18,\\r\\n      \"stop\":2,\\r\\n      \"lap\":23,\\r\\n      \"time\":\"16:44:11\",\\r\\n      \"duration\":22.471,\\r\\n      \"milliseconds\":22471\\r\\n   },\\r\\n   {\\r\\n      \"raceId\":842,\\r\\n      \"driverId\":1,\\r\\n      \"stop\":2,\\r\\n      \"lap\":24,\\r\\n      \"time\":\"16:45:48\",\\r\\n      \"duration\":22.611,\\r\\n      \"milliseconds\":22611\\r\\n   },\\r\\n   {\\r\\n      \"raceId\":842,\\r\\n      \"driverId\":814,\\r\\n      \"stop\":2,\\r\\n      \"lap\":24,\\r\\n      \"time\":\"16:46:20\",\\r\\n      \"duration\":22.419,\\r\\n      \"milliseconds\":22419\\r\\n   },\\r\\n   {\\r\\n      \"raceId\":842,\\r\\n      \"driverId\":20,\\r\\n      \"stop\":2,\\r\\n      \"lap\":25,\\r\\n      \"time\":\"16:47:27\",\\r\\n      \"duration\":21.893,\\r\\n      \"milliseconds\":21893\\r\\n   },\\r\\n   {\\r\\n      \"raceId\":842,\\r\\n      \"driverId\":4,\\r\\n      \"stop\":2,\\r\\n      \"lap\":26,\\r\\n      \"time\":\"16:49:19\",\\r\\n      \"duration\":23.894,\\r\\n      \"milliseconds\":23894\\r\\n   },\\r\\n   {\\r\\n      \"raceId\":842,\\r\\n      \"driverId\":2,\\r\\n      \"stop\":2,\\r\\n      \"lap\":26,\\r\\n      \"time\":\"16:49:31\",\\r\\n      \"duration\":23.221,\\r\\n      \"milliseconds\":23221\\r\\n   },\\r\\n   {\\r\\n      \"raceId\":842,\\r\\n      \"driverId\":13,\\r\\n      \"stop\":2,\\r\\n      \"lap\":27,\\r\\n      \"time\":\"16:51:17\",\\r\\n      \"duration\":22.541,\\r\\n      \"milliseconds\":22541\\r\\n   },\\r\\n   {\\r\\n      \"raceId\":842,\\r\\n      \"driverId\":808,\\r\\n      \"stop\":2,\\r\\n      \"lap\":27,\\r\\n      \"time\":\"16:51:25\",\\r\\n      \"duration\":22.68,\\r\\n      \"milliseconds\":22680\\r\\n   },\\r\\n   {\\r\\n      \"raceId\":842,\\r\\n      \"driverId\":30,\\r\\n      \"stop\":2,\\r\\n      \"lap\":28,\\r\\n      \"time\":\"16:53:26\",\\r\\n      \"duration\":22.261,\\r\\n      \"milliseconds\":22261\\r\\n   },\\r\\n   {\\r\\n      \"raceId\":842,\\r\\n      \"driverId\":3,\\r\\n      \"stop\":2,\\r\\n      \"lap\":29,\\r\\n      \"time\":\"16:55:28\",\\r\\n      \"duration\":22.577,\\r\\n      \"milliseconds\":22577\\r\\n   },\\r\\n   {\\r\\n      \"raceId\":842,\\r\\n      \"driverId\":17,\\r\\n      \"stop\":3,\\r\\n      \"lap\":32,\\r\\n      \"time\":\"17:00:01\",\\r\\n      \"duration\":22.069,\\r\\n      \"milliseconds\":22069\\r\\n   },\\r\\n   {\\r\\n      \"raceId\":842,\\r\\n      \"driverId\":153,\\r\\n      \"stop\":2,\\r\\n      \"lap\":32,\\r\\n      \"time\":\"17:00:55\",\\r\\n      \"duration\":22.888,\\r\\n      \"milliseconds\":22888\\r\\n   },\\r\\n   {\\r\\n      \"raceId\":842,\\r\\n      \"driverId\":16,\\r\\n      \"stop\":3,\\r\\n      \"lap\":32,\\r\\n      \"time\":\"17:00:56\",\\r\\n      \"duration\":22.55,\\r\\n      \"milliseconds\":22550\\r\\n   },\\r\\n   {\\r\\n      \"raceId\":842,\\r\\n      \"driverId\":67,\\r\\n      \"stop\":3,\\r\\n      \"lap\":32,\\r\\n      \"time\":\"17:01:03\",\\r\\n      \"duration\":27.439,\\r\\n      \"milliseconds\":27439\\r\\n   },\\r\\n   {\\r\\n      \"raceId\":842,\\r\\n      \"driverId\":5,\\r\\n      \"stop\":2,\\r\\n      \"lap\":34,\\r\\n      \"time\":\"17:04:41\",\\r\\n      \"duration\":23.336,\\r\\n      \"milliseconds\":23336\\r\\n   },\\r\\n   {\\r\\n      \"raceId\":842,\\r\\n      \"driverId\":10,\\r\\n      \"stop\":2,\\r\\n      \"lap\":34,\\r\\n      \"time\":\"17:05:19\",\\r\\n      \"duration\":24.429,\\r\\n      \"milliseconds\":24429\\r\\n   },\\r\\n   {\\r\\n      \"raceId\":842,\\r\\n      \"driverId\":816,\\r\\n      \"stop\":2,\\r\\n      \"lap\":35,\\r\\n      \"time\":\"17:07:20\",\\r\\n      \"duration\":24.416,\\r\\n      \"milliseconds\":24416\\r\\n   },\\r\\n   {\\r\\n      \"raceId\":842,\\r\\n      \"driverId\":155,\\r\\n      \"stop\":2,\\r\\n      \"lap\":36,\\r\\n      \"time\":\"17:07:26\",\\r\\n      \"duration\":23.442,\\r\\n      \"milliseconds\":23442\\r\\n   },\\r\\n   {\\r\\n      \"raceId\":842,\\r\\n      \"driverId\":1,\\r\\n      \"stop\":3,\\r\\n      \"lap\":37,\\r\\n      \"time\":\"17:08:28\",\\r\\n      \"duration\":25.382,\\r\\n      \"milliseconds\":25382\\r\\n   },\\r\\n   {\\r\\n      \"raceId\":842,\\r\\n      \"driverId\":814,\\r\\n      \"stop\":3,\\r\\n      \"lap\":37,\\r\\n      \"time\":\"17:09:21\",\\r\\n      \"duration\":23.977,\\r\\n      \"milliseconds\":23977\\r\\n   },\\r\\n   {\\r\\n      \"raceId\":842,\\r\\n      \"driverId\":18,\\r\\n      \"stop\":3,\\r\\n      \"lap\":38,\\r\\n      \"time\":\"17:10:13\",\\r\\n      \"duration\":22.483,\\r\\n      \"milliseconds\":22483\\r\\n   },\\r\\n   {\\r\\n      \"raceId\":842,\\r\\n      \"driverId\":13,\\r\\n      \"stop\":3,\\r\\n      \"lap\":38,\\r\\n      \"time\":\"17:10:28\",\\r\\n      \"duration\":22.893,\\r\\n      \"milliseconds\":22893\\r\\n   },\\r\\n   {\\r\\n      \"raceId\":842,\\r\\n      \"driverId\":2,\\r\\n      \"stop\":3,\\r\\n      \"lap\":39,\\r\\n      \"time\":\"17:12:09\",\\r\\n      \"duration\":22.602,\\r\\n      \"milliseconds\":22602\\r\\n   },\\r\\n   {\\r\\n      \"raceId\":842,\\r\\n      \"driverId\":24,\\r\\n      \"stop\":2,\\r\\n      \"lap\":38,\\r\\n      \"time\":\"17:13:32\",\\r\\n      \"duration\":26.554,\\r\\n      \"milliseconds\":26554\\r\\n   },\\r\\n   {\\r\\n      \"raceId\":842,\\r\\n      \"driverId\":3,\\r\\n      \"stop\":3,\\r\\n      \"lap\":40,\\r\\n      \"time\":\"17:15:05\",\\r\\n      \"duration\":22.526,\\r\\n      \"milliseconds\":22526\\r\\n   },\\r\\n   {\\r\\n      \"raceId\":842,\\r\\n      \"driverId\":20,\\r\\n      \"stop\":3,\\r\\n      \"lap\":41,\\r\\n      \"time\":\"17:15:08\",\\r\\n      \"duration\":22.313,\\r\\n      \"milliseconds\":22313\\r\\n   },\\r\\n   {\\r\\n      \"raceId\":842,\\r\\n      \"driverId\":4,\\r\\n      \"stop\":3,\\r\\n      \"lap\":41,\\r\\n      \"time\":\"17:15:25\",\\r\\n      \"duration\":23.812,\\r\\n      \"milliseconds\":23812\\r\\n   },\\r\\n   {\\r\\n      \"raceId\":842,\\r\\n      \"driverId\":30,\\r\\n      \"stop\":3,\\r\\n      \"lap\":42,\\r\\n      \"time\":\"17:18:08\",\\r\\n      \"duration\":22.227,\\r\\n      \"milliseconds\":22227\\r\\n   },\\r\\n   {\\r\\n      \"raceId\":842,\\r\\n      \"driverId\":17,\\r\\n      \"stop\":4,\\r\\n      \"lap\":43,\\r\\n      \"time\":\"17:19:10\",\\r\\n      \"duration\":22.161,\\r\\n      \"milliseconds\":22161\\r\\n   },\\r\\n   {\\r\\n      \"raceId\":842,\\r\\n      \"driverId\":808,\\r\\n      \"stop\":3,\\r\\n      \"lap\":44,\\r\\n      \"time\":\"17:21:08\",\\r\\n      \"duration\":28.694,\\r\\n      \"milliseconds\":28694\\r\\n   },\\r\\n   {\\r\\n      \"raceId\":842,\\r\\n      \"driverId\":4,\\r\\n      \"stop\":4,\\r\\n      \"lap\":46,\\r\\n      \"time\":\"17:24:24\",\\r\\n      \"duration\":27.182,\\r\\n      \"milliseconds\":27182\\r\\n   },\\r\\n   {\\r\\n      \"raceId\":842,\\r\\n      \"driverId\":24,\\r\\n      \"stop\":3,\\r\\n      \"lap\":44,\\r\\n      \"time\":\"17:25:07\",\\r\\n      \"duration\":38.823,\\r\\n      \"milliseconds\":38823\\r\\n   },\\r\\n   {\\r\\n      \"raceId\":842,\\r\\n      \"driverId\":1,\\r\\n      \"stop\":4,\\r\\n      \"lap\":52,\\r\\n      \"time\":\"17:34:48\",\\r\\n      \"duration\":22.466,\\r\\n      \"milliseconds\":22466\\r\\n   },\\r\\n   {\\r\\n      \"raceId\":843,\\r\\n      \"driverId\":153,\\r\\n      \"stop\":1,\\r\\n      \"lap\":9,\\r\\n      \"time\":\"15:19:36\",\\r\\n      \"duration\":22.419,\\r\\n      \"milliseconds\":22419\\r\\n   },\\r\\n   {\\r\\n      \"raceId\":843,\\r\\n      \"driverId\":24,\\r\\n      \"stop\":1,\\r\\n      \"lap\":9,\\r\\n      \"time\":\"15:20:00\",\\r\\n      \"duration\":14.16,\\r\\n      \"milliseconds\":14160\\r\\n   },\\r\\n   {\\r\\n      \"raceId\":843,\\r\\n      \"driverId\":30,\\r\\n      \"stop\":1,\\r\\n      \"lap\":10,\\r\\n      \"time\":\"15:21:12\",\\r\\n      \"duration\":20.522,\\r\\n      \"milliseconds\":20522\\r\\n   },\\r\\n   {\\r\\n      \"raceId\":843,\\r\\n      \"driverId\":17,\\r\\n      \"stop\":1,\\r\\n      \"lap\":10,\\r\\n      \"time\":\"15:21:27\",\\r\\n      \"duration\":23.442,\\r\\n      \"milliseconds\":23442\\r\\n   },\\r\\n   {\\r\\n      \"raceId\":843,\\r\\n      \"driverId\":813,\\r\\n      \"stop\":1,\\r\\n      \"lap\":10,\\r\\n      \"time\":\"15:21:35\",\\r\\n      \"duration\":23.16,\\r\\n      \"milliseconds\":23160\\r\\n   },\\r\\n   {\\r\\n      \"raceId\":843,\\r\\n      \"driverId\":814,\\r\\n      \"stop\":1,\\r\\n      \"lap\":11,\\r\\n      \"time\":\"15:22:57\",\\r\\n      \"duration\":21.989,\\r\\n      \"milliseconds\":21989\\r\\n   },\\r\\n   {\\r\\n      \"raceId\":843,\\r\\n      \"driverId\":3,\\r\\n      \"stop\":1,\\r\\n      \"lap\":12,\\r\\n      \"time\":\"15:24:32\",\\r\\n      \"duration\":20.771,\\r\\n      \"milliseconds\":20771\\r\\n   },\\r\\n   {\\r\\n      \"raceId\":843,\\r\\n      \"driverId\":67,\\r\\n      \"stop\":1,\\r\\n      \"lap\":12,\\r\\n      \"time\":\"15:24:56\",\\r\\n      \"duration\":22.01,\\r\\n      \"milliseconds\":22010\\r\\n   },\\r\\n   {\\r\\n      \"raceId\":843,\\r\\n      \"driverId\":18,\\r\\n      \"stop\":1,\\r\\n      \"lap\":14,\\r\\n      \"time\":\"15:27:59\",\\r\\n      \"duration\":23.779,\\r\\n      \"milliseconds\":23779\\r\\n   },\\r\\n   {\\r\\n      \"raceId\":843,\\r\\n      \"driverId\":20,\\r\\n      \"stop\":1,\\r\\n      \"lap\":14,\\r\\n      \"time\":\"15:28:00\",\\r\\n      \"duration\":21.995,\\r\\n      \"milliseconds\":21995\\r\\n   },\\r\\n   {\\r\\n      \"raceId\":843,\\r\\n      \"driverId\":155,\\r\\n      \"stop\":1,\\r\\n      \"lap\":14,\\r\\n      \"time\":\"15:28:17\",\\r\\n      \"duration\":21.855,\\r\\n      \"milliseconds\":21855\\r\\n   },\\r\\n   {\\r\\n      \"raceId\":843,\\r\\n      \"driverId\":13,\\r\\n      \"stop\":1,\\r\\n      \"lap\":15,\\r\\n      \"time\":\"15:29:47\",\\r\\n      \"duration\":21.624,\\r\\n      \"milliseconds\":21624\\r\\n   },\\r\\n   {\\r\\n      \"raceId\":843,\\r\\n      \"driverId\":1,\\r\\n      \"stop\":1,\\r\\n      \"lap\":15,\\r\\n      \"time\":\"15:29:49\",\\r\\n      \"duration\":20.878,\\r\\n      \"milliseconds\":20878\\r\\n   },\\r\\n   {\\r\\n      \"raceId\":843,\\r\\n      \"driverId\":16,\\r\\n      \"stop\":1,\\r\\n      \"lap\":15,\\r\\n      \"time\":\"15:30:01\",\\r\\n      \"duration\":20.989,\\r\\n      \"milliseconds\":20989\\r\\n   },\\r\\n   {\\r\\n      \"raceId\":843,\\r\\n      \"driverId\":4,\\r\\n      \"stop\":1,\\r\\n      \"lap\":16,\\r\\n      \"time\":\"15:31:34\",\\r\\n      \"duration\":22.524,\\r\\n      \"milliseconds\":22524\\r\\n   },\\r\\n   {\\r\\n      \"raceId\":843,\\r\\n      \"driverId\":815,\\r\\n      \"stop\":1,\\r\\n      \"lap\":16,\\r\\n      \"time\":\"15:31:55\",\\r\\n      \"duration\":21.473,\\r\\n      \"milliseconds\":21473\\r\\n   },\\r\\n   {\\r\\n      \"raceId\":843,\\r\\n      \"driverId\":22,\\r\\n      \"stop\":1,\\r\\n      \"lap\":16,\\r\\n      \"time\":\"15:32:01\",\\r\\n      \"duration\":21.709,\\r\\n      \"milliseconds\":21709\\r\\n   },\\r\\n   {\\r\\n      \"raceId\":843,\\r\\n      \"driverId\":67,\\r\\n      \"stop\":2,\\r\\n      \"lap\":16,\\r\\n      \"time\":\"15:32:19\",\\r\\n      \"duration\":24.722,\\r\\n      \"milliseconds\":24722\\r\\n   },\\r\\n   {\\r\\n      \"raceId\":843,\\r\\n      \"driverId\":10,\\r\\n      \"stop\":1,\\r\\n      \"lap\":16,\\r\\n      \"time\":\"15:32:33\",\\r\\n      \"duration\":22.683,\\r\\n      \"milliseconds\":22683\\r\\n   },\\r\\n   {\\r\\n      \"raceId\":843,\\r\\n      \"driverId\":808,\\r\\n      \"stop\":1,\\r\\n      \"lap\":17,\\r\\n      \"time\":\"15:33:36\",\\r\\n      \"duration\":21.981,\\r\\n      \"milliseconds\":21981\\r\\n   },\\r\\n   {\\r\\n      \"raceId\":843,\\r\\n      \"driverId\":2,\\r\\n      \"stop\":1,\\r\\n      \"lap\":18,\\r\\n      \"time\":\"15:35:28\",\\r\\n      \"duration\":22.216,\\r\\n      \"milliseconds\":22216\\r\\n   },\\r\\n   {\\r\\n      \"raceId\":843,\\r\\n      \"driverId\":5,\\r\\n      \"stop\":1,\\r\\n      \"lap\":19,\\r\\n      \"time\":\"15:37:31\",\\r\\n      \"duration\":22.485,\\r\\n      \"milliseconds\":22485\\r\\n   },\\r\\n   {\\r\\n      \"raceId\":843,\\r\\n      \"driverId\":15,\\r\\n      \"stop\":1,\\r\\n      \"lap\":20,\\r\\n      \"time\":\"15:39:24\",\\r\\n      \"duration\":23.029,\\r\\n      \"milliseconds\":23029\\r\\n   },\\r\\n   {\\r\\n      \"raceId\":843,\\r\\n      \"driverId\":816,\\r\\n      \"stop\":1,\\r\\n      \"lap\":20,\\r\\n      \"time\":\"15:39:50\",\\r\\n      \"duration\":22.901,\\r\\n      \"milliseconds\":22901\\r\\n   },\\r\\n   {\\r\\n      \"raceId\":843,\\r\\n      \"driverId\":24,\\r\\n      \"stop\":2,\\r\\n      \"lap\":21,\\r\\n      \"time\":\"15:42:05\",\\r\\n      \"duration\":24.467,\\r\\n      \"milliseconds\":24467\\r\\n   },\\r\\n   {\\r\\n      \"raceId\":843,\\r\\n      \"driverId\":39,\\r\\n      \"stop\":1,\\r\\n      \"lap\":23,\\r\\n      \"time\":\"15:45:28\",\\r\\n      \"duration\":26.049,\\r\\n      \"milliseconds\":26049\\r\\n   },\\r\\n   {\\r\\n      \"raceId\":843,\\r\\n      \"driverId\":18,\\r\\n      \"stop\":2,\\r\\n      \"lap\":24,\\r\\n      \"time\":\"15:45:35\",\\r\\n      \"duration\":20.758,\\r\\n      \"milliseconds\":20758\\r\\n   },\\r\\n   {\\r\\n      \"raceId\":843,\\r\\n      \"driverId\":3,\\r\\n      \"stop\":2,\\r\\n      \"lap\":25,\\r\\n      \"time\":\"15:47:13\",\\r\\n      \"duration\":22.005,\\r\\n      \"milliseconds\":22005\\r\\n   },\\r\\n   {\\r\\n      \"raceId\":843,\\r\\n      \"driverId\":1,\\r\\n      \"stop\":2,\\r\\n      \"lap\":25,\\r\\n      \"time\":\"15:47:20\",\\r\\n      \"duration\":20.533,\\r\\n      \"mil\n",
      "\n",
      "*** WARNING: max output size exceeded, skipping output. ***\n",
      "\n",
      "9.761,\\r\\n      \"milliseconds\":19761\\r\\n   },\\r\\n   {\\r\\n      \"raceId\":845,\\r\\n      \"driverId\":808,\\r\\n      \"stop\":1,\\r\\n      \"lap\":11,\\r\\n      \"time\":\"14:20:14\",\\r\\n      \"duration\":21.856,\\r\\n      \"milliseconds\":21856\\r\\n   },\\r\\n   {\\r\\n      \"raceId\":845,\\r\\n      \"driverId\":3,\\r\\n      \"stop\":1,\\r\\n      \"lap\":11,\\r\\n      \"time\":\"14:20:17\",\\r\\n      \"duration\":20.647,\\r\\n      \"milliseconds\":20647\\r\\n   },\\r\\n   {\\r\\n      \"raceId\":845,\\r\\n      \"driverId\":13,\\r\\n      \"stop\":1,\\r\\n      \"lap\":11,\\r\\n      \"time\":\"14:20:19\",\\r\\n      \"duration\":20.8,\\r\\n      \"milliseconds\":20800\\r\\n   },\\r\\n   {\\r\\n      \"raceId\":845,\\r\\n      \"driverId\":153,\\r\\n      \"stop\":1,\\r\\n      \"lap\":11,\\r\\n      \"time\":\"14:20:28\",\\r\\n      \"duration\":20.741,\\r\\n      \"milliseconds\":20741\\r\\n   },\\r\\n   {\\r\\n      \"raceId\":845,\\r\\n      \"driverId\":22,\\r\\n      \"stop\":1,\\r\\n      \"lap\":11,\\r\\n      \"time\":\"14:20:48\",\\r\\n      \"duration\":29.936,\\r\\n      \"milliseconds\":29936\\r\\n   },\\r\\n   {\\r\\n      \"raceId\":845,\\r\\n      \"driverId\":16,\\r\\n      \"stop\":1,\\r\\n      \"lap\":13,\\r\\n      \"time\":\"14:23:57\",\\r\\n      \"duration\":20.773,\\r\\n      \"milliseconds\":20773\\r\\n   },\\r\\n   {\\r\\n      \"raceId\":845,\\r\\n      \"driverId\":18,\\r\\n      \"stop\":1,\\r\\n      \"lap\":14,\\r\\n      \"time\":\"14:24:51\",\\r\\n      \"duration\":20.015,\\r\\n      \"milliseconds\":20015\\r\\n   },\\r\\n   {\\r\\n      \"raceId\":845,\\r\\n      \"driverId\":39,\\r\\n      \"stop\":1,\\r\\n      \"lap\":14,\\r\\n      \"time\":\"14:25:56\",\\r\\n      \"duration\":24.843,\\r\\n      \"milliseconds\":24843\\r\\n   },\\r\\n   {\\r\\n      \"raceId\":845,\\r\\n      \"driverId\":814,\\r\\n      \"stop\":1,\\r\\n      \"lap\":15,\\r\\n      \"time\":\"14:26:40\",\\r\\n      \"duration\":20.07,\\r\\n      \"milliseconds\":20070\\r\\n   },\\r\\n   {\\r\\n      \"raceId\":845,\\r\\n      \"driverId\":15,\\r\\n      \"stop\":1,\\r\\n      \"lap\":15,\\r\\n      \"time\":\"14:26:50\",\\r\\n      \"duration\":22.364,\\r\\n      \"milliseconds\":22364\\r\\n   },\\r\\n   {\\r\\n      \"raceId\":845,\\r\\n      \"driverId\":5,\\r\\n      \"stop\":1,\\r\\n      \"lap\":16,\\r\\n      \"time\":\"14:28:30\",\\r\\n      \"duration\":21.019,\\r\\n      \"milliseconds\":21019\\r\\n   },\\r\\n   {\\r\\n      \"raceId\":845,\\r\\n      \"driverId\":24,\\r\\n      \"stop\":1,\\r\\n      \"lap\":16,\\r\\n      \"time\":\"14:28:55\",\\r\\n      \"duration\":23.157,\\r\\n      \"milliseconds\":23157\\r\\n   },\\r\\n   {\\r\\n      \"raceId\":845,\\r\\n      \"driverId\":10,\\r\\n      \"stop\":1,\\r\\n      \"lap\":16,\\r\\n      \"time\":\"14:29:00\",\\r\\n      \"duration\":22.744,\\r\\n      \"milliseconds\":22744\\r\\n   },\\r\\n   {\\r\\n      \"raceId\":845,\\r\\n      \"driverId\":816,\\r\\n      \"stop\":1,\\r\\n      \"lap\":17,\\r\\n      \"time\":\"14:30:41\",\\r\\n      \"duration\":23.176,\\r\\n      \"milliseconds\":23176\\r\\n   },\\r\\n   {\\r\\n      \"raceId\":845,\\r\\n      \"driverId\":20,\\r\\n      \"stop\":2,\\r\\n      \"lap\":18,\\r\\n      \"time\":\"14:30:44\",\\r\\n      \"duration\":19.887,\\r\\n      \"milliseconds\":19887\\r\\n   },\\r\\n   {\\r\\n      \"raceId\":845,\\r\\n      \"driverId\":4,\\r\\n      \"stop\":2,\\r\\n      \"lap\":19,\\r\\n      \"time\":\"14:32:13\",\\r\\n      \"duration\":20.238,\\r\\n      \"milliseconds\":20238\\r\\n   },\\r\\n   {\\r\\n      \"raceId\":845,\\r\\n      \"driverId\":17,\\r\\n      \"stop\":2,\\r\\n      \"lap\":19,\\r\\n      \"time\":\"14:32:16\",\\r\\n      \"duration\":20.079,\\r\\n      \"milliseconds\":20079\\r\\n   },\\r\\n   {\\r\\n      \"raceId\":845,\\r\\n      \"driverId\":813,\\r\\n      \"stop\":2,\\r\\n      \"lap\":20,\\r\\n      \"time\":\"14:34:36\",\\r\\n      \"duration\":24.821,\\r\\n      \"milliseconds\":24821\\r\\n   },\\r\\n   {\\r\\n      \"raceId\":845,\\r\\n      \"driverId\":13,\\r\\n      \"stop\":2,\\r\\n      \"lap\":21,\\r\\n      \"time\":\"14:35:51\",\\r\\n      \"duration\":21.635,\\r\\n      \"milliseconds\":21635\\r\\n   },\\r\\n   {\\r\\n      \"raceId\":845,\\r\\n      \"driverId\":2,\\r\\n      \"stop\":1,\\r\\n      \"lap\":21,\\r\\n      \"time\":\"14:36:21\",\\r\\n      \"duration\":21.322,\\r\\n      \"milliseconds\":21322\\r\\n   },\\r\\n   {\\r\\n      \"raceId\":845,\\r\\n      \"driverId\":1,\\r\\n      \"stop\":2,\\r\\n      \"lap\":23,\\r\\n      \"time\":\"14:38:08\",\\r\\n      \"duration\":20.235,\\r\\n      \"milliseconds\":20235\\r\\n   },\\r\\n   {\\r\\n      \"raceId\":845,\\r\\n      \"driverId\":22,\\r\\n      \"stop\":2,\\r\\n      \"lap\":23,\\r\\n      \"time\":\"14:39:40\",\\r\\n      \"duration\":21.226,\\r\\n      \"milliseconds\":21226\\r\\n   },\\r\\n   {\\r\\n      \"raceId\":845,\\r\\n      \"driverId\":153,\\r\\n      \"stop\":2,\\r\\n      \"lap\":24,\\r\\n      \"time\":\"14:40:47\",\\r\\n      \"duration\":20.872,\\r\\n      \"milliseconds\":20872\\r\\n   },\\r\\n   {\\r\\n      \"raceId\":845,\\r\\n      \"driverId\":67,\\r\\n      \"stop\":2,\\r\\n      \"lap\":25,\\r\\n      \"time\":\"14:42:10\",\\r\\n      \"duration\":24.745,\\r\\n      \"milliseconds\":24745\\r\\n   },\\r\\n   {\\r\\n      \"raceId\":845,\\r\\n      \"driverId\":155,\\r\\n      \"stop\":2,\\r\\n      \"lap\":25,\\r\\n      \"time\":\"14:42:46\",\\r\\n      \"duration\":21.128,\\r\\n      \"milliseconds\":21128\\r\\n   },\\r\\n   {\\r\\n      \"raceId\":845,\\r\\n      \"driverId\":30,\\r\\n      \"stop\":2,\\r\\n      \"lap\":26,\\r\\n      \"time\":\"14:43:25\",\\r\\n      \"duration\":20.487,\\r\\n      \"milliseconds\":20487\\r\\n   },\\r\\n   {\\r\\n      \"raceId\":845,\\r\\n      \"driverId\":808,\\r\\n      \"stop\":2,\\r\\n      \"lap\":26,\\r\\n      \"time\":\"14:43:33\",\\r\\n      \"duration\":24.232,\\r\\n      \"milliseconds\":24232\\r\\n   },\\r\\n   {\\r\\n      \"raceId\":845,\\r\\n      \"driverId\":3,\\r\\n      \"stop\":2,\\r\\n      \"lap\":27,\\r\\n      \"time\":\"14:45:01\",\\r\\n      \"duration\":19.534,\\r\\n      \"milliseconds\":19534\\r\\n   },\\r\\n   {\\r\\n      \"raceId\":845,\\r\\n      \"driverId\":4,\\r\\n      \"stop\":3,\\r\\n      \"lap\":29,\\r\\n      \"time\":\"14:47:26\",\\r\\n      \"duration\":20.738,\\r\\n      \"milliseconds\":20738\\r\\n   },\\r\\n   {\\r\\n      \"raceId\":845,\\r\\n      \"driverId\":17,\\r\\n      \"stop\":3,\\r\\n      \"lap\":29,\\r\\n      \"time\":\"14:47:27\",\\r\\n      \"duration\":20.279,\\r\\n      \"milliseconds\":20279\\r\\n   },\\r\\n   {\\r\\n      \"raceId\":845,\\r\\n      \"driverId\":5,\\r\\n      \"stop\":2,\\r\\n      \"lap\":28,\\r\\n      \"time\":\"14:47:28\",\\r\\n      \"duration\":20.807,\\r\\n      \"milliseconds\":20807\\r\\n   },\\r\\n   {\\r\\n      \"raceId\":845,\\r\\n      \"driverId\":815,\\r\\n      \"stop\":2,\\r\\n      \"lap\":29,\\r\\n      \"time\":\"14:48:40\",\\r\\n      \"duration\":21.143,\\r\\n      \"milliseconds\":21143\\r\\n   },\\r\\n   {\\r\\n      \"raceId\":845,\\r\\n      \"driverId\":15,\\r\\n      \"stop\":2,\\r\\n      \"lap\":29,\\r\\n      \"time\":\"14:48:41\",\\r\\n      \"duration\":21.723,\\r\\n      \"milliseconds\":21723\\r\\n   },\\r\\n   {\\r\\n      \"raceId\":845,\\r\\n      \"driverId\":39,\\r\\n      \"stop\":2,\\r\\n      \"lap\":28,\\r\\n      \"time\":\"14:48:52\",\\r\\n      \"duration\":24.448,\\r\\n      \"milliseconds\":24448\\r\\n   },\\r\\n   {\\r\\n      \"raceId\":845,\\r\\n      \"driverId\":18,\\r\\n      \"stop\":2,\\r\\n      \"lap\":30,\\r\\n      \"time\":\"14:49:06\",\\r\\n      \"duration\":20.763,\\r\\n      \"milliseconds\":20763\\r\\n   },\\r\\n   {\\r\\n      \"raceId\":845,\\r\\n      \"driverId\":16,\\r\\n      \"stop\":2,\\r\\n      \"lap\":30,\\r\\n      \"time\":\"14:50:19\",\\r\\n      \"duration\":20.267,\\r\\n      \"milliseconds\":20267\\r\\n   },\\r\\n   {\\r\\n      \"raceId\":845,\\r\\n      \"driverId\":814,\\r\\n      \"stop\":2,\\r\\n      \"lap\":32,\\r\\n      \"time\":\"14:53:02\",\\r\\n      \"duration\":20.126,\\r\\n      \"milliseconds\":20126\\r\\n   },\\r\\n   {\\r\\n      \"raceId\":845,\\r\\n      \"driverId\":20,\\r\\n      \"stop\":3,\\r\\n      \"lap\":34,\\r\\n      \"time\":\"14:54:42\",\\r\\n      \"duration\":20.426,\\r\\n      \"milliseconds\":20426\\r\\n   },\\r\\n   {\\r\\n      \"raceId\":845,\\r\\n      \"driverId\":1,\\r\\n      \"stop\":3,\\r\\n      \"lap\":35,\\r\\n      \"time\":\"14:56:14\",\\r\\n      \"duration\":20.473,\\r\\n      \"milliseconds\":20473\\r\\n   },\\r\\n   {\\r\\n      \"raceId\":845,\\r\\n      \"driverId\":816,\\r\\n      \"stop\":2,\\r\\n      \"lap\":34,\\r\\n      \"time\":\"14:58:05\",\\r\\n      \"duration\":22.982,\\r\\n      \"milliseconds\":22982\\r\\n   },\\r\\n   {\\r\\n      \"raceId\":845,\\r\\n      \"driverId\":22,\\r\\n      \"stop\":3,\\r\\n      \"lap\":35,\\r\\n      \"time\":\"14:58:09\",\\r\\n      \"duration\":20.65,\\r\\n      \"milliseconds\":20650\\r\\n   },\\r\\n   {\\r\\n      \"raceId\":845,\\r\\n      \"driverId\":13,\\r\\n      \"stop\":3,\\r\\n      \"lap\":36,\\r\\n      \"time\":\"14:58:48\",\\r\\n      \"duration\":22.419,\\r\\n      \"milliseconds\":22419\\r\\n   },\\r\\n   {\\r\\n      \"raceId\":845,\\r\\n      \"driverId\":813,\\r\\n      \"stop\":3,\\r\\n      \"lap\":36,\\r\\n      \"time\":\"14:59:14\",\\r\\n      \"duration\":21.574,\\r\\n      \"milliseconds\":21574\\r\\n   },\\r\\n   {\\r\\n      \"raceId\":845,\\r\\n      \"driverId\":2,\\r\\n      \"stop\":2,\\r\\n      \"lap\":36,\\r\\n      \"time\":\"14:59:22\",\\r\\n      \"duration\":21.953,\\r\\n      \"milliseconds\":21953\\r\\n   },\\r\\n   {\\r\\n      \"raceId\":845,\\r\\n      \"driverId\":153,\\r\\n      \"stop\":3,\\r\\n      \"lap\":36,\\r\\n      \"time\":\"14:59:25\",\\r\\n      \"duration\":21.019,\\r\\n      \"milliseconds\":21019\\r\\n   },\\r\\n   {\\r\\n      \"raceId\":845,\\r\\n      \"driverId\":4,\\r\\n      \"stop\":4,\\r\\n      \"lap\":39,\\r\\n      \"time\":\"15:02:54\",\\r\\n      \"duration\":20.38,\\r\\n      \"milliseconds\":20380\\r\\n   },\\r\\n   {\\r\\n      \"raceId\":845,\\r\\n      \"driverId\":10,\\r\\n      \"stop\":2,\\r\\n      \"lap\":38,\\r\\n      \"time\":\"15:03:54\",\\r\\n      \"duration\":21.632,\\r\\n      \"milliseconds\":21632\\r\\n   },\\r\\n   {\\r\\n      \"raceId\":845,\\r\\n      \"driverId\":30,\\r\\n      \"stop\":3,\\r\\n      \"lap\":41,\\r\\n      \"time\":\"15:06:21\",\\r\\n      \"duration\":20.451,\\r\\n      \"milliseconds\":20451\\r\\n   },\\r\\n   {\\r\\n      \"raceId\":845,\\r\\n      \"driverId\":808,\\r\\n      \"stop\":3,\\r\\n      \"lap\":41,\\r\\n      \"time\":\"15:06:36\",\\r\\n      \"duration\":21.739,\\r\\n      \"milliseconds\":21739\\r\\n   },\\r\\n   {\\r\\n      \"raceId\":845,\\r\\n      \"driverId\":5,\\r\\n      \"stop\":3,\\r\\n      \"lap\":41,\\r\\n      \"time\":\"15:07:42\",\\r\\n      \"duration\":23.068,\\r\\n      \"milliseconds\":23068\\r\\n   },\\r\\n   {\\r\\n      \"raceId\":845,\\r\\n      \"driverId\":3,\\r\\n      \"stop\":3,\\r\\n      \"lap\":42,\\r\\n      \"time\":\"15:07:53\",\\r\\n      \"duration\":20.395,\\r\\n      \"milliseconds\":20395\\r\\n   },\\r\\n   {\\r\\n      \"raceId\":845,\\r\\n      \"driverId\":67,\\r\\n      \"stop\":3,\\r\\n      \"lap\":42,\\r\\n      \"time\":\"15:08:31\",\\r\\n      \"duration\":20.819,\\r\\n      \"milliseconds\":20819\\r\\n   },\\r\\n   {\\r\\n      \"raceId\":845,\\r\\n      \"driverId\":15,\\r\\n      \"stop\":3,\\r\\n      \"lap\":43,\\r\\n      \"time\":\"15:10:27\",\\r\\n      \"duration\":23.001,\\r\\n      \"milliseconds\":23001\\r\\n   },\\r\\n   {\\r\\n      \"raceId\":845,\\r\\n      \"driverId\":155,\\r\\n      \"stop\":3,\\r\\n      \"lap\":44,\\r\\n      \"time\":\"15:11:40\",\\r\\n      \"duration\":20.5,\\r\\n      \"milliseconds\":20500\\r\\n   },\\r\\n   {\\r\\n      \"raceId\":845,\\r\\n      \"driverId\":17,\\r\\n      \"stop\":4,\\r\\n      \"lap\":47,\\r\\n      \"time\":\"15:14:50\",\\r\\n      \"duration\":19.984,\\r\\n      \"milliseconds\":19984\\r\\n   },\\r\\n   {\\r\\n      \"raceId\":845,\\r\\n      \"driverId\":20,\\r\\n      \"stop\":4,\\r\\n      \"lap\":48,\\r\\n      \"time\":\"15:15:41\",\\r\\n      \"duration\":20.292,\\r\\n      \"milliseconds\":20292\\r\\n   },\\r\\n   {\\r\\n      \"raceId\":845,\\r\\n      \"driverId\":815,\\r\\n      \"stop\":3,\\r\\n      \"lap\":47,\\r\\n      \"time\":\"15:16:00\",\\r\\n      \"duration\":21.829,\\r\\n      \"milliseconds\":21829\\r\\n   },\\r\\n   {\\r\\n      \"raceId\":845,\\r\\n      \"driverId\":18,\\r\\n      \"stop\":3,\\r\\n      \"lap\":48,\\r\\n      \"time\":\"15:16:10\",\\r\\n      \"duration\":20.107,\\r\\n      \"milliseconds\":20107\\r\\n   },\\r\\n   {\\r\\n      \"raceId\":845,\\r\\n      \"driverId\":1,\\r\\n      \"stop\":4,\\r\\n      \"lap\":49,\\r\\n      \"time\":\"15:17:11\",\\r\\n      \"duration\":20.988,\\r\\n      \"milliseconds\":20988\\r\\n   },\\r\\n   {\\r\\n      \"raceId\":845,\\r\\n      \"driverId\":16,\\r\\n      \"stop\":3,\\r\\n      \"lap\":48,\\r\\n      \"time\":\"15:17:54\",\\r\\n      \"duration\":23.23,\\r\\n      \"milliseconds\":23230\\r\\n   },\\r\\n   {\\r\\n      \"raceId\":845,\\r\\n      \"driverId\":39,\\r\\n      \"stop\":3,\\r\\n      \"lap\":47,\\r\\n      \"time\":\"15:19:38\",\\r\\n      \"duration\":24.298,\\r\\n      \"milliseconds\":24298\\r\\n   },\\r\\n   {\\r\\n      \"raceId\":845,\\r\\n      \"driverId\":2,\\r\\n      \"stop\":3,\\r\\n      \"lap\":50,\\r\\n      \"time\":\"15:20:32\",\\r\\n      \"duration\":20.796,\\r\\n      \"milliseconds\":20796\\r\\n   },\\r\\n   {\\r\\n      \"raceId\":845,\\r\\n      \"driverId\":153,\\r\\n      \"stop\":4,\\r\\n      \"lap\":50,\\r\\n      \"time\":\"15:21:09\",\\r\\n      \"duration\":23.143,\\r\\n      \"milliseconds\":23143\\r\\n   },\\r\\n   {\\r\\n      \"raceId\":845,\\r\\n      \"driverId\":816,\\r\\n      \"stop\":3,\\r\\n      \"lap\":49,\\r\\n      \"time\":\"15:21:44\",\\r\\n      \"duration\":21.708,\\r\\n      \"milliseconds\":21708\\r\\n   },\\r\\n   {\\r\\n      \"raceId\":845,\\r\\n      \"driverId\":814,\\r\\n      \"stop\":3,\\r\\n      \"lap\":51,\\r\\n      \"time\":\"15:22:03\",\\r\\n      \"duration\":20.573,\\r\\n      \"milliseconds\":20573\\r\\n   },\\r\\n   {\\r\\n      \"raceId\":845,\\r\\n      \"driverId\":813,\\r\\n      \"stop\":4,\\r\\n      \"lap\":53,\\r\\n      \"time\":\"15:25:26\",\\r\\n      \"duration\":22.077,\\r\\n      \"milliseconds\":22077\\r\\n   },\\r\\n   {\\r\\n      \"raceId\":845,\\r\\n      \"driverId\":10,\\r\\n      \"stop\":3,\\r\\n      \"lap\":53,\\r\\n      \"time\":\"15:27:29\",\\r\\n      \"duration\":21.17,\\r\\n      \"milliseconds\":21170\\r\\n   },\\r\\n   {\\r\\n      \"raceId\":845,\\r\\n      \"driverId\":22,\\r\\n      \"stop\":4,\\r\\n      \"lap\":54,\\r\\n      \"time\":\"15:27:32\",\\r\\n      \"duration\":20.637,\\r\\n      \"milliseconds\":20637\\r\\n   },\\r\\n   {\\r\\n      \"raceId\":846,\\r\\n      \"driverId\":30,\\r\\n      \"stop\":1,\\r\\n      \"lap\":12,\\r\\n      \"time\":\"14:19:30\",\\r\\n      \"duration\":35.084,\\r\\n      \"milliseconds\":35084\\r\\n   },\\r\\n   {\\r\\n      \"raceId\":846,\\r\\n      \"driverId\":18,\\r\\n      \"stop\":1,\\r\\n      \"lap\":15,\\r\\n      \"time\":\"14:22:57\",\\r\\n      \"duration\":25.28,\\r\\n      \"milliseconds\":25280\\r\\n   },\\r\\n   {\\r\\n      \"raceId\":846,\\r\\n      \"driverId\":3,\\r\\n      \"stop\":1,\\r\\n      \"lap\":15,\\r\\n      \"time\":\"14:23:33\",\\r\\n      \"duration\":25.189,\\r\\n      \"milliseconds\":25189\\r\\n   },\\r\\n   {\\r\\n      \"raceId\":846,\\r\\n      \"driverId\":20,\\r\\n      \"stop\":1,\\r\\n      \"lap\":16,\\r\\n      \"time\":\"14:24:15\",\\r\\n      \"duration\":28.536,\\r\\n      \"milliseconds\":28536\\r\\n   },\\r\\n   {\\r\\n      \"raceId\":846,\\r\\n      \"driverId\":17,\\r\\n      \"stop\":1,\\r\\n      \"lap\":16,\\r\\n      \"time\":\"14:24:32\",\\r\\n      \"duration\":37.735,\\r\\n      \"milliseconds\":37735\\r\\n   },\\r\\n   {\\r\\n      \"raceId\":846,\\r\\n      \"driverId\":4,\\r\\n      \"stop\":1,\\r\\n      \"lap\":17,\\r\\n      \"time\":\"14:25:41\",\\r\\n      \"duration\":25.352,\\r\\n      \"milliseconds\":25352\\r\\n   },\\r\\n   {\\r\\n      \"raceId\":846,\\r\\n      \"driverId\":5,\\r\\n      \"stop\":1,\\r\\n      \"lap\":19,\\r\\n      \"time\":\"14:29:21\",\\r\\n      \"duration\":26.477,\\r\\n      \"milliseconds\":26477\\r\\n   },\\r\\n   {\\r\\n      \"raceId\":846,\\r\\n      \"driverId\":814,\\r\\n      \"stop\":1,\\r\\n      \"lap\":20,\\r\\n      \"time\":\"14:30:24\",\\r\\n      \"duration\":24.97,\\r\\n      \"milliseconds\":24970\\r\\n   },\\r\\n   {\\r\\n      \"raceId\":846,\\r\\n      \"driverId\":1,\\r\\n      \"stop\":1,\\r\\n      \"lap\":22,\\r\\n      \"time\":\"14:33:00\",\\r\\n      \"duration\":31.445,\\r\\n      \"milliseconds\":31445\\r\\n   },\\r\\n   {\\r\\n      \"raceId\":846,\\r\\n      \"driverId\":10,\\r\\n      \"stop\":1,\\r\\n      \"lap\":22,\\r\\n      \"time\":\"14:33:33\",\\r\\n      \"duration\":26.827,\\r\\n      \"milliseconds\":26827\\r\\n   },\\r\\n   {\\r\\n      \"raceId\":846,\\r\\n      \"driverId\":15,\\r\\n      \"stop\":1,\\r\\n      \"lap\":24,\\r\\n      \"time\":\"14:36:13\",\\r\\n      \"duration\":25.595,\\r\\n      \"milliseconds\":25595\\r\\n   },\\r\\n   {\\r\\n      \"raceId\":846,\\r\\n      \"driverId\":813,\\r\\n      \"stop\":1,\\r\\n      \"lap\":25,\\r\\n      \"time\":\"14:37:09\",\\r\\n      \"duration\":26.468,\\r\\n      \"milliseconds\":26468\\r\\n   },\\r\\n   {\\r\\n      \"raceId\":846,\\r\\n      \"driverId\":13,\\r\\n      \"stop\":1,\\r\\n      \"lap\":26,\\r\\n      \"time\":\"14:38:20\",\\r\\n      \"duration\":26.615,\\r\\n      \"milliseconds\":26615\\r\\n   },\\r\\n   {\\r\\n      \"raceId\":846,\\r\\n      \"driverId\":39,\\r\\n      \"stop\":1,\\r\\n      \"lap\":25,\\r\\n      \"time\":\"14:38:46\",\\r\\n      \"duration\":28.325,\\r\\n      \"milliseconds\":28325\\r\\n   },\\r\\n   {\\r\\n      \"raceId\":846,\\r\\n      \"driverId\":814,\\r\\n      \"stop\":2,\\r\\n      \"lap\":27,\\r\\n      \"time\":\"14:40:23\",\\r\\n      \"duration\":19.36,\\r\\n      \"milliseconds\":19360\\r\\n   },\\r\\n   {\\r\\n      \"raceId\":846,\\r\\n      \"driverId\":808,\\r\\n      \"stop\":1,\\r\\n      \"lap\":28,\\r\\n      \"time\":\"14:41:17\",\\r\\n      \"duration\":28.856,\\r\\n      \"milliseconds\":28856\\r\\n   },\\r\\n   {\\r\\n      \"raceId\":846,\\r\\n      \"driverId\":153,\\r\\n      \"stop\":1,\\r\\n      \"lap\":29,\\r\\n      \"time\":\"14:43:07\",\\r\\n      \"duration\":25.907,\\r\\n      \"milliseconds\":25907\\r\\n   },\\r\\n   {\\r\\n      \"raceId\":846,\\r\\n      \"driverId\":22,\\r\\n      \"stop\":1,\\r\\n      \"lap\":32,\\r\\n      \"time\":\"14:46:47\",\\r\\n      \"duration\":25.921,\\r\\n      \"milliseconds\":25921\\r\\n   },\\r\\n   {\\r\\n      \"raceId\":846,\\r\\n      \"driverId\":18,\\r\\n      \"stop\":2,\\r\\n      \"lap\":33,\\r\\n      \"time\":\"14:46:57\",\\r\\n      \"duration\":26.421,\\r\\n      \"milliseconds\":26421\\r\\n   },\\r\\n   {\\r\\n      \"raceId\":846,\\r\\n      \"driverId\":814,\\r\\n      \"stop\":3,\\r\\n      \"lap\":32,\\r\\n      \"time\":\"14:47:35\",\\r\\n      \"duration\":47.226,\\r\\n      \"milliseconds\":47226\\r\\n   },\\r\\n   {\\r\\n      \"raceId\":846,\\r\\n      \"driverId\":2,\\r\\n      \"stop\":1,\\r\\n      \"lap\":33,\\r\\n      \"time\":\"14:48:15\",\\r\\n      \"duration\":25.851,\\r\\n      \"milliseconds\":25851\\r\\n   },\\r\\n   {\\r\\n      \"raceId\":846,\\r\\n      \"driverId\":67,\\r\\n      \"stop\":1,\\r\\n      \"lap\":33,\\r\\n      \"time\":\"14:48:16\",\\r\\n      \"duration\":26.073,\\r\\n      \"milliseconds\":26073\\r\\n   },\\r\\n   {\\r\\n      \"raceId\":846,\\r\\n      \"driverId\":4,\\r\\n      \"stop\":2,\\r\\n      \"lap\":34,\\r\\n      \"time\":\"14:48:45\",\\r\\n      \"duration\":31.382,\\r\\n      \"milliseconds\":31382\\r\\n   },\\r\\n   {\\r\\n      \"raceId\":846,\\r\\n      \"driverId\":3,\\r\\n      \"stop\":2,\\r\\n      \"lap\":33,\\r\\n      \"time\":\"14:48:50\",\\r\\n      \"duration\":25.31,\\r\\n      \"milliseconds\":25310\\r\\n   },\\r\\n   {\\r\\n      \"raceId\":846,\\r\\n      \"driverId\":24,\\r\\n      \"stop\":1,\\r\\n      \"lap\":32,\\r\\n      \"time\":\"14:49:02\",\\r\\n      \"duration\":28.298,\\r\\n      \"milliseconds\":28298\\r\\n   },\\r\\n   {\\r\\n      \"raceId\":846,\\r\\n      \"driverId\":816,\\r\\n      \"stop\":1,\\r\\n      \"lap\":33,\\r\\n      \"time\":\"14:49:39\",\\r\\n      \"duration\":27.577,\\r\\n      \"milliseconds\":27577\\r\\n   },\\r\\n   {\\r\\n      \"raceId\":846,\\r\\n      \"driverId\":155,\\r\\n      \"stop\":1,\\r\\n      \"lap\":34,\\r\\n      \"time\":\"14:49:49\",\\r\\n      \"duration\":28.642,\\r\\n      \"milliseconds\":28642\\r\\n   },\\r\\n   {\\r\\n      \"raceId\":846,\\r\\n      \"driverId\":16,\\r\\n      \"stop\":1,\\r\\n      \"lap\":34,\\r\\n      \"time\":\"14:49:51\",\\r\\n      \"duration\":25.037,\\r\\n      \"milliseconds\":25037\\r\\n   },\\r\\n   {\\r\\n      \"raceId\":846,\\r\\n      \"driverId\":39,\\r\\n      \"stop\":2,\\r\\n      \"lap\":33,\\r\\n      \"time\":\"14:51:08\",\\r\\n      \"duration\":39.917,\\r\\n      \"milliseconds\":39917\\r\\n   },\\r\\n   {\\r\\n      \"raceId\":846,\\r\\n      \"driverId\":1,\\r\\n      \"stop\":2,\\r\\n      \"lap\":43,\\r\\n      \"time\":\"15:03:45\",\\r\\n      \"duration\":19.347,\\r\\n      \"milliseconds\":19347\\r\\n   },\\r\\n   {\\r\\n      \"raceId\":846,\\r\\n      \"driverId\":15,\\r\\n      \"stop\":2,\\r\\n      \"lap\":46,\\r\\n      \"time\":\"15:09:08\",\\r\\n      \"duration\":26.065,\\r\\n      \"milliseconds\":26065\\r\\n   },\\r\\n   {\\r\\n      \"raceId\":846,\\r\\n      \"driverId\":18,\\r\\n      \"stop\":3,\\r\\n      \"lap\":48,\\r\\n      \"time\":\"15:09:55\",\\r\\n      \"duration\":24.67,\\r\\n      \"milliseconds\":24670\\r\\n   },\\r\\n   {\\r\\n      \"raceId\":846,\\r\\n      \"driverId\":1,\\r\\n      \"stop\":3,\\r\\n      \"lap\":49,\\r\\n      \"time\":\"15:12:04\",\\r\\n      \"duration\":26.977,\\r\\n      \"milliseconds\":26977\\r\\n   },\\r\\n   {\\r\\n      \"raceId\":846,\\r\\n      \"driverId\":5,\\r\\n      \"stop\":2,\\r\\n      \"lap\":52,\\r\\n      \"time\":\"15:17:38\",\\r\\n      \"duration\":25.878,\\r\\n      \"milliseconds\":25878\\r\\n   },\\r\\n   {\\r\\n      \"raceId\":846,\\r\\n      \"driverId\":3,\\r\\n      \"stop\":3,\\r\\n      \"lap\":53,\\r\\n      \"time\":\"15:18:33\",\\r\\n      \"duration\":25.116,\\r\\n      \"milliseconds\":25116\\r\\n   },\\r\\n   {\\r\\n      \"raceId\":846,\\r\\n      \"driverId\":813,\\r\\n      \"stop\":2,\\r\\n      \"lap\":54,\\r\\n      \"time\":\"15:18:38\",\\r\\n      \"duration\":25.687,\\r\\n      \"milliseconds\":25687\\r\\n   },\\r\\n   {\\r\\n      \"raceId\":846,\\r\\n      \"driverId\":17,\\r\\n      \"stop\":2,\\r\\n      \"lap\":55,\\r\\n      \"time\":\"15:19:56\",\\r\\n      \"duration\":26.269,\\r\\n      \"milliseconds\":26269\\r\\n   },\\r\\n   {\\r\\n      \"raceId\":846,\\r\\n      \"driverId\":153,\\r\\n      \"stop\":2,\\r\\n      \"lap\":56,\\r\\n      \"time\":\"15:22:30\",\\r\\n      \"duration\":27.55,\\r\\n      \"milliseconds\":27550\\r\\n   },\\r\\n   {\\r\\n      \"raceId\":846,\\r\\n      \"driverId\":67,\\r\\n      \"stop\":2,\\r\\n      \"lap\":62,\\r\\n      \"time\":\"15:30:24\",\\r\\n      \"duration\":25.045,\\r\\n      \"milliseconds\":25045\\r\\n   },\\r\\n   {\\r\\n      \"raceId\":846,\\r\\n      \"driverId\":816,\\r\\n      \"stop\":2,\\r\\n      \"lap\":63,\\r\\n      \"time\":\"15:33:21\",\\r\\n      \"duration\":26.464,\\r\\n      \"milliseconds\":26464\\r\\n   },\\r\\n   {\\r\\n      \"raceId\":846,\\r\\n      \"driverId\":16,\\r\\n      \"stop\":2,\\r\\n      \"lap\":68,\\r\\n      \"time\":\"15:37:52\",\\r\\n      \"duration\":27.879,\\r\\n      \"milliseconds\":27879\\r\\n   },\\r\\n   {\\r\\n      \"raceId\":846,\\r\\n      \"driverId\":22,\\r\\n      \"stop\":2,\\r\\n      \"lap\":68,\\r\\n      \"time\":\"15:38:54\",\\r\\n      \"duration\":25.675,\\r\\n      \"milliseconds\":25675\\r\\n   },\\r\\n   {\\r\\n      \"raceId\":846,\\r\\n      \"driverId\":2,\\r\\n      \"stop\":2,\\r\\n      \"lap\":69,\\r\\n      \"time\":\"15:40:13\",\\r\\n      \"duration\":26.281,\\r\\n      \"milliseconds\":26281\\r\\n   },\\r\\n   {\\r\\n      \"raceId\":847,\\r\\n      \"driverId\":18,\\r\\n      \"stop\":1,\\r\\n      \"lap\":8,\\r\\n      \"time\":\"13:15:11\",\\r\\n      \"duration\":23.65,\\r\\n      \"milliseconds\":23650\\r\\n   },\\r\\n   {\\r\\n      \"raceId\":847,\\r\\n      \"driverId\":24,\\r\\n      \"stop\":1,\\r\\n      \"lap\":9,\\r\\n      \"time\":\"13:17:25\",\\r\\n      \"duration\":27.202,\\r\\n      \"milliseconds\":27202\\r\\n   },\\r\\n   {\\r\\n      \"raceId\":847,\\r\\n      \"driverId\":18,\\r\\n      \"stop\":2,\\r\\n      \"lap\":13,\\r\\n      \"time\":\"13:25:10\",\\r\\n      \"duration\":14.501,\\r\\n      \"milliseconds\":14501\\r\\n   },\\r\\n   {\\r\\n      \"raceId\":847,\\r\\n      \"driverId\":22,\\r\\n      \"stop\":1,\\r\\n      \"lap\":15,\\r\\n      \"time\":\"13:28:31\",\\r\\n      \"duration\":23.305,\\r\\n      \"milliseconds\":23305\\r\\n   },\\r\\n   {\\r\\n      \"raceId\":847,\\r\\n      \"driverId\":16,\\r\\n      \"stop\":1,\\r\\n      \"lap\":16,\\r\\n      \"time\":\"13:30:09\",\\r\\n      \"duration\":24.052,\\r\\n      \"milliseconds\":24052\\r\\n   },\\r\\n   {\\r\\n      \"raceId\":847,\\r\\n      \"driverId\":4,\\r\\n      \"stop\":1,\\r\\n      \"lap\":17,\\r\\n      \"time\":\"13:31:21\",\\r\\n      \"duration\":23.893,\\r\\n      \"milliseconds\":23893\\r\\n   },\\r\\n   {\\r\\n      \"raceId\":847,\\r\\n      \"driverId\":3,\\r\\n      \"stop\":1,\\r\\n      \"lap\":17,\\r\\n      \"time\":\"13:31:28\",\\r\\n      \"duration\":23.105,\\r\\n      \"milliseconds\":23105\\r\\n   },\\r\\n   {\\r\\n      \"raceId\":847,\\r\\n      \"driverId\":813,\\r\\n      \"stop\":1,\\r\\n      \"lap\":17,\\r\\n      \"time\":\"13:31:45\",\\r\\n      \"duration\":23.571,\\r\\n      \"milliseconds\":23571\\r\\n   },\\r\\n   {\\r\\n      \"raceId\":847,\\r\\n      \"driverId\":67,\\r\\n      \"stop\":1,\\r\\n      \"lap\":17,\\r\\n      \"time\":\"13:31:50\",\\r\\n      \"duration\":23.949,\\r\\n      \"milliseconds\":23949\\r\\n   },\\r\\n   {\\r\\n      \"raceId\":847,\\r\\n      \"driverId\":816,\\r\\n      \"stop\":1,\\r\\n      \"lap\":17,\\r\\n      \"time\":\"13:32:07\",\\r\\n      \"duration\":24.143,\\r\\n      \"milliseconds\":24143\\r\\n   },\\r\\n   {\\r\\n      \"raceId\":847,\\r\\n      \"driverId\":30,\\r\\n      \"stop\":1,\\r\\n      \"lap\":18,\\r\\n      \"time\":\"13:33:04\",\\r\\n      \"duration\":24.472,\\r\\n      \"milliseconds\":24472\\r\\n   },\\r\\n   {\\r\\n      \"raceId\":847,\\r\\n      \"driverId\":4,\\r\\n      \"stop\":2,\\r\\n      \"lap\":19,\\r\\n      \"time\":\"13:34:54\",\\r\\n      \"duration\":26.348,\\r\\n      \"milliseconds\":26348\\r\\n   },\\r\\n   {\\r\\n      \"raceId\":847,\\r\\n      \"driverId\":18,\\r\\n      \"stop\":3,\\r\\n      \"lap\":19,\\r\\n      \"time\":\"13:35:02\",\\r\\n      \"duration\":23.868,\\r\\n      \"milliseconds\":23868\\r\\n   },\\r\\n   {\\r\\n      \"raceId\":847,\\r\\n      \"driverId\":3,\\r\\n      \"stop\":2,\\r\\n      \"lap\":19,\\r\\n      \"time\":\"13:35:10\",\\r\\n      \"duration\":22.986,\\r\\n      \"milliseconds\":22986\\r\\n   },\\r\\n   {\\r\\n      \"raceId\":847,\\r\\n      \"driverId\":153,\\r\\n      \"stop\":1,\\r\\n      \"lap\":19,\\r\\n      \"time\":\"13:35:14\",\\r\\n      \"duration\":26.045,\\r\\n      \"milliseconds\":26045\\r\\n   },\\r\\n   {\\r\\n      \"raceId\":847,\\r\\n      \"driverId\":22,\\r\\n      \"stop\":2,\\r\\n      \"lap\":19,\\r\\n      \"time\":\"13:35:21\",\\r\\n      \"duration\":25.066,\\r\\n      \"milliseconds\":25066\\r\\n   },\\r\\n   {\\r\\n      \"raceId\":847,\\r\\n      \"driverId\":5,\\r\\n      \"stop\":1,\\r\\n      \"lap\":19,\\r\\n      \"time\":\"13:35:26\",\\r\\n      \"duration\":44.037,\\r\\n      \"milliseconds\":44037\\r\\n   },\\r\\n   {\\r\\n      \"raceId\":847,\\r\\n      \"driverId\":15,\\r\\n      \"stop\":1,\\r\\n      \"lap\":19,\\r\\n      \"time\":\"13:35:28\",\\r\\n      \"duration\":51.684,\\r\\n      \"milliseconds\":51684\\r\\n   },\\r\\n   {\\r\\n      \"raceId\":847,\\r\\n      \"driverId\":813,\\r\\n      \"stop\":2,\\r\\n      \"lap\":19,\\r\\n      \"time\":\"13:35:30\",\\r\\n      \"duration\":24.943,\\r\\n      \"milliseconds\":24943\\r\\n   },\\r\\n   {\\r\\n      \"raceId\":847,\\r\\n      \"driverId\":20,\\r\\n      \"stop\":1,\\r\\n      \"lap\":20,\\r\\n      \"time\":\"13:36:13\",\\r\\n      \"duration\":23.872,\\r\\n      \"milliseconds\":23872\\r\\n   },\\r\\n   {\\r\\n      \"raceId\":847,\\r\\n      \"driverId\":17,\\r\\n      \"stop\":1,\\r\\n      \"lap\":20,\\r\\n      \"time\":\"13:36:40\",\\r\\n      \"duration\":29.546,\\r\\n      \"milliseconds\":29546\\r\\n   },\\r\\n   {\\r\\n      \"raceId\":847,\\r\\n      \"driverId\":67,\\r\\n      \"stop\":2,\\r\\n      \"lap\":20,\\r\\n      \"time\":\"13:37:27\",\\r\\n      \"duration\":24.649,\\r\\n'"
     ]
    }
   ],
   "source": [
    "file_path = f'{raw_folder_path}/pit_stops.json'\n",
    "\n",
    "dbutils.fs.head(file_path)"
   ]
  },
  {
   "cell_type": "markdown",
   "metadata": {
    "application/vnd.databricks.v1+cell": {
     "cellMetadata": {
      "byteLimit": 2048000,
      "rowLimit": 10000
     },
     "inputWidgets": {},
     "nuid": "c49326b4-6a94-4163-8448-3e1f49045684",
     "showTitle": false,
     "title": ""
    }
   },
   "source": [
    "whenever you have a multiline json file make sure to add .option('multiline', True) property."
   ]
  },
  {
   "cell_type": "code",
   "execution_count": null,
   "metadata": {
    "application/vnd.databricks.v1+cell": {
     "cellMetadata": {
      "byteLimit": 2048000,
      "rowLimit": 10000
     },
     "inputWidgets": {},
     "nuid": "49100df9-4a67-415a-8cfa-86aca1d24467",
     "showTitle": false,
     "title": ""
    }
   },
   "outputs": [
    {
     "name": "stdout",
     "output_type": "stream",
     "text": [
      "+------+--------+----+---+--------+--------+------------+\n",
      "|raceId|driverId|stop|lap|    time|duration|milliseconds|\n",
      "+------+--------+----+---+--------+--------+------------+\n",
      "|   841|     153|   1|  1|17:05:23|  26.898|       26898|\n",
      "|   841|      30|   1|  1|17:05:52|  25.021|       25021|\n",
      "|   841|      17|   1| 11|17:20:48|  23.426|       23426|\n",
      "+------+--------+----+---+--------+--------+------------+\n",
      "only showing top 3 rows\n",
      "\n"
     ]
    }
   ],
   "source": [
    "from pyspark.sql.functions import col\n",
    "\n",
    "\n",
    "schema = \"raceId int, driverId int, stop String, lap int, time String, duration String, milliseconds int\"\n",
    "df = spark.read.format('json').schema(schema).option('multiLine',True).load(file_path)\n",
    "df.show(3)\n"
   ]
  },
  {
   "cell_type": "code",
   "execution_count": null,
   "metadata": {
    "application/vnd.databricks.v1+cell": {
     "cellMetadata": {
      "byteLimit": 2048000,
      "rowLimit": 10000
     },
     "inputWidgets": {},
     "nuid": "fcd9ca8c-b30f-4eca-9163-4314f11a8ce6",
     "showTitle": false,
     "title": ""
    }
   },
   "outputs": [
    {
     "name": "stdout",
     "output_type": "stream",
     "text": [
      "root\n",
      " |-- raceId: integer (nullable = true)\n",
      " |-- driverId: integer (nullable = true)\n",
      " |-- stop: string (nullable = true)\n",
      " |-- lap: integer (nullable = true)\n",
      " |-- time: string (nullable = true)\n",
      " |-- duration: string (nullable = true)\n",
      " |-- milliseconds: integer (nullable = true)\n",
      "\n"
     ]
    }
   ],
   "source": [
    "df.printSchema()"
   ]
  },
  {
   "cell_type": "code",
   "execution_count": null,
   "metadata": {
    "application/vnd.databricks.v1+cell": {
     "cellMetadata": {
      "byteLimit": 2048000,
      "rowLimit": 10000
     },
     "inputWidgets": {},
     "nuid": "97c5bc71-fa17-4c41-8b17-a0477f1bf8b9",
     "showTitle": false,
     "title": ""
    }
   },
   "outputs": [
    {
     "name": "stdout",
     "output_type": "stream",
     "text": [
      "+------+---------+----+---+--------+--------+------------+--------------------+\n",
      "|raceId|driver_id|stop|lap|    time|duration|milliseconds|      ingestion_date|\n",
      "+------+---------+----+---+--------+--------+------------+--------------------+\n",
      "|   841|      153|   1|  1|17:05:23|  26.898|       26898|2023-06-16 14:22:...|\n",
      "|   841|       30|   1|  1|17:05:52|  25.021|       25021|2023-06-16 14:22:...|\n",
      "|   841|       17|   1| 11|17:20:48|  23.426|       23426|2023-06-16 14:22:...|\n",
      "|   841|        4|   1| 12|17:22:34|  23.251|       23251|2023-06-16 14:22:...|\n",
      "+------+---------+----+---+--------+--------+------------+--------------------+\n",
      "only showing top 4 rows\n",
      "\n"
     ]
    }
   ],
   "source": [
    "from pyspark.sql.functions import current_timestamp\n",
    "new_df = df.withColumn('ingestion_date', current_timestamp())\\\n",
    "            .withColumnRenamed(\"race_id\",\"race_id\") \\\n",
    "            .withColumnRenamed(\"driverId\", \"driver_id\")\n",
    "\n",
    "new_df.show(4)"
   ]
  },
  {
   "cell_type": "code",
   "execution_count": null,
   "metadata": {
    "application/vnd.databricks.v1+cell": {
     "cellMetadata": {
      "byteLimit": 2048000,
      "rowLimit": 10000
     },
     "inputWidgets": {},
     "nuid": "55d9a3b7-ea7e-461d-8fe3-d09cd182411f",
     "showTitle": false,
     "title": ""
    }
   },
   "outputs": [
    {
     "name": "stdout",
     "output_type": "stream",
     "text": [
      "Out[65]: [FileInfo(path='dbfs:/mnt/formularacedata/processed/circuits/', name='circuits/', size=0, modificationTime=1686657879000),\n",
      " FileInfo(path='dbfs:/mnt/formularacedata/processed/constructors/', name='constructors/', size=0, modificationTime=1686899550000),\n",
      " FileInfo(path='dbfs:/mnt/formularacedata/processed/driver/', name='driver/', size=0, modificationTime=1686917781000),\n",
      " FileInfo(path='dbfs:/mnt/formularacedata/processed/pit_stops/', name='pit_stops/', size=0, modificationTime=1686925132000),\n",
      " FileInfo(path='dbfs:/mnt/formularacedata/processed/races/', name='races/', size=0, modificationTime=1686741009000)]"
     ]
    }
   ],
   "source": [
    "dbutils.fs.ls(processed_folder_path)"
   ]
  },
  {
   "cell_type": "code",
   "execution_count": null,
   "metadata": {
    "application/vnd.databricks.v1+cell": {
     "cellMetadata": {
      "byteLimit": 2048000,
      "rowLimit": 10000
     },
     "inputWidgets": {},
     "nuid": "ab0d498d-729b-4151-a407-adee3d143afa",
     "showTitle": false,
     "title": ""
    }
   },
   "outputs": [
    {
     "name": "stdout",
     "output_type": "stream",
     "text": [
      "+------+---------+----+---+--------+--------+------------+--------------------+\n",
      "|raceId|driver_id|stop|lap|    time|duration|milliseconds|      ingestion_date|\n",
      "+------+---------+----+---+--------+--------+------------+--------------------+\n",
      "|   841|      153|   1|  1|17:05:23|  26.898|       26898|2023-06-16 14:22:...|\n",
      "|   841|       30|   1|  1|17:05:52|  25.021|       25021|2023-06-16 14:22:...|\n",
      "|   841|       17|   1| 11|17:20:48|  23.426|       23426|2023-06-16 14:22:...|\n",
      "|   841|        4|   1| 12|17:22:34|  23.251|       23251|2023-06-16 14:22:...|\n",
      "+------+---------+----+---+--------+--------+------------+--------------------+\n",
      "only showing top 4 rows\n",
      "\n"
     ]
    }
   ],
   "source": [
    "new_df.show(4)"
   ]
  },
  {
   "cell_type": "code",
   "execution_count": null,
   "metadata": {
    "application/vnd.databricks.v1+cell": {
     "cellMetadata": {
      "byteLimit": 2048000,
      "rowLimit": 10000
     },
     "inputWidgets": {},
     "nuid": "cf2bcbd1-8f9a-4498-aca6-7c0fc2a49a38",
     "showTitle": false,
     "title": ""
    }
   },
   "outputs": [],
   "source": [
    "dest_path = f\"{processed_folder_path}/pit_stops\"\n",
    "new_df.write.mode(\"overwrite\").format('parquet').option('path',dest_path).save()"
   ]
  },
  {
   "cell_type": "code",
   "execution_count": null,
   "metadata": {
    "application/vnd.databricks.v1+cell": {
     "cellMetadata": {
      "byteLimit": 2048000,
      "rowLimit": 10000
     },
     "inputWidgets": {},
     "nuid": "f70b9a2e-2b40-4130-877f-6ffd7af20eec",
     "showTitle": false,
     "title": ""
    }
   },
   "outputs": [
    {
     "name": "stdout",
     "output_type": "stream",
     "text": [
      "+------+---------+----+---+--------+--------+------------+--------------------+\n",
      "|raceId|driver_id|stop|lap|    time|duration|milliseconds|      ingestion_date|\n",
      "+------+---------+----+---+--------+--------+------------+--------------------+\n",
      "|   841|      153|   1|  1|17:05:23|  26.898|       26898|2023-06-16 14:22:...|\n",
      "|   841|       30|   1|  1|17:05:52|  25.021|       25021|2023-06-16 14:22:...|\n",
      "|   841|       17|   1| 11|17:20:48|  23.426|       23426|2023-06-16 14:22:...|\n",
      "+------+---------+----+---+--------+--------+------------+--------------------+\n",
      "only showing top 3 rows\n",
      "\n"
     ]
    }
   ],
   "source": [
    "spark.read.parquet(dest_path).show(3)"
   ]
  },
  {
   "cell_type": "code",
   "execution_count": null,
   "metadata": {
    "application/vnd.databricks.v1+cell": {
     "cellMetadata": {},
     "inputWidgets": {},
     "nuid": "b2ba387a-b22b-471b-8f05-a98511004860",
     "showTitle": false,
     "title": ""
    }
   },
   "outputs": [],
   "source": [
    "dbutils.notebook.exit(\"success\")"
   ]
  }
 ],
 "metadata": {
  "application/vnd.databricks.v1+notebook": {
   "dashboards": [],
   "language": "python",
   "notebookMetadata": {
    "pythonIndentUnit": 4
   },
   "notebookName": "6-ingest-multiline-json-pitstops_file",
   "widgets": {}
  },
  "language_info": {
   "name": "python"
  }
 },
 "nbformat": 4,
 "nbformat_minor": 0
}
