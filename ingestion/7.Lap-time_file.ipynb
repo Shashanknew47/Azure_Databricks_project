{
 "cells": [
  {
   "cell_type": "code",
   "execution_count": 0,
   "metadata": {
    "application/vnd.databricks.v1+cell": {
     "cellMetadata": {
      "byteLimit": 2048000,
      "rowLimit": 10000
     },
     "inputWidgets": {},
     "nuid": "790f9459-b599-4d44-9454-f39a22b7ac57",
     "showTitle": false,
     "title": ""
    }
   },
   "outputs": [],
   "source": [
    "dbutils.widgets.text(\"p_data_source\",\"\")\n",
    "v_data_source = dbutils.widgets.get(\"p_data_source\")"
   ]
  },
  {
   "cell_type": "code",
   "execution_count": 0,
   "metadata": {
    "application/vnd.databricks.v1+cell": {
     "cellMetadata": {
      "byteLimit": 2048000,
      "rowLimit": 10000
     },
     "inputWidgets": {},
     "nuid": "22d4ff6c-c100-436f-81e2-3fdeb2ab7cd2",
     "showTitle": false,
     "title": ""
    }
   },
   "outputs": [
    {
     "output_type": "stream",
     "name": "stdout",
     "output_type": "stream",
     "text": [
      "Out[2]: [FileInfo(path='dbfs:/mnt/formularacedata/presentation/', name='presentation/', size=0, modificationTime=0),\n FileInfo(path='dbfs:/mnt/formularacedata/processed/', name='processed/', size=0, modificationTime=0),\n FileInfo(path='dbfs:/mnt/formularacedata/raw/', name='raw/', size=0, modificationTime=0)]"
     ]
    }
   ],
   "source": [
    "%run \"/Formula1/includes/configuration\""
   ]
  },
  {
   "cell_type": "code",
   "execution_count": 0,
   "metadata": {
    "application/vnd.databricks.v1+cell": {
     "cellMetadata": {
      "byteLimit": 2048000,
      "rowLimit": 10000
     },
     "inputWidgets": {},
     "nuid": "a8ff9282-9449-4d40-8726-0a735f0de47e",
     "showTitle": false,
     "title": ""
    }
   },
   "outputs": [],
   "source": [
    "%run \"/Formula1/includes/common_functions\""
   ]
  },
  {
   "cell_type": "code",
   "execution_count": 0,
   "metadata": {
    "application/vnd.databricks.v1+cell": {
     "cellMetadata": {
      "byteLimit": 2048000,
      "rowLimit": 10000
     },
     "inputWidgets": {},
     "nuid": "9afe2d99-8cb8-4770-85b8-a863594fc9a8",
     "showTitle": false,
     "title": ""
    }
   },
   "outputs": [],
   "source": [
    "schema = \"race_id int, driver_id int, lap int, position int, time String, milliseconds int\"\n",
    "file_path = f'{raw_folder_path}/lap_times/'"
   ]
  },
  {
   "cell_type": "code",
   "execution_count": 0,
   "metadata": {
    "application/vnd.databricks.v1+cell": {
     "cellMetadata": {
      "byteLimit": 2048000,
      "rowLimit": 10000
     },
     "inputWidgets": {},
     "nuid": "928e1112-764d-4449-9532-aa5f9c5b2276",
     "showTitle": false,
     "title": ""
    }
   },
   "outputs": [
    {
     "output_type": "stream",
     "name": "stdout",
     "output_type": "stream",
     "text": [
      "+-------+---------+---+--------+--------+------------+\n|race_id|driver_id|lap|position|    time|milliseconds|\n+-------+---------+---+--------+--------+------------+\n|    841|       20|  1|       1|1:38.109|       98109|\n|    841|       20|  2|       1|1:33.006|       93006|\n|    841|       20|  3|       1|1:32.713|       92713|\n|    841|       20|  4|       1|1:32.803|       92803|\n+-------+---------+---+--------+--------+------------+\nonly showing top 4 rows\n\n"
     ]
    }
   ],
   "source": [
    "df = spark.read.format('csv').schema(schema).load(file_path)\n",
    "df.show(4)"
   ]
  },
  {
   "cell_type": "code",
   "execution_count": 0,
   "metadata": {
    "application/vnd.databricks.v1+cell": {
     "cellMetadata": {
      "byteLimit": 2048000,
      "rowLimit": 10000
     },
     "inputWidgets": {},
     "nuid": "f1b70982-fbe6-472f-886c-016674d494b4",
     "showTitle": false,
     "title": ""
    }
   },
   "outputs": [],
   "source": [
    "merge_condition = \"tgt.race_id = src.race_id AND tgt.driver_id = src.driver_id AND tgt.lap = src.lap AND tgt.race_id = src.race_id\"\n",
    "merge_delta_data(df, 'f1_processed', 'lap_times', processed_folder_path, merge_condition, 'race_id')\n"
   ]
  },
  {
   "cell_type": "code",
   "execution_count": 0,
   "metadata": {
    "application/vnd.databricks.v1+cell": {
     "cellMetadata": {
      "byteLimit": 2048000,
      "implicitDf": true,
      "rowLimit": 10000
     },
     "inputWidgets": {},
     "nuid": "74a6e88d-589f-4a14-a2b0-1f34f7d438fb",
     "showTitle": false,
     "title": ""
    }
   },
   "outputs": [
    {
     "output_type": "display_data",
     "data": {
      "text/html": [
       "<style scoped>\n",
       "  .table-result-container {\n",
       "    max-height: 300px;\n",
       "    overflow: auto;\n",
       "  }\n",
       "  table, th, td {\n",
       "    border: 1px solid black;\n",
       "    border-collapse: collapse;\n",
       "  }\n",
       "  th, td {\n",
       "    padding: 5px;\n",
       "  }\n",
       "  th {\n",
       "    text-align: left;\n",
       "  }\n",
       "</style><div class='table-result-container'><table class='table-result'><thead style='background-color: white'><tr><th>race_id</th><th>driver_id</th><th>lap</th><th>position</th><th>time</th><th>milliseconds</th></tr></thead><tbody><tr><td>841</td><td>20</td><td>1</td><td>1</td><td>1:38.109</td><td>98109</td></tr><tr><td>841</td><td>20</td><td>2</td><td>1</td><td>1:33.006</td><td>93006</td></tr><tr><td>841</td><td>20</td><td>3</td><td>1</td><td>1:32.713</td><td>92713</td></tr><tr><td>841</td><td>20</td><td>4</td><td>1</td><td>1:32.803</td><td>92803</td></tr><tr><td>841</td><td>20</td><td>5</td><td>1</td><td>1:32.342</td><td>92342</td></tr></tbody></table></div>"
      ]
     },
     "metadata": {
      "application/vnd.databricks.v1+output": {
       "addedWidgets": {},
       "aggData": [],
       "aggError": "",
       "aggOverflow": false,
       "aggSchema": [],
       "aggSeriesLimitReached": false,
       "aggType": "",
       "arguments": {},
       "columnCustomDisplayInfos": {},
       "data": [
        [
         841,
         20,
         1,
         1,
         "1:38.109",
         98109
        ],
        [
         841,
         20,
         2,
         1,
         "1:33.006",
         93006
        ],
        [
         841,
         20,
         3,
         1,
         "1:32.713",
         92713
        ],
        [
         841,
         20,
         4,
         1,
         "1:32.803",
         92803
        ],
        [
         841,
         20,
         5,
         1,
         "1:32.342",
         92342
        ]
       ],
       "datasetInfos": [],
       "dbfsResultPath": null,
       "isJsonSchema": true,
       "metadata": {},
       "overflow": false,
       "plotOptions": {
        "customPlotOptions": {},
        "displayType": "table",
        "pivotAggregation": null,
        "pivotColumns": null,
        "xColumns": null,
        "yColumns": null
       },
       "removedWidgets": [],
       "schema": [
        {
         "metadata": "{}",
         "name": "race_id",
         "type": "\"integer\""
        },
        {
         "metadata": "{}",
         "name": "driver_id",
         "type": "\"integer\""
        },
        {
         "metadata": "{}",
         "name": "lap",
         "type": "\"integer\""
        },
        {
         "metadata": "{}",
         "name": "position",
         "type": "\"integer\""
        },
        {
         "metadata": "{}",
         "name": "time",
         "type": "\"string\""
        },
        {
         "metadata": "{}",
         "name": "milliseconds",
         "type": "\"integer\""
        }
       ],
       "type": "table"
      }
     },
     "output_type": "display_data"
    }
   ],
   "source": [
    "%sql\n",
    "SELECT * FROM f1_processed.lap_times LIMIT 5"
   ]
  },
  {
   "cell_type": "code",
   "execution_count": 0,
   "metadata": {
    "application/vnd.databricks.v1+cell": {
     "cellMetadata": {
      "byteLimit": 2048000,
      "rowLimit": 10000
     },
     "inputWidgets": {},
     "nuid": "04227810-f01d-48bf-a73c-2bef2905c099",
     "showTitle": false,
     "title": ""
    }
   },
   "outputs": [
    {
     "output_type": "display_data",
     "data": {
      "text/plain": [
       "success"
      ]
     },
     "metadata": {
      "application/vnd.databricks.v1+output": {
       "arguments": {},
       "data": "success",
       "metadata": {},
       "type": "exit"
      }
     },
     "output_type": "display_data"
    }
   ],
   "source": [
    "dbutils.notebook.exit(\"success\")"
   ]
  }
 ],
 "metadata": {
  "application/vnd.databricks.v1+notebook": {
   "dashboards": [],
   "language": "python",
   "notebookMetadata": {
    "mostRecentlyExecutedCommandWithImplicitDF": {
     "commandId": 1914236682977997,
     "dataframes": [
      "_sqldf"
     ]
    },
    "pythonIndentUnit": 4
   },
   "notebookName": "7.Lap-time_file",
   "widgets": {
    "p_data_source": {
     "currentValue": "",
     "nuid": "51c45dd2-9c2d-4ae6-9e32-04a1f4084352",
     "widgetInfo": {
      "widgetType": "text",
      "defaultValue": "",
      "label": null,
      "name": "p_data_source",
      "options": {
       "widgetType": "text",
       "validationRegex": null
      }
     }
    }
   }
  }
 },
 "nbformat": 4,
 "nbformat_minor": 0
}
