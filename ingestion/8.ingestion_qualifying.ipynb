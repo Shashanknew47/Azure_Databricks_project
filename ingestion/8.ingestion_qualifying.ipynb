{
 "cells": [
  {
   "cell_type": "code",
   "execution_count": 0,
   "metadata": {
    "application/vnd.databricks.v1+cell": {
     "cellMetadata": {
      "byteLimit": 2048000,
      "rowLimit": 10000
     },
     "inputWidgets": {},
     "nuid": "62e184b0-7934-4a46-bd99-ed548b153623",
     "showTitle": false,
     "title": ""
    }
   },
   "outputs": [],
   "source": [
    "dbutils.widgets.text(\"p_data_source\",\"\")\n",
    "v_data_source = dbutils.widgets.get(\"p_data_source\")"
   ]
  },
  {
   "cell_type": "code",
   "execution_count": 0,
   "metadata": {
    "application/vnd.databricks.v1+cell": {
     "cellMetadata": {
      "byteLimit": 2048000,
      "rowLimit": 10000
     },
     "inputWidgets": {},
     "nuid": "251a630b-94cc-47a4-a54f-3c0e024afad0",
     "showTitle": false,
     "title": ""
    }
   },
   "outputs": [],
   "source": [
    "dbutils.widgets.text(\"p_file_date\", \"2021-03-21\")\n",
    "v_file_date = dbutils.widgets.get(\"p_file_date\")"
   ]
  },
  {
   "cell_type": "code",
   "execution_count": 0,
   "metadata": {
    "application/vnd.databricks.v1+cell": {
     "cellMetadata": {
      "byteLimit": 2048000,
      "rowLimit": 10000
     },
     "inputWidgets": {},
     "nuid": "a8a99e6a-ab38-4d59-957d-c7b2c6696f9e",
     "showTitle": false,
     "title": ""
    }
   },
   "outputs": [
    {
     "output_type": "stream",
     "name": "stdout",
     "output_type": "stream",
     "text": [
      "Out[17]: [FileInfo(path='dbfs:/mnt/formularacedata/presentation/', name='presentation/', size=0, modificationTime=0),\n FileInfo(path='dbfs:/mnt/formularacedata/processed/', name='processed/', size=0, modificationTime=0),\n FileInfo(path='dbfs:/mnt/formularacedata/raw/', name='raw/', size=0, modificationTime=0)]"
     ]
    }
   ],
   "source": [
    "%run \"/Formula1/includes/configuration\""
   ]
  },
  {
   "cell_type": "code",
   "execution_count": 0,
   "metadata": {
    "application/vnd.databricks.v1+cell": {
     "cellMetadata": {
      "byteLimit": 2048000,
      "rowLimit": 10000
     },
     "inputWidgets": {},
     "nuid": "983daf4b-db65-4491-b7ce-cb73a75200c3",
     "showTitle": false,
     "title": ""
    }
   },
   "outputs": [],
   "source": [
    "%run \"/Formula1/includes/common_functions\""
   ]
  },
  {
   "cell_type": "code",
   "execution_count": 0,
   "metadata": {
    "application/vnd.databricks.v1+cell": {
     "cellMetadata": {
      "byteLimit": 2048000,
      "rowLimit": 10000
     },
     "inputWidgets": {},
     "nuid": "970a32ad-06a7-43f2-81e4-3b11b21beb25",
     "showTitle": false,
     "title": ""
    }
   },
   "outputs": [
    {
     "output_type": "stream",
     "name": "stdout",
     "output_type": "stream",
     "text": [
      "+---------+------+--------+-------------+------+--------+--------+--------+\n|qualifyId|raceId|driverId|constructorId|number|      q1|      q2|      q3|\n+---------+------+--------+-------------+------+--------+--------+--------+\n|        1|    18|       1|            1|    22|1:26.572|1:25.187|1:26.714|\n|        2|    18|       9|            2|     4|1:26.103|1:25.315|1:26.869|\n|        3|    18|       5|            1|    23|1:25.664|1:25.452|1:27.079|\n+---------+------+--------+-------------+------+--------+--------+--------+\nonly showing top 3 rows\n\n"
     ]
    }
   ],
   "source": [
    "schema = 'qualifyId int, raceId int, driverId int, constructorId int, number int, q1 String, q2 STring, q3 String'\n",
    "file_name = f'{raw_folder_path}/qualifying/'\n",
    "\n",
    "df = spark.read.format('json').option('multiLine',True).schema(schema).load(file_name)\n",
    "df.show(3)"
   ]
  },
  {
   "cell_type": "code",
   "execution_count": 0,
   "metadata": {
    "application/vnd.databricks.v1+cell": {
     "cellMetadata": {
      "byteLimit": 2048000,
      "rowLimit": 10000
     },
     "inputWidgets": {},
     "nuid": "303334e8-89ee-4214-aa18-b336c00a5344",
     "showTitle": false,
     "title": ""
    }
   },
   "outputs": [
    {
     "output_type": "stream",
     "name": "stdout",
     "output_type": "stream",
     "text": [
      "+----------+-------+---------+--------------+------+--------+--------+--------+--------------------+-----------+----------+\n|qualify_id|race_id|driver_id|constructor_id|number|      q1|      q2|      q3|      ingestion_date|data_source| file_date|\n+----------+-------+---------+--------------+------+--------+--------+--------+--------------------+-----------+----------+\n|         1|     18|        1|             1|    22|1:26.572|1:25.187|1:26.714|2023-06-29 20:50:...| Ergast_api|2021-03-21|\n|         2|     18|        9|             2|     4|1:26.103|1:25.315|1:26.869|2023-06-29 20:50:...| Ergast_api|2021-03-21|\n|         3|     18|        5|             1|    23|1:25.664|1:25.452|1:27.079|2023-06-29 20:50:...| Ergast_api|2021-03-21|\n|         4|     18|       13|             6|     2|1:25.994|1:25.691|1:27.178|2023-06-29 20:50:...| Ergast_api|2021-03-21|\n+----------+-------+---------+--------------+------+--------+--------+--------+--------------------+-----------+----------+\nonly showing top 4 rows\n\n"
     ]
    }
   ],
   "source": [
    "from pyspark.sql.functions import current_timestamp\n",
    "from pyspark.sql.functions import lit\n",
    "\n",
    "\n",
    "df_new = df.withColumnRenamed('qualifyId','qualify_id')\\\n",
    "            .withColumnRenamed('raceId','race_id') \\\n",
    "            .withColumnRenamed('driverId','driver_id') \\\n",
    "            .withColumnRenamed('constructorId', 'constructor_id')  \\\n",
    "            .withColumn('ingestion_date',current_timestamp()) \\\n",
    "            .withColumn(\"data_source\", lit(v_data_source)) \\\n",
    "            .withColumn(\"file_date\", lit(v_file_date))\n",
    "\n",
    "\n",
    "df_new.show(4)\n",
    "            "
   ]
  },
  {
   "cell_type": "code",
   "execution_count": 0,
   "metadata": {
    "application/vnd.databricks.v1+cell": {
     "cellMetadata": {
      "byteLimit": 2048000,
      "rowLimit": 10000
     },
     "inputWidgets": {},
     "nuid": "6f96d632-ed3c-445f-b277-3a2eb7518f91",
     "showTitle": false,
     "title": ""
    }
   },
   "outputs": [
    {
     "output_type": "stream",
     "name": "stdout",
     "output_type": "stream",
     "text": [
      "Out[24]: 8694"
     ]
    }
   ],
   "source": [
    "df_new.count()"
   ]
  },
  {
   "cell_type": "code",
   "execution_count": 0,
   "metadata": {
    "application/vnd.databricks.v1+cell": {
     "cellMetadata": {
      "byteLimit": 2048000,
      "rowLimit": 10000
     },
     "inputWidgets": {},
     "nuid": "9665a9e8-de76-4fb6-841d-a8af7f0003f7",
     "showTitle": false,
     "title": ""
    }
   },
   "outputs": [],
   "source": [
    "merge_condition = \"tgt.qualify_id = src.qualify_id AND tgt.race_id = src.race_id\"\n",
    "merge_delta_data(df_new, 'f1_processed', 'qualifying', processed_folder_path, merge_condition, 'race_id')\n"
   ]
  },
  {
   "cell_type": "code",
   "execution_count": 0,
   "metadata": {
    "application/vnd.databricks.v1+cell": {
     "cellMetadata": {
      "byteLimit": 2048000,
      "implicitDf": true,
      "rowLimit": 10000
     },
     "inputWidgets": {},
     "nuid": "71d872fc-72c6-4fbf-a3a4-746b63a0a4c9",
     "showTitle": false,
     "title": ""
    }
   },
   "outputs": [
    {
     "output_type": "display_data",
     "data": {
      "text/html": [
       "<style scoped>\n",
       "  .table-result-container {\n",
       "    max-height: 300px;\n",
       "    overflow: auto;\n",
       "  }\n",
       "  table, th, td {\n",
       "    border: 1px solid black;\n",
       "    border-collapse: collapse;\n",
       "  }\n",
       "  th, td {\n",
       "    padding: 5px;\n",
       "  }\n",
       "  th {\n",
       "    text-align: left;\n",
       "  }\n",
       "</style><div class='table-result-container'><table class='table-result'><thead style='background-color: white'><tr><th>qualify_id</th><th>race_id</th><th>driver_id</th><th>constructor_id</th><th>number</th><th>q1</th><th>q2</th><th>q3</th><th>ingestion_date</th><th>data_source</th><th>file_date</th></tr></thead><tbody><tr><td>4537</td><td>841</td><td>20</td><td>9</td><td>1</td><td>1:25.296</td><td>1:24.090</td><td>1:23.529</td><td>2023-06-29T20:50:41.372+0000</td><td>Ergast_api</td><td>2021-03-21</td></tr><tr><td>4538</td><td>841</td><td>1</td><td>1</td><td>3</td><td>1:25.384</td><td>1:24.595</td><td>1:24.307</td><td>2023-06-29T20:50:41.372+0000</td><td>Ergast_api</td><td>2021-03-21</td></tr><tr><td>4539</td><td>841</td><td>17</td><td>9</td><td>2</td><td>1:25.900</td><td>1:24.658</td><td>1:24.395</td><td>2023-06-29T20:50:41.372+0000</td><td>Ergast_api</td><td>2021-03-21</td></tr><tr><td>4540</td><td>841</td><td>18</td><td>1</td><td>4</td><td>1:25.886</td><td>1:24.957</td><td>1:24.779</td><td>2023-06-29T20:50:41.372+0000</td><td>Ergast_api</td><td>2021-03-21</td></tr></tbody></table></div>"
      ]
     },
     "metadata": {
      "application/vnd.databricks.v1+output": {
       "addedWidgets": {},
       "aggData": [],
       "aggError": "",
       "aggOverflow": false,
       "aggSchema": [],
       "aggSeriesLimitReached": false,
       "aggType": "",
       "arguments": {},
       "columnCustomDisplayInfos": {},
       "data": [
        [
         4537,
         841,
         20,
         9,
         1,
         "1:25.296",
         "1:24.090",
         "1:23.529",
         "2023-06-29T20:50:41.372+0000",
         "Ergast_api",
         "2021-03-21"
        ],
        [
         4538,
         841,
         1,
         1,
         3,
         "1:25.384",
         "1:24.595",
         "1:24.307",
         "2023-06-29T20:50:41.372+0000",
         "Ergast_api",
         "2021-03-21"
        ],
        [
         4539,
         841,
         17,
         9,
         2,
         "1:25.900",
         "1:24.658",
         "1:24.395",
         "2023-06-29T20:50:41.372+0000",
         "Ergast_api",
         "2021-03-21"
        ],
        [
         4540,
         841,
         18,
         1,
         4,
         "1:25.886",
         "1:24.957",
         "1:24.779",
         "2023-06-29T20:50:41.372+0000",
         "Ergast_api",
         "2021-03-21"
        ]
       ],
       "datasetInfos": [],
       "dbfsResultPath": null,
       "isJsonSchema": true,
       "metadata": {},
       "overflow": false,
       "plotOptions": {
        "customPlotOptions": {},
        "displayType": "table",
        "pivotAggregation": null,
        "pivotColumns": null,
        "xColumns": null,
        "yColumns": null
       },
       "removedWidgets": [],
       "schema": [
        {
         "metadata": "{}",
         "name": "qualify_id",
         "type": "\"integer\""
        },
        {
         "metadata": "{}",
         "name": "race_id",
         "type": "\"integer\""
        },
        {
         "metadata": "{}",
         "name": "driver_id",
         "type": "\"integer\""
        },
        {
         "metadata": "{}",
         "name": "constructor_id",
         "type": "\"integer\""
        },
        {
         "metadata": "{}",
         "name": "number",
         "type": "\"integer\""
        },
        {
         "metadata": "{}",
         "name": "q1",
         "type": "\"string\""
        },
        {
         "metadata": "{}",
         "name": "q2",
         "type": "\"string\""
        },
        {
         "metadata": "{}",
         "name": "q3",
         "type": "\"string\""
        },
        {
         "metadata": "{}",
         "name": "ingestion_date",
         "type": "\"timestamp\""
        },
        {
         "metadata": "{}",
         "name": "data_source",
         "type": "\"string\""
        },
        {
         "metadata": "{}",
         "name": "file_date",
         "type": "\"string\""
        }
       ],
       "type": "table"
      }
     },
     "output_type": "display_data"
    }
   ],
   "source": [
    "%sql\n",
    "\n",
    "SELECT * FROM f1_processed.qualifying LIMIT 4"
   ]
  },
  {
   "cell_type": "code",
   "execution_count": 0,
   "metadata": {
    "application/vnd.databricks.v1+cell": {
     "cellMetadata": {
      "byteLimit": 2048000,
      "rowLimit": 10000
     },
     "inputWidgets": {},
     "nuid": "1d647a88-8966-486f-a16c-8671c28e6fe6",
     "showTitle": false,
     "title": ""
    }
   },
   "outputs": [
    {
     "output_type": "display_data",
     "data": {
      "text/plain": [
       "success"
      ]
     },
     "metadata": {
      "application/vnd.databricks.v1+output": {
       "arguments": {},
       "data": "success",
       "metadata": {},
       "type": "exit"
      }
     },
     "output_type": "display_data"
    }
   ],
   "source": [
    "dbutils.notebook.exit(\"success\")"
   ]
  }
 ],
 "metadata": {
  "application/vnd.databricks.v1+notebook": {
   "dashboards": [],
   "language": "python",
   "notebookMetadata": {
    "mostRecentlyExecutedCommandWithImplicitDF": {
     "commandId": 1914236682978006,
     "dataframes": [
      "_sqldf"
     ]
    },
    "pythonIndentUnit": 4
   },
   "notebookName": "8.ingestion_qualifying",
   "widgets": {
    "p_data_source": {
     "currentValue": "Ergast_api",
     "nuid": "cc96b21f-78cc-4522-9411-d1e092f97c20",
     "widgetInfo": {
      "widgetType": "text",
      "defaultValue": "",
      "label": null,
      "name": "p_data_source",
      "options": {
       "widgetType": "text",
       "validationRegex": null
      }
     }
    },
    "p_file_date": {
     "currentValue": "2021-03-21",
     "nuid": "5f6bd22b-9b57-4b3c-86ec-f493d2b3a1c7",
     "widgetInfo": {
      "widgetType": "text",
      "defaultValue": "2021-03-21",
      "label": null,
      "name": "p_file_date",
      "options": {
       "widgetType": "text",
       "validationRegex": null
      }
     }
    }
   }
  }
 },
 "nbformat": 4,
 "nbformat_minor": 0
}
