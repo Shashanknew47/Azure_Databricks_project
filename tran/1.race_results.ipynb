{
 "cells": [
  {
   "cell_type": "code",
   "execution_count": 0,
   "metadata": {
    "application/vnd.databricks.v1+cell": {
     "cellMetadata": {
      "byteLimit": 2048000,
      "rowLimit": 10000
     },
     "inputWidgets": {},
     "nuid": "1d323d0e-b03d-4f0f-84f9-75b84c6129a6",
     "showTitle": false,
     "title": ""
    }
   },
   "outputs": [
    {
     "output_type": "stream",
     "name": "stdout",
     "output_type": "stream",
     "text": [
      "Out[15]: [FileInfo(path='dbfs:/mnt/formularacedata/presentation/', name='presentation/', size=0, modificationTime=0),\n FileInfo(path='dbfs:/mnt/formularacedata/processed/', name='processed/', size=0, modificationTime=0),\n FileInfo(path='dbfs:/mnt/formularacedata/raw/', name='raw/', size=0, modificationTime=0)]"
     ]
    }
   ],
   "source": [
    "%run \"/Formula1/includes/configuration\""
   ]
  },
  {
   "cell_type": "code",
   "execution_count": 0,
   "metadata": {
    "application/vnd.databricks.v1+cell": {
     "cellMetadata": {
      "byteLimit": 2048000,
      "rowLimit": 10000
     },
     "inputWidgets": {},
     "nuid": "f345d844-65f1-46df-b5d4-dfd4845b9421",
     "showTitle": false,
     "title": ""
    }
   },
   "outputs": [],
   "source": [
    "%run \"/Formula1/includes/common_functions\""
   ]
  },
  {
   "cell_type": "markdown",
   "metadata": {
    "application/vnd.databricks.v1+cell": {
     "cellMetadata": {
      "byteLimit": 2048000,
      "rowLimit": 10000
     },
     "inputWidgets": {},
     "nuid": "1e08d52b-b72a-4d27-9d66-77f8a14e24b0",
     "showTitle": false,
     "title": ""
    }
   },
   "source": [
    "- results_path = '/mnt/formularacedata/processed/results'\n",
    "- driver_path = '/mnt/formularacedata/processed/drivers/'\n",
    "- races_path = '/mnt/formularacedata/processed/races/'\n",
    "- circuits_path = '/mnt/formularacedata/processed/circuits/'\n",
    "- constructors_path = '/mnt/formularacedata/processed/constructors/'"
   ]
  },
  {
   "cell_type": "code",
   "execution_count": 0,
   "metadata": {
    "application/vnd.databricks.v1+cell": {
     "cellMetadata": {
      "byteLimit": 2048000,
      "rowLimit": 10000
     },
     "inputWidgets": {},
     "nuid": "d788d5dc-cefe-4f16-b96e-acf05b2b8f09",
     "showTitle": false,
     "title": ""
    }
   },
   "outputs": [
    {
     "output_type": "stream",
     "name": "stdout",
     "output_type": "stream",
     "text": [
      "+---------+---------------+---------+--------------+-------------+----+--------+-------------+--------------+------+----+---------+------------+-----------+----+----------------+-----------------+--------------------+\n|result_id|results_race_id|driver_id|constructor_id|result_number|grid|position|position_text|position_order|points|laps|race_time|milliseconds|fastest_lap|rank|fastest_lap_time|fastest_lap_speed|      ingestion_date|\n+---------+---------------+---------+--------------+-------------+----+--------+-------------+--------------+------+----+---------+------------+-----------+----+----------------+-----------------+--------------------+\n|     7573|              1|        1|             1|            1|  18|    null|            D|            20|   0.0|  58|       \\N|        null|         39|  13|        1:29.020|              214|2023-06-29 19:38:...|\n|     7563|              1|        2|             2|            6|   9|      10|           10|            10|   0.0|  58|   +7.085|     5662869|         48|   5|        1:28.283|              216|2023-06-29 19:38:...|\n|     7559|              1|        3|             3|           16|   5|       6|            6|             6|   3.0|  58|   +5.722|     5661506|         48|   1|        1:27.706|              218|2023-06-29 19:38:...|\n+---------+---------------+---------+--------------+-------------+----+--------+-------------+--------------+------+----+---------+------------+-----------+----+----------------+-----------------+--------------------+\nonly showing top 3 rows\n\n"
     ]
    }
   ],
   "source": [
    "results_df = spark.read.format('delta').load(results_path).withColumnRenamed('number','result_number').withColumnRenamed(\"race_id\",\"results_race_id\").withColumnRenamed(\"time\",\"race_time\")\n",
    "results_df.show(3)"
   ]
  },
  {
   "cell_type": "code",
   "execution_count": 0,
   "metadata": {
    "application/vnd.databricks.v1+cell": {
     "cellMetadata": {},
     "inputWidgets": {},
     "nuid": "266d4df2-e9f0-483a-9476-8ef2b6383157",
     "showTitle": false,
     "title": ""
    }
   },
   "outputs": [],
   "source": [
    "driver_df = spark.read.format('delta').load(driver_path).withColumnRenamed(\"name\",\"driver_name\").withColumnRenamed(\"number\",\"driver_number\").withColumnRenamed(\"nationality\",\"driver_nationality\")\n"
   ]
  },
  {
   "cell_type": "code",
   "execution_count": 0,
   "metadata": {
    "application/vnd.databricks.v1+cell": {
     "cellMetadata": {},
     "inputWidgets": {},
     "nuid": "1cd6258b-0603-4746-9a77-2c3db65d21d3",
     "showTitle": false,
     "title": ""
    }
   },
   "outputs": [],
   "source": [
    "from pyspark.sql.functions import to_date,col\n",
    "\n",
    "races_df = spark.read.format('delta').load(races_path).withColumnRenamed(\"name\",\"race_name\").withColumn(\"race_date\",to_date(col(\"race_timestamp\")))"
   ]
  },
  {
   "cell_type": "code",
   "execution_count": 0,
   "metadata": {
    "application/vnd.databricks.v1+cell": {
     "cellMetadata": {},
     "inputWidgets": {},
     "nuid": "80eba99a-e1b2-46b1-a4aa-6b6c70798098",
     "showTitle": false,
     "title": ""
    }
   },
   "outputs": [],
   "source": [
    "circuits_df = spark.read.format('delta').load(circuits_path).withColumnRenamed('location','circuit_location')"
   ]
  },
  {
   "cell_type": "code",
   "execution_count": 0,
   "metadata": {
    "application/vnd.databricks.v1+cell": {
     "cellMetadata": {},
     "inputWidgets": {},
     "nuid": "8ca130f5-5a0a-4a3c-9451-5a2fc4d7488d",
     "showTitle": false,
     "title": ""
    }
   },
   "outputs": [],
   "source": [
    "constructors_df = spark.read.format('delta').load(constructors_path).withColumnRenamed(\"name\",\"team\")"
   ]
  },
  {
   "cell_type": "code",
   "execution_count": 0,
   "metadata": {
    "application/vnd.databricks.v1+cell": {
     "cellMetadata": {},
     "inputWidgets": {},
     "nuid": "cb9cc253-e704-4efc-9a08-9df24743f054",
     "showTitle": false,
     "title": ""
    }
   },
   "outputs": [],
   "source": [
    "from pyspark.sql.functions import current_timestamp\n",
    "\n",
    "df = results_df.join(races_df,results_df.results_race_id == races_df.race_id,\"inner\") \\\n",
    "               .join(driver_df,results_df.driver_id == driver_df.driver_id,\"inner\") \\\n",
    "                .join (constructors_df,results_df.constructor_id == constructors_df.constructor_id, \"inner\") \\\n",
    "                .join (circuits_df, races_df.circuit_id == circuits_df.circuit_id, \"inner\") \\\n",
    "                .withColumn(\"created_date\",current_timestamp())\n",
    "\n",
    "race_results_df = df.select(\"race_id\",\"race_year\",\"race_name\",\"race_date\",\"circuit_location\",\"driver_name\",\"driver_number\",\"driver_nationality\",\"team\",\"grid\",\"fastest_lap\",\"race_time\",\"points\",\"position\",\"created_date\").orderBy(df.race_year.desc(),df.race_name,df.points.desc())"
   ]
  },
  {
   "cell_type": "code",
   "execution_count": 0,
   "metadata": {
    "application/vnd.databricks.v1+cell": {
     "cellMetadata": {
      "byteLimit": 2048000,
      "rowLimit": 10000
     },
     "inputWidgets": {},
     "nuid": "c7c5af9e-19ea-4ba1-8a83-64ff1dbf384e",
     "showTitle": false,
     "title": ""
    }
   },
   "outputs": [
    {
     "output_type": "stream",
     "name": "stdout",
     "output_type": "stream",
     "text": [
      "+-------+---------+--------------------+----------+----------------+---------------+-------------+------------------+--------+----+-----------+-----------+------+--------+--------------------+\n|race_id|race_year|           race_name| race_date|circuit_location|    driver_name|driver_number|driver_nationality|    team|grid|fastest_lap|  race_time|points|position|        created_date|\n+-------+---------+--------------------+----------+----------------+---------------+-------------+------------------+--------+----+-----------+-----------+------+--------+--------------------+\n|   1047|     2020|Abu Dhabi Grand Prix|2020-12-13|       Abu Dhabi| Max Verstappen|           33|             Dutch|Red Bull|   1|         14|1:36:28.645|  25.0|       1|2023-06-29 21:14:...|\n|   1047|     2020|Abu Dhabi Grand Prix|2020-12-13|       Abu Dhabi|Valtteri Bottas|           77|           Finnish|Mercedes|   2|         40|    +15.976|  18.0|       2|2023-06-29 21:14:...|\n|   1047|     2020|Abu Dhabi Grand Prix|2020-12-13|       Abu Dhabi| Lewis Hamilton|           44|           British|Mercedes|   3|         37|    +18.415|  15.0|       3|2023-06-29 21:14:...|\n+-------+---------+--------------------+----------+----------------+---------------+-------------+------------------+--------+----+-----------+-----------+------+--------+--------------------+\nonly showing top 3 rows\n\n"
     ]
    }
   ],
   "source": [
    "from pyspark.sql.functions import col,expr\n",
    "\n",
    "race_results_df.filter(expr(\"race_name = 'Abu Dhabi Grand Prix' and race_year = 2020\")).orderBy(expr(\"points\").desc()).show(3)"
   ]
  },
  {
   "cell_type": "code",
   "execution_count": 0,
   "metadata": {
    "application/vnd.databricks.v1+cell": {
     "cellMetadata": {
      "byteLimit": 2048000,
      "rowLimit": 10000
     },
     "inputWidgets": {},
     "nuid": "a41498f2-6c26-4138-a967-f617e705c9b2",
     "showTitle": false,
     "title": ""
    }
   },
   "outputs": [
    {
     "output_type": "stream",
     "name": "stdout",
     "output_type": "stream",
     "text": [
      "Out[33]: 4465"
     ]
    }
   ],
   "source": [
    "from pyspark.sql.functions import col,expr\n",
    "\n",
    "race_results_df.filter(expr(\"race_date is not null and driver_number is not null\")).count()"
   ]
  },
  {
   "cell_type": "code",
   "execution_count": 0,
   "metadata": {
    "application/vnd.databricks.v1+cell": {
     "cellMetadata": {
      "byteLimit": 2048000,
      "rowLimit": 10000
     },
     "inputWidgets": {},
     "nuid": "a680e897-5145-4536-af2e-3ade4da7269a",
     "showTitle": false,
     "title": ""
    }
   },
   "outputs": [],
   "source": [
    "merge_condition = \"tgt.driver_name = src.driver_name AND tgt.race_id = src.race_id\"\n",
    "merge_delta_data(race_results_df, 'f1_presentation', 'race_results', presentation_folder_path, merge_condition, 'race_id')"
   ]
  },
  {
   "cell_type": "code",
   "execution_count": 0,
   "metadata": {
    "application/vnd.databricks.v1+cell": {
     "cellMetadata": {},
     "inputWidgets": {},
     "nuid": "cc24f23c-6135-4d76-9e96-e1eb86f2da8d",
     "showTitle": false,
     "title": ""
    }
   },
   "outputs": [],
   "source": []
  }
 ],
 "metadata": {
  "application/vnd.databricks.v1+notebook": {
   "dashboards": [
    {
     "elements": [],
     "globalVars": {},
     "guid": "cf5c1c48-389a-467e-bded-6a1e00e2099a",
     "layoutOption": {
      "grid": true,
      "stack": true
     },
     "nuid": "45af885a-f277-4d56-83b4-a48e57ce5016",
     "origId": 2556906928273579,
     "title": "Untitled",
     "version": "DashboardViewV1",
     "width": 1024
    }
   ],
   "language": "python",
   "notebookMetadata": {
    "mostRecentlyExecutedCommandWithImplicitDF": {
     "commandId": 2556906928273567,
     "dataframes": [
      "_sqldf"
     ]
    },
    "pythonIndentUnit": 4
   },
   "notebookName": "1.race_results",
   "widgets": {}
  }
 },
 "nbformat": 4,
 "nbformat_minor": 0
}
